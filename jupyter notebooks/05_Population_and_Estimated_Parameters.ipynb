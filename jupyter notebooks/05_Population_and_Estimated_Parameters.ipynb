{
 "cells": [
  {
   "cell_type": "markdown",
   "metadata": {
    "pycharm": {
     "name": "#%% md\n"
    }
   },
   "source": [
    "# Population and Estimated Parameters\n",
    "\n",
    "When we are dealing with data, we often distinguish between two broad types of data: **population data** and **sample data**.\n",
    "\n",
    "The **population** is the entire group that you want to draw conclusions about.\n",
    "\n",
    "The **sample** is the specific group that you will collect data from. The size of the sample is always less than the total size of the population.\n",
    "\n",
    "In this notebook, we are going to discuss about these two types of data and their parameters.\n",
    "\n",
    "## Population Parameters\n",
    "\n",
    "Population parameters are numerical characteristics of a statistical population. For example, in a population of students at a university, the population mean age is a parameter. Population parameters are typically represented by Greek letters.\n",
    "\n",
    "The two most commonly used population parameters are:\n",
    "* Population Mean (μ)\n",
    "* Population Standard Deviation (σ)\n",
    "\n",
    "## Sample Parameters\n",
    "\n",
    "Sample parameters are numerical characteristics of a statistical sample. Sample parameters are used to estimate the population parameters. For example, a sample mean is used to estimate a population mean.\n",
    "\n",
    "The two most commonly used sample parameters are:\n",
    "* Sample Mean (x̅)\n",
    "* Sample Standard Deviation (s)\n",
    "\n",
    "## Estimating Population Parameters\n",
    "\n",
    "It is often impractical or impossible to collect data from every member of a population to compute the population parameters. Instead, we estimate the population parameters using sample data.\n",
    "\n",
    "The difference between a population parameter and its corresponding sample estimate is called the sampling error. As the sample size increases, the sampling error decreases, and the sample estimate gets closer to the population parameter.\n",
    "\n",
    "## Confidence in Estimates\n",
    "\n",
    "The confidence in the estimates is quantified using p-values and confidence intervals. The more data we have, the more confidence we have in the estimates.\n",
    "\n",
    "By estimating the population parameters and quantifying our confidence in them, we can generate results that are reproducible in future experiments.\n",
    "\n",
    "In the following sections, we will discuss how to estimate the population mean and standard deviation, and how to quantify our confidence in these estimates.\n"
   ]
  },
  {
   "cell_type": "code",
   "execution_count": 1,
   "metadata": {
    "pycharm": {
     "name": "#%%\n"
    }
   },
   "outputs": [
    {
     "name": "stdout",
     "output_type": "stream",
     "text": [
      "Population Mean: 20.000405885476287\n",
      "Population Standard Deviation: 9.999807730818732\n",
      "\n",
      "Sample Mean: 24.91416941378636\n",
      "Sample Standard Deviation: 8.433982678671331\n",
      "\n",
      "95% Confidence Interval for the Mean: (14.441996760206004, 35.38634206736672)\n"
     ]
    },
    {
     "name": "stderr",
     "output_type": "stream",
     "text": [
      "/var/folders/c4/x03my2dj70s46m109bn58l2m0000gn/T/ipykernel_38806/2823980291.py:21: DeprecationWarning: Use of keyword argument 'alpha' for method 'interval' is deprecated and wil be removed in SciPy 1.11.0. Use first positional argument or keyword argument 'confidence' instead.\n",
      "  confidence_interval = stats.t.interval(alpha=0.95, df=len(sample)-1, loc=sample_mean, scale=stats.sem(sample))\n"
     ]
    }
   ],
   "source": [
    "# Required Libraries\n",
    "\n",
    "import numpy as np\n",
    "import scipy.stats as stats\n",
    "\n",
    "# Population Parameters\n",
    "population = np.random.normal(loc=20, scale=10, size=240000000)\n",
    "population_mean = np.mean(population)\n",
    "population_std = np.std(population)\n",
    "print('Population Mean:', population_mean)\n",
    "print('Population Standard Deviation:', population_std)\n",
    "\n",
    "# Sample Parameters\n",
    "sample = np.random.choice(population, size=5, replace=False)\n",
    "sample_mean = np.mean(sample)\n",
    "sample_std = np.std(sample, ddof=1)\n",
    "print('\\nSample Mean:', sample_mean)\n",
    "print('Sample Standard Deviation:', sample_std)\n",
    "\n",
    "# Confidence in Estimates\n",
    "confidence_interval = stats.t.interval(alpha=0.95, df=len(sample)-1, loc=sample_mean, scale=stats.sem(sample))\n",
    "print('\\n95% Confidence Interval for the Mean:', confidence_interval)"
   ]
  },
  {
   "cell_type": "code",
   "execution_count": null,
   "metadata": {
    "pycharm": {
     "name": "#%%\n"
    }
   },
   "outputs": [],
   "source": []
  }
 ],
 "metadata": {
  "kernelspec": {
   "display_name": "pytorch_m1",
   "language": "python",
   "name": "python3"
  },
  "language_info": {
   "codemirror_mode": {
    "name": "ipython",
    "version": 3
   },
   "file_extension": ".py",
   "mimetype": "text/x-python",
   "name": "python",
   "nbconvert_exporter": "python",
   "pygments_lexer": "ipython3",
   "version": "3.8.20"
  }
 },
 "nbformat": 4,
 "nbformat_minor": 2
}