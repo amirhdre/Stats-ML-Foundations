{
 "cells": [
  {
   "cell_type": "markdown",
   "metadata": {},
   "source": [
    "# **Multi-Letter Image Classification with Convolutional Neural Networks (CNNs) using PyTorch**\n",
    "\n",
    "In this Jupyter Notebook, we extend the idea of **Convolutional Neural Networks (CNNs)** for image classification, building upon concepts from **\"Neural Networks Part 8: Image Classification with Convolutional Neural Networks (CNNs)\"** (StatQuest by Josh Starmer). However, we will:\n",
    "\n",
    "- Create **more letters** (beyond just X and O) with **better-drawn shapes** in a larger 10x10 grid.\n",
    "- Demonstrate how convolution, ReLU activations, and pooling layers work in **PyTorch**.\n",
    "- Train a CNN to classify these letters even when they are **randomly shifted**.\n",
    "\n",
    "We'll use four letters for illustration:\n",
    "1. **O**: approximated with a circle-like border.\n",
    "2. **X**: two diagonal lines.\n",
    "3. **T**: a top horizontal bar and a vertical stroke down the center.\n",
    "4. **S**: shaped like a snake-like curve.\n",
    "\n",
    "After generating these images at **10x10** resolution, we'll randomly shift each image by up to **2 pixels** to illustrate the translation-invariance capabilities of CNNs.\n",
    "\n",
    "---\n",
    "\n",
    "## **Notebook Outline**\n",
    "1. [Introduction to CNNs](#section1)\n",
    "2. [Import Libraries](#section2)\n",
    "3. [Create a Synthetic Multi-Letter Dataset (O, X, T, S)](#section3)\n",
    "4. [Data Visualization](#section4)\n",
    "5. [Build and Train a CNN in PyTorch](#section5)\n",
    "6. [Evaluate the Model](#section6)\n",
    "7. [Conclusion](#section7)\n",
    "8. [References](#section8)\n"
   ]
  },
  {
   "cell_type": "markdown",
   "metadata": {
    "id": "section1"
   },
   "source": [
    "## 1. Introduction to CNNs\n",
    "\n",
    "Convolutional Neural Networks (CNNs) are specialized architectures for processing data with a known, grid-like topology (e.g., images). Their key innovations are:\n",
    "\n",
    "1. **Convolutional Layers**: A filter (or kernel) slides across the image, computing a dot product between the filter weights and local regions of the image (a process called \"convolution\"). This exploits **local connectivity** and greatly reduces the number of parameters compared to a fully-connected network:\n",
    "\n",
    "$$\\text{Output}[i, j] = \\sum_{m,n} (\\text{Filter}[m,n] \\times \\text{Input}[i+m, j+n]) + b$$\n",
    "\n",
    "2. **Activation Functions** (often **ReLU**):\n",
    "\n",
    "$$\\text{ReLU}(z) = \\max(0, z)$$\n",
    "\n",
    "   ReLU makes training faster and helps mitigate the **vanishing gradient** problem better than logistic or tanh.\n",
    "\n",
    "3. **Pooling Layers**: They **reduce** the spatial dimension (e.g., 2x2 max-pooling) while retaining the most important feature responses:\n",
    "\n",
    "$$\\text{MaxPool}\\big(\\{x_1, x_2, ..., x_k\\}\\big) = \\max(x_1, x_2, ..., x_k)$$\n",
    "\n",
    "4. **Fully Connected Layers**: At the end of the convolutional stack, the feature maps are flattened and passed to one or more fully connected (dense) layers for classification.\n",
    "\n",
    "These concepts allow CNNs to:\n",
    "\n",
    "- **Capture local correlations** in images.\n",
    "- Be **translation-invariant** or robust to shifts in the image.\n",
    "- Significantly **reduce** the number of trainable parameters.\n",
    "\n",
    "---"
   ]
  },
  {
   "cell_type": "markdown",
   "metadata": {
    "id": "section2"
   },
   "source": [
    "## 2. Import Libraries\n",
    "\n",
    "Here we import all the Python libraries that we will use in this tutorial."
   ]
  },
  {
   "cell_type": "code",
   "execution_count": 1,
   "metadata": {},
   "outputs": [
    {
     "name": "stdout",
     "output_type": "stream",
     "text": [
      "Using device: cpu\n"
     ]
    }
   ],
   "source": [
    "import random\n",
    "import numpy as np\n",
    "import matplotlib.pyplot as plt\n",
    "\n",
    "import torch\n",
    "import torch.nn as nn\n",
    "import torch.optim as optim\n",
    "import torch.nn.functional as F\n",
    "from torch.utils.data import Dataset, DataLoader\n",
    "\n",
    "from sklearn.model_selection import train_test_split\n",
    "from sklearn.metrics import confusion_matrix, ConfusionMatrixDisplay\n",
    "\n",
    "device = torch.device(\"cuda\" if torch.cuda.is_available() else \"cpu\")\n",
    "print(f\"Using device: {device}\")"
   ]
  },
  {
   "cell_type": "markdown",
   "metadata": {
    "id": "section3"
   },
   "source": [
    "## 3. Create a Synthetic Multi-Letter Dataset (O, X, T, S)\n",
    "\n",
    "We will create synthetic **10x10** grayscale images for the letters: **O**, **X**, **T**, and **S**. Each letter will be drawn in a distinct shape. We will represent black pixels with **1** and white pixels with **0**, similar to the discussion in the video. Each image is stored as a **2D NumPy array**, then converted to PyTorch tensors.\n",
    "\n",
    "We will also **randomly shift** each image by up to **2 pixels** in any direction, to test the model's robustness to small translations."
   ]
  },
  {
   "cell_type": "markdown",
   "metadata": {},
   "source": [
    "### 3.1 Helper Functions to Draw Each Letter\n",
    "- **O**: Approximate a circle of radius ~3 or 4 in the 10x10 grid.\n",
    "- **X**: Two thicker diagonals.\n",
    "- **T**: Horizontal line on top + vertical line from top-center downward.\n",
    "- **S**: A snake-like or curvy shape.\n"
   ]
  },
  {
   "cell_type": "code",
   "execution_count": 2,
   "metadata": {},
   "outputs": [],
   "source": [
    "def draw_O(size=10):\n",
    "    \"\"\"Generate a 10x10 image with an O shape approximated by a circular boundary.\"\"\"\n",
    "    img = np.zeros((size, size), dtype=np.float32)\n",
    "    center = size // 2\n",
    "    radius = 3.5  # slightly smaller than half\n",
    "\n",
    "    # We'll draw a circle boundary using (x - cx)^2 + (y - cy)^2 ~ radius^2\n",
    "    for i in range(size):\n",
    "        for j in range(size):\n",
    "            dist_sq = (i - center)**2 + (j - center)**2\n",
    "            # We'll set a band for the circle boundary\n",
    "            if (radius - 0.8)**2 <= dist_sq <= (radius + 0.8)**2:\n",
    "                img[i, j] = 1.0\n",
    "    return img\n",
    "\n",
    "def draw_X(size=10):\n",
    "    \"\"\"Generate a 10x10 image with a thicker X shape.\"\"\"\n",
    "    img = np.zeros((size, size), dtype=np.float32)\n",
    "    thickness = 2\n",
    "    for i in range(size):\n",
    "        for j in range(size):\n",
    "            # Main diagonal => i == j\n",
    "            # Secondary diagonal => i + j == size - 1\n",
    "            if abs(i - j) < thickness or abs((i + j) - (size - 1)) < thickness:\n",
    "                img[i, j] = 1.0\n",
    "    return img\n",
    "\n",
    "def draw_T(size=10):\n",
    "    \"\"\"Generate a 10x10 image with a T shape (top bar + vertical line).\"\"\"\n",
    "    img = np.zeros((size, size), dtype=np.float32)\n",
    "    # Horizontal bar near the top\n",
    "    img[1, :] = 1.0  # row 1\n",
    "    # Thicken the bar\n",
    "    img[2, :] = 1.0\n",
    "\n",
    "    # Vertical line in the center\n",
    "    col_center = size // 2\n",
    "    for row in range(3, size - 1):\n",
    "        img[row, col_center] = 1.0\n",
    "    return img\n",
    "\n",
    "def draw_S(size=10):\n",
    "    \"\"\"Generate a 10x10 image with an S or curve shape.\"\"\"\n",
    "    img = np.zeros((size, size), dtype=np.float32)\n",
    "\n",
    "    # We'll place a sinusoidal curve:\n",
    "    # row = function of col\n",
    "    # For example: row = 2 + int(2*sin(col/2)) + col//3\n",
    "    for col in range(size):\n",
    "        # We'll shift and add some wave\n",
    "        row = int(3 + 2 * np.sin(col / 2.0) + col * 0.2)\n",
    "        if 0 <= row < size:\n",
    "            img[row, col] = 1.0\n",
    "        # Thicken the S\n",
    "        if row + 1 < size:\n",
    "            img[row+1, col] = 1.0\n",
    "        if row - 1 >= 0:\n",
    "            img[row-1, col] = 1.0\n",
    "    return img"
   ]
  },
  {
   "cell_type": "markdown",
   "metadata": {},
   "source": [
    "### 3.2 Random Shift Function\n",
    "We'll create a helper to shift the image by up to `max_shift` pixels in any direction."
   ]
  },
  {
   "cell_type": "code",
   "execution_count": 3,
   "metadata": {},
   "outputs": [],
   "source": [
    "def random_shift(img, max_shift=2):\n",
    "    \"\"\"Shift the image up/down/left/right by up to max_shift pixels.\"\"\"\n",
    "    size = img.shape[0]\n",
    "    shift_x = random.randint(-max_shift, max_shift)\n",
    "    shift_y = random.randint(-max_shift, max_shift)\n",
    "    shifted = np.zeros_like(img)\n",
    "    for i in range(size):\n",
    "        for j in range(size):\n",
    "            new_i = i + shift_x\n",
    "            new_j = j + shift_y\n",
    "            if 0 <= new_i < size and 0 <= new_j < size:\n",
    "                shifted[new_i, new_j] = img[i, j]\n",
    "    return shifted"
   ]
  },
  {
   "cell_type": "markdown",
   "metadata": {},
   "source": [
    "### 3.3 Generate Dataset\n",
    "We will generate 500 samples per letter class. In total, we will have 4 classes (O, X, T, S) => 2000 images."
   ]
  },
  {
   "cell_type": "code",
   "execution_count": 38,
   "metadata": {},
   "outputs": [
    {
     "name": "stdout",
     "output_type": "stream",
     "text": [
      "Data shape: (2000, 10, 10)\n",
      "Labels shape: (2000,)\n"
     ]
    }
   ],
   "source": [
    "num_samples_per_class = 500  # Number of images per class\n",
    "size = 10                   # Image size 10x10\n",
    "\n",
    "letters = ['O', 'X', 'T', 'S']\n",
    "label_map = { 'O': 0, 'X': 1, 'T': 2, 'S': 3 }\n",
    "\n",
    "data = []\n",
    "labels = []\n",
    "\n",
    "for letter in letters:\n",
    "    for _ in range(num_samples_per_class):\n",
    "        if letter == 'O':\n",
    "            img = draw_O(size)\n",
    "        elif letter == 'X':\n",
    "            img = draw_X(size)\n",
    "        elif letter == 'T':\n",
    "            img = draw_T(size)\n",
    "        elif letter == 'S':\n",
    "            img = draw_S(size)\n",
    "        # Random shift\n",
    "        img_shifted = random_shift(img, max_shift=2)\n",
    "        data.append(img_shifted)\n",
    "        labels.append(label_map[letter])\n",
    "\n",
    "data = np.array(data)\n",
    "labels = np.array(labels)\n",
    "\n",
    "print(\"Data shape:\", data.shape)    # (2000, 10, 10)\n",
    "print(\"Labels shape:\", labels.shape) # (2000,)"
   ]
  },
  {
   "cell_type": "markdown",
   "metadata": {
    "id": "section4"
   },
   "source": [
    "## 4. Data Visualization\n",
    "\n",
    "We'll plot some samples from the dataset to see how the letters (O, X, T, S) appear (with random shifts). We'll plot them in a grid with a color map that highlights the black (1) vs. white (0) pixels."
   ]
  },
  {
   "cell_type": "code",
   "execution_count": 41,
   "metadata": {},
   "outputs": [
    {
     "data": {
      "image/png": "[encoded data removed]",
      "text/plain": [
       "<Figure size 864x432 with 12 Axes>"
      ]
     },
     "metadata": {
      "needs_background": "light"
     },
     "output_type": "display_data"
    }
   ],
   "source": [
    "# Let's plot a few random examples\n",
    "plt.figure(figsize=(12, 6))\n",
    "for i in range(12):\n",
    "    idx = random.randint(0, len(data)-1)\n",
    "    plt.subplot(3, 4, i+1)\n",
    "    plt.imshow(data[idx], cmap='gray', vmin=0, vmax=1)\n",
    "    # Convert label back to letter\n",
    "    for k, v in label_map.items():\n",
    "        if v == labels[idx]:\n",
    "            letter = k\n",
    "            break\n",
    "    plt.title(f\"Label: {letter}\", color=\"blue\")\n",
    "    plt.axis('off')\n",
    "\n",
    "plt.tight_layout()\n",
    "plt.show()"
   ]
  },
  {
   "cell_type": "markdown",
   "metadata": {},
   "source": [
    "### 4.1 Prepare Data for Training\n",
    "\n",
    "We'll split the dataset into training and test sets using scikit-learn's `train_test_split`. We also need to convert everything into **PyTorch tensors**. Since these are grayscale images, we have **1 channel**.\n",
    "\n",
    "Shape expected by a PyTorch CNN is typically: `(batch_size, channels, height, width)`."
   ]
  },
  {
   "cell_type": "code",
   "execution_count": 42,
   "metadata": {},
   "outputs": [
    {
     "name": "stdout",
     "output_type": "stream",
     "text": [
      "Training data shape: (1600, 1, 10, 10)\n",
      "Testing data shape:\t (400, 1, 10, 10)\n"
     ]
    }
   ],
   "source": [
    "# Expand dims to (batch, 1, height, width)\n",
    "data_expanded = np.expand_dims(data, axis=1).astype(np.float32)\n",
    "\n",
    "# Train/test split\n",
    "X_train_np, X_test_np, y_train_np, y_test_np = train_test_split(\n",
    "    data_expanded,\n",
    "    labels,\n",
    "    test_size=0.2,\n",
    "    random_state=42,\n",
    "    stratify=labels  # Keep class distribution consistent\n",
    ")\n",
    "\n",
    "print(\"Training data shape:\", X_train_np.shape) # (1600, 1, 10, 10)\n",
    "print(\"Testing data shape:\\t\", X_test_np.shape)  # (400, 1, 10, 10)\n",
    "\n",
    "num_classes = 4  # O, X, T, S"
   ]
  },
  {
   "cell_type": "markdown",
   "metadata": {},
   "source": [
    "### 4.2 Build a Custom PyTorch Dataset\n",
    "We'll define a custom dataset to handle indexing and transformations if needed."
   ]
  },
  {
   "cell_type": "code",
   "execution_count": 43,
   "metadata": {},
   "outputs": [],
   "source": [
    "class LettersDataset(Dataset):\n",
    "    def __init__(self, images, labels):\n",
    "        self.images = images\n",
    "        self.labels = labels\n",
    "\n",
    "    def __len__(self):\n",
    "        return len(self.images)\n",
    "\n",
    "    def __getitem__(self, idx):\n",
    "        image = torch.tensor(self.images[idx], dtype=torch.float32)\n",
    "        label = torch.tensor(self.labels[idx], dtype=torch.long)\n",
    "        return image, label\n",
    "\n",
    "train_dataset = LettersDataset(X_train_np, y_train_np)\n",
    "test_dataset  = LettersDataset(X_test_np, y_test_np)\n",
    "\n",
    "train_loader = DataLoader(train_dataset, batch_size=16, shuffle=True)\n",
    "test_loader  = DataLoader(test_dataset, batch_size=16, shuffle=False)\n"
   ]
  },
  {
   "cell_type": "markdown",
   "metadata": {
    "id": "section5"
   },
   "source": [
    "## 5. Build and Train a CNN in PyTorch\n",
    "\n",
    "We will build a simple CNN with two convolutional layers:\n",
    "\n",
    "1. **Conv2D** with (in_channels=1, out_channels=6, kernel_size=3) + ReLU + **MaxPool2D(kernel_size=2)**\n",
    "2. **Conv2D** with (in_channels=6, out_channels=12, kernel_size=3) + ReLU + **MaxPool2D(kernel_size=2)**\n",
    "3. Flatten and connect to **Linear(num_features=12, out_features=4)**\n",
    "\n",
    "Given our 10x10 images, let's check the dimension flow:\n",
    "- After first conv (kernel=3) => output: (batch, 6, 8, 8)\n",
    "- After first maxpool (2x2) => output: (batch, 6, 4, 4)\n",
    "- After second conv (kernel=3) => output: (batch, 12, 2, 2)\n",
    "- After second maxpool (2x2) => output: (batch, 12, 1, 1)\n",
    "- Flatten => (batch, 12)\n",
    "- Linear => (batch, 4)\n"
   ]
  },
  {
   "cell_type": "code",
   "execution_count": 44,
   "metadata": {},
   "outputs": [],
   "source": [
    "class MultiLetterCNN(nn.Module):\n",
    "    def __init__(self, num_classes=4):\n",
    "        super(MultiLetterCNN, self).__init__()\n",
    "        self.conv1 = nn.Conv2d(in_channels=1, out_channels=6, kernel_size=3)\n",
    "        self.pool1 = nn.MaxPool2d(kernel_size=2)\n",
    "        self.conv2 = nn.Conv2d(in_channels=6, out_channels=12, kernel_size=3)\n",
    "        self.pool2 = nn.MaxPool2d(kernel_size=2)\n",
    "        # after pool2 => (batch, 12, 1, 1)\n",
    "        self.fc = nn.Linear(12 * 1 * 1, num_classes)\n",
    "\n",
    "    def forward(self, x):\n",
    "        x = self.conv1(x)  # (batch, 6, 8, 8)\n",
    "        x = F.relu(x)\n",
    "        x = self.pool1(x)  # (batch, 6, 4, 4)\n",
    "\n",
    "        x = self.conv2(x)  # (batch, 12, 2, 2)\n",
    "        x = F.relu(x)\n",
    "        x = self.pool2(x)  # (batch, 12, 1, 1)\n",
    "\n",
    "        x = x.view(x.size(0), -1)  # flatten => (batch, 12)\n",
    "        x = self.fc(x)            # => (batch, num_classes)\n",
    "        return x"
   ]
  },
  {
   "cell_type": "markdown",
   "metadata": {},
   "source": [
    "### 5.1 Initialize Model, Loss, and Optimizer"
   ]
  },
  {
   "cell_type": "code",
   "execution_count": 45,
   "metadata": {},
   "outputs": [
    {
     "name": "stdout",
     "output_type": "stream",
     "text": [
      "MultiLetterCNN(\n",
      "  (conv1): Conv2d(1, 6, kernel_size=(3, 3), stride=(1, 1))\n",
      "  (pool1): MaxPool2d(kernel_size=2, stride=2, padding=0, dilation=1, ceil_mode=False)\n",
      "  (conv2): Conv2d(6, 12, kernel_size=(3, 3), stride=(1, 1))\n",
      "  (pool2): MaxPool2d(kernel_size=2, stride=2, padding=0, dilation=1, ceil_mode=False)\n",
      "  (fc): Linear(in_features=12, out_features=4, bias=True)\n",
      ")\n"
     ]
    }
   ],
   "source": [
    "model = MultiLetterCNN(num_classes=num_classes).to(device)\n",
    "\n",
    "criterion = nn.CrossEntropyLoss()\n",
    "optimizer = optim.Adam(model.parameters(), lr=0.001)\n",
    "\n",
    "print(model)"
   ]
  },
  {
   "cell_type": "markdown",
   "metadata": {},
   "source": [
    "### 5.2 Training Loop\n",
    "\n",
    "We train for a few epochs and track the loss and accuracy on both the training and test sets."
   ]
  },
  {
   "cell_type": "code",
   "execution_count": 46,
   "metadata": {},
   "outputs": [
    {
     "name": "stdout",
     "output_type": "stream",
     "text": [
      "Epoch [1/10] - Train Loss: 1.3661, Train Acc: 25.69% | Test Loss: 1.3127, Test Acc: 37.00%\n",
      "Epoch [2/10] - Train Loss: 1.1945, Train Acc: 73.44% | Test Loss: 0.9819, Test Acc: 89.25%\n",
      "Epoch [3/10] - Train Loss: 0.6989, Train Acc: 93.56% | Test Loss: 0.4105, Test Acc: 97.50%\n",
      "Epoch [4/10] - Train Loss: 0.2809, Train Acc: 98.25% | Test Loss: 0.1608, Test Acc: 99.00%\n",
      "Epoch [5/10] - Train Loss: 0.1104, Train Acc: 100.00% | Test Loss: 0.0647, Test Acc: 100.00%\n",
      "Epoch [6/10] - Train Loss: 0.0470, Train Acc: 100.00% | Test Loss: 0.0329, Test Acc: 100.00%\n",
      "Epoch [7/10] - Train Loss: 0.0258, Train Acc: 100.00% | Test Loss: 0.0203, Test Acc: 100.00%\n",
      "Epoch [8/10] - Train Loss: 0.0165, Train Acc: 100.00% | Test Loss: 0.0136, Test Acc: 100.00%\n",
      "Epoch [9/10] - Train Loss: 0.0115, Train Acc: 100.00% | Test Loss: 0.0099, Test Acc: 100.00%\n",
      "Epoch [10/10] - Train Loss: 0.0085, Train Acc: 100.00% | Test Loss: 0.0075, Test Acc: 100.00%\n"
     ]
    }
   ],
   "source": [
    "num_epochs = 10\n",
    "\n",
    "train_losses = []\n",
    "train_accuracies = []\n",
    "test_losses = []\n",
    "test_accuracies = []\n",
    "\n",
    "for epoch in range(num_epochs):\n",
    "    # Training\n",
    "    model.train()\n",
    "    running_loss = 0.0\n",
    "    correct = 0\n",
    "    total = 0\n",
    "\n",
    "    for images, labels in train_loader:\n",
    "        images = images.to(device)\n",
    "        labels = labels.to(device)\n",
    "\n",
    "        optimizer.zero_grad()\n",
    "        outputs = model(images)\n",
    "        loss = criterion(outputs, labels)\n",
    "        loss.backward()\n",
    "        optimizer.step()\n",
    "\n",
    "        running_loss += loss.item() * images.size(0)\n",
    "        _, predicted = torch.max(outputs, 1)\n",
    "        correct += (predicted == labels).sum().item()\n",
    "        total += labels.size(0)\n",
    "\n",
    "    epoch_loss = running_loss / len(train_loader.dataset)\n",
    "    epoch_acc = 100.0 * correct / total\n",
    "    train_losses.append(epoch_loss)\n",
    "    train_accuracies.append(epoch_acc)\n",
    "\n",
    "    # Validation (test set)\n",
    "    model.eval()\n",
    "    test_running_loss = 0.0\n",
    "    test_correct = 0\n",
    "    test_total = 0\n",
    "\n",
    "    with torch.no_grad():\n",
    "        for images, labels in test_loader:\n",
    "            images = images.to(device)\n",
    "            labels = labels.to(device)\n",
    "\n",
    "            outputs = model(images)\n",
    "            loss = criterion(outputs, labels)\n",
    "            test_running_loss += loss.item() * images.size(0)\n",
    "            _, predicted = torch.max(outputs, 1)\n",
    "            test_correct += (predicted == labels).sum().item()\n",
    "            test_total += labels.size(0)\n",
    "\n",
    "    test_epoch_loss = test_running_loss / len(test_loader.dataset)\n",
    "    test_epoch_acc = 100.0 * test_correct / test_total\n",
    "    test_losses.append(test_epoch_loss)\n",
    "    test_accuracies.append(test_epoch_acc)\n",
    "\n",
    "    print(f\"Epoch [{epoch+1}/{num_epochs}] - \"\n",
    "          f\"Train Loss: {epoch_loss:.4f}, Train Acc: {epoch_acc:.2f}% | \"\n",
    "          f\"Test Loss: {test_epoch_loss:.4f}, Test Acc: {test_epoch_acc:.2f}%\")"
   ]
  },
  {
   "cell_type": "markdown",
   "metadata": {},
   "source": [
    "### 5.3 Plot Training and Validation History"
   ]
  },
  {
   "cell_type": "code",
   "execution_count": 27,
   "metadata": {},
   "outputs": [
    {
     "data": {
      "image/png": "[encoded data removed]",
      "text/plain": [
       "<Figure size 864x288 with 2 Axes>"
      ]
     },
     "metadata": {
      "needs_background": "light"
     },
     "output_type": "display_data"
    }
   ],
   "source": [
    "plt.figure(figsize=(12, 4))\n",
    "plt.subplot(1, 2, 1)\n",
    "plt.plot(train_losses, label='Training Loss', color='red')\n",
    "plt.plot(test_losses, label='Test Loss', color='orange')\n",
    "plt.title('Loss')\n",
    "plt.xlabel('Epoch')\n",
    "plt.ylabel('Loss')\n",
    "plt.legend()\n",
    "\n",
    "plt.subplot(1, 2, 2)\n",
    "plt.plot(train_accuracies, label='Training Accuracy', color='blue')\n",
    "plt.plot(test_accuracies, label='Test Accuracy', color='green')\n",
    "plt.title('Accuracy')\n",
    "plt.xlabel('Epoch')\n",
    "plt.ylabel('Accuracy (%)')\n",
    "plt.legend()\n",
    "\n",
    "plt.tight_layout()\n",
    "plt.show()"
   ]
  },
  {
   "cell_type": "markdown",
   "metadata": {
    "id": "section6"
   },
   "source": [
    "## 6. Evaluate the Model\n",
    "\n",
    "We'll check our model's performance on the entire test set and display a quick **confusion matrix** to see how well it distinguishes **O, X, T,** and **S**."
   ]
  },
  {
   "cell_type": "code",
   "execution_count": 28,
   "metadata": {},
   "outputs": [
    {
     "name": "stdout",
     "output_type": "stream",
     "text": [
      "Final Test Accuracy = 100.00%\n"
     ]
    },
    {
     "data": {
      "image/png": "[encoded data removed]",
      "text/plain": [
       "<Figure size 432x288 with 2 Axes>"
      ]
     },
     "metadata": {
      "needs_background": "light"
     },
     "output_type": "display_data"
    }
   ],
   "source": [
    "model.eval()\n",
    "test_correct = 0\n",
    "test_total = 0\n",
    "all_preds = []\n",
    "all_labels = []\n",
    "\n",
    "with torch.no_grad():\n",
    "    for images, labels in test_loader:\n",
    "        images = images.to(device)\n",
    "        labels = labels.to(device)\n",
    "        outputs = model(images)\n",
    "        _, predicted = torch.max(outputs, 1)\n",
    "        test_correct += (predicted == labels).sum().item()\n",
    "        test_total += labels.size(0)\n",
    "\n",
    "        # Store predictions and ground truth for confusion matrix\n",
    "        all_preds.extend(predicted.cpu().numpy())\n",
    "        all_labels.extend(labels.cpu().numpy())\n",
    "\n",
    "test_accuracy = 100.0 * test_correct / test_total\n",
    "print(f\"Final Test Accuracy = {test_accuracy:.2f}%\")\n",
    "\n",
    "# Confusion Matrix\n",
    "cm = confusion_matrix(all_labels, all_preds)\n",
    "disp = ConfusionMatrixDisplay(confusion_matrix=cm, display_labels=['O', 'X', 'T', 'S'])\n",
    "disp.plot(cmap=plt.cm.Blues)\n",
    "plt.title(\"Confusion Matrix\")\n",
    "plt.show()"
   ]
  },
  {
   "cell_type": "markdown",
   "metadata": {
    "id": "section7"
   },
   "source": [
    "## 7. Conclusion\n",
    "\n",
    "In this notebook, we:\n",
    "- Created **10x10** images of four letters (**O, X, T, S**) with **better, more detailed shapes**.\n",
    "- **Randomly shifted** each image up to 2 pixels to illustrate translation robustness.\n",
    "- Trained a **CNN** with two convolutional layers + pooling to classify these letters.\n",
    "\n",
    "Key points:\n",
    "- **Convolution** layers exploit local patterns, reducing parameters vs. a fully connected approach.\n",
    "- **Pooling** layers help handle slight shifts in image position.\n",
    "- We can effectively learn to classify multiple letters with a small CNN and a synthetic dataset.\n",
    "\n",
    "___"
   ]
  },
  {
   "cell_type": "markdown",
   "metadata": {
    "id": "section8"
   },
   "source": [
    "## 8. References\n",
    "\n",
    "1. **Neural Networks Part 8: Image Classification with CNNs** — [StatQuest by Josh Starmer](https://www.youtube.com/watch?v=HGwBXDKFk9I)\n",
    "2. LeCun, Y., Bengio, Y., & Hinton, G. (2015). **Deep Learning**. *Nature*, 521, 436–444.\n",
    "3. Rumelhart, D. E., Hinton, G. E., & Williams, R. J. (1986). **Learning representations by back-propagating errors**. *Nature*, 323, 533–536.\n",
    "4. Krizhevsky, A., Sutskever, I., & Hinton, G. E. (2012). **ImageNet classification with deep convolutional neural networks**. *Advances in Neural Information Processing Systems*, 25, 1097–1105.\n",
    "5. Goodfellow, I., Bengio, Y., & Courville, A. (2016). **Deep Learning**. MIT Press.\n",
    "\n",
    "---\n",
    "**Quest on!**"
   ]
  }
 ],
 "metadata": {
  "kernelspec": {
   "display_name": "pytorch_m1",
   "language": "python",
   "name": "python3"
  },
  "language_info": {
   "codemirror_mode": {
    "name": "ipython",
    "version": 3
   },
   "file_extension": ".py",
   "mimetype": "text/x-python",
   "name": "python",
   "nbconvert_exporter": "python",
   "pygments_lexer": "ipython3",
   "version": "3.8.20"
  },
  "name": "CNN_MultiLetter_Classification_PyTorch.ipynb"
 },
 "nbformat": 4,
 "nbformat_minor": 5
}
