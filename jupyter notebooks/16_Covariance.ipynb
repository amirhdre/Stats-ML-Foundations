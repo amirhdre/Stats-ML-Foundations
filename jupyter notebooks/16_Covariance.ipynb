{
 "cells": [
  {
   "cell_type": "markdown",
   "id": "0a3fb37d",
   "metadata": {
    "pycharm": {
     "name": "#%% md\n"
    }
   },
   "source": [
    "# Covariance: Clearly Explained\n",
    "\n",
    "In statistics, **covariance** is a measure of how much two random variables vary together. This notebook will explain covariance, its formula, and its interpretation, along with examples and visualizations."
   ]
  },
  {
   "cell_type": "markdown",
   "id": "a17e567e",
   "metadata": {
    "pycharm": {
     "name": "#%% md\n"
    }
   },
   "source": [
    "## Formula for Covariance\n",
    "\n",
    "The formula for covariance is:\n",
    "\n",
    "$$\\text{cov}(X, Y) = \\frac{\\sum (x_i - \\bar{X})(y_i - \\bar{Y})}{n - 1}$$\n",
    "\n",
    "Where:\n",
    "- $x_i$ and $y_i$ are individual sample points of variables $X$ and $Y$.\n",
    "- $\\bar{X}$ and $\\bar{Y}$ are the means of $X$ and $Y$.\n",
    "- $n$ is the number of data points."
   ]
  },
  {
   "cell_type": "code",
   "execution_count": 1,
   "id": "1e93043d",
   "metadata": {
    "pycharm": {
     "name": "#%%\n"
    }
   },
   "outputs": [
    {
     "name": "stdout",
     "output_type": "stream",
     "text": [
      "Covariance matrix:\n",
      "[[0.6025 1.7   ]\n",
      " [1.7    5.    ]]\n",
      "Covariance between X and Y: 1.7\n"
     ]
    }
   ],
   "source": [
    "\n",
    "import numpy as np\n",
    "\n",
    "# Example data\n",
    "X = [2.1, 2.5, 3.6, 4.0]\n",
    "Y = [8, 10, 12, 14]\n",
    "\n",
    "# Calculate covariance\n",
    "cov_matrix = np.cov(X, Y, bias=True)\n",
    "covariance = cov_matrix[0][1]\n",
    "\n",
    "print(\"Covariance matrix:\")\n",
    "print(cov_matrix)\n",
    "print(f\"Covariance between X and Y: {covariance}\")\n",
    "        "
   ]
  },
  {
   "cell_type": "markdown",
   "id": "8b0a06fe",
   "metadata": {
    "pycharm": {
     "name": "#%% md\n"
    }
   },
   "source": [
    "## Visualizing Covariance\n",
    "\n",
    "Let's plot the data points to see how $X$ and $Y$ vary together."
   ]
  },
  {
   "cell_type": "code",
   "execution_count": 2,
   "id": "14c1d3b8",
   "metadata": {
    "pycharm": {
     "name": "#%%\n"
    }
   },
   "outputs": [
    {
     "data": {
      "text/plain": "<Figure size 432x288 with 1 Axes>",
      "image/png": "[encoded data removed]"
     },
     "metadata": {
      "needs_background": "light"
     },
     "output_type": "display_data"
    }
   ],
   "source": [
    "\n",
    "import matplotlib.pyplot as plt\n",
    "\n",
    "plt.scatter(X, Y, color='blue')\n",
    "plt.title(\"Scatter Plot of X and Y\")\n",
    "plt.xlabel(\"X\")\n",
    "plt.ylabel(\"Y\")\n",
    "plt.grid(True)\n",
    "plt.show()\n",
    "        "
   ]
  },
  {
   "cell_type": "markdown",
   "id": "98cee331",
   "metadata": {
    "pycharm": {
     "name": "#%% md\n"
    }
   },
   "source": [
    "## Conclusion\n",
    "\n",
    "Covariance helps us understand the relationship between two variables. A positive covariance indicates that the variables tend to move in the same direction, while a negative covariance indicates they move in opposite directions. A covariance close to zero suggests no linear relationship."
   ]
  },
  {
   "cell_type": "markdown",
   "id": "3e97440a",
   "metadata": {
    "pycharm": {
     "name": "#%% md\n"
    }
   },
   "source": []
  },
  {
   "cell_type": "markdown",
   "id": "afa104f0",
   "metadata": {
    "pycharm": {
     "name": "#%% md\n"
    }
   },
   "source": []
  }
 ],
 "metadata": {
  "kernelspec": {
   "display_name": "pytorch_m1",
   "language": "python",
   "name": "python3"
  },
  "language_info": {
   "codemirror_mode": {
    "name": "ipython",
    "version": 3
   },
   "file_extension": ".py",
   "mimetype": "text/x-python",
   "name": "python",
   "nbconvert_exporter": "python",
   "pygments_lexer": "ipython3",
   "version": "3.8.20"
  }
 },
 "nbformat": 4,
 "nbformat_minor": 5
}