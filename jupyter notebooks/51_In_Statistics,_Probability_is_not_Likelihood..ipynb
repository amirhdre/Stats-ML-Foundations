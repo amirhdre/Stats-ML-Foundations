{
 "cells": [
  {
   "cell_type": "markdown",
   "metadata": {},
   "source": [
    "# In Statistics, Probability is not Likelihood\n",
    "\n",
    "This notebook aims to provide a clear understanding of the difference between Probability and Likelihood in statistics. These two concepts are used extensively in statistical analysis and often get confused, even by experienced statisticians. In this notebook, we will discuss these concepts with the help of visual representations and mathematical equations."
   ]
  },
  {
   "cell_type": "markdown",
   "metadata": {},
   "source": [
    "## Probability\n",
    "\n",
    "Probability is a measure of the likelihood that a given event will occur. It is calculated by considering a hypothetical set of outcomes (the 'sample space') and counting the number of outcomes that satisfy the event. The probability of an event is then the ratio of the number of satisfying outcomes to the total number of outcomes in the sample space.\n",
    "\n",
    "For instance, consider a normal distribution of Mouse weights with a mean of 32 grams and a standard deviation of 2.5. We can calculate the probability that we will weigh a randomly selected Mouse between 32 and 34 grams. This probability is the area under the curve between 32 and 34 grams. If this area under the curve equals 0.29, it means there's a 29% chance a randomly selected Mouse will weigh between 32 and 34 grams.\n",
    "\n",
    "Mathematically, this can be represented as:\n",
    "\n",
    "$$P(32 \\leq X \\leq 34 | \\mu = 32, \\sigma = 2.5) = 0.29$$\n",
    "\n",
    "The above equation represents the probability of weighing a mouse between 32 and 34 grams given the mean of the distribution is 32 and the standard deviation is 2.5."
   ]
  },
  {
   "cell_type": "markdown",
   "metadata": {},
   "source": [
    "## Likelihood\n",
    "\n",
    "While probability gives us a measure of the certainty of an event occurring, likelihood, on the other hand, measures the plausibility of a hypothesis given some observed data. In other words, it tells us how likely our observed data is, given the parameters of our model.\n",
    "\n",
    "For instance, if we have already weighed a mouse and it weighs 34 grams, we can calculate the likelihood of weighing a 34 gram Mouse. This likelihood is represented by the value of the normal distribution function at 34.\n",
    "\n",
    "Mathematically, this can be represented as:\n",
    "\n",
    "$$L(\\mu = 32, \\sigma = 2.5 | X = 34) = 0.12$$\n",
    "\n",
    "The above equation represents the likelihood of a distribution with mean equals 32 and the standard deviation equals 2.5 given we weighed a 34 gram Mouse. The likelihood is 0.12."
   ]
  },
  {
   "cell_type": "markdown",
   "metadata": {},
   "source": [
    "## Summary\n",
    "\n",
    "To summarize, probabilities are the areas under a fixed distribution and mathematically we have the probability of data given a distribution. Likelihoods are the y-axis values for fixed data points with distributions that can be moved and mathematically this is written as the likelihood of a distribution given data.\n",
    "\n",
    "In probability, we are interested in the probability of different outcomes given a fixed distribution. In likelihood, we are interested in how plausible different parameter values are given observed data.\n",
    "\n",
    "It's important to note that while these concepts are related, they answer different questions and are used in different contexts within statistical analysis."
   ]
  },
  {
   "cell_type": "markdown",
   "metadata": {},
   "source": [
    "## References\n",
    "\n",
    "- Starmer, J. (2018). StatQuest: Probability vs Likelihood. [online] YouTube. Available at: https://www.youtube.com/watch?v=pYxNSUDSFH4 [Accessed 2 Mar. 2020].\n",
    "- Cox, D.R., Hinkley, D.V. (1974). Theoretical Statistics. Chapman and Hall."
   ]
  }
 ],
 "metadata": {
  "kernelspec": {
   "display_name": "Python 3",
   "language": "python",
   "name": "python3"
  },
  "language_info": {
   "codemirror_mode": {
    "name": "ipython",
    "version": 3
   },
   "file_extension": ".py",
   "mimetype": "text/x-python",
   "name": "python",
   "nbconvert_exporter": "python",
   "pygments_lexer": "ipython3",
   "version": "3.8.3"
  }
 },
 "nbformat": 4,
 "nbformat_minor": 4
}