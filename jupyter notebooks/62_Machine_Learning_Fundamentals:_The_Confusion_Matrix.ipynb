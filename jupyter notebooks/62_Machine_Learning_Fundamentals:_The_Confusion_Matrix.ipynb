{
  "cells": [
    {
      "cell_type": "markdown",
      "metadata": {},
      "source": [
        "# Machine Learning Fundamentals: The Confusion Matrix\n",
        "This notebook will explain the concept of the confusion matrix, an important tool for evaluating the performance of classification models. We'll use both theory and practical examples to illustrate these concepts."
      ]
    },
    {
      "cell_type": "markdown",
      "metadata": {},
      "source": [
        "## Overview\n",
        "In machine learning, especially in classification problems, we need a way to evaluate how well our model is doing. One such evaluation tool is the confusion matrix. The confusion matrix is a table layout that allows visualization of the performance of an algorithm. Each row of the matrix corresponds to the instances in an actual class while each column represents the instances in a predicted class."
      ]
    },
    {
      "cell_type": "markdown",
      "metadata": {},
      "source": [
        "## Basic Confusion Matrix\n",
        "For binary classification problems, the confusion matrix is 2x2. Here's an example:\n",
        "\n",
        "|   | Predicted: Yes | Predicted: No |\n",
        "|---|---|---|\n",
        "| Actual: Yes | True Positive  | False Negative  |\n",
        "| Actual: No  | False Positive  | True Negative  |\n",
        "\n",
        "1. **True Positive (TP)**: The model correctly predicted the positive class.\n",
        "2. **True Negative (TN)**: The model correctly predicted the negative class.\n",
        "3. **False Positive (FP)**: The model incorrectly predicted the positive class.\n",
        "4. **False Negative (FN)**: The model incorrectly predicted the negative class."
      ]
    },
    {
      "cell_type": "markdown",
      "metadata": {},
      "source": [
        "## Python Example\n",
        "Let's dive into a practical example using a medical dataset. In this dataset, the target variable is whether a patient has heart disease or not. We will use three different algorithms: logistic regression, random forest, and K nearest neighbors, and compare their performances using a confusion matrix."
      ]
    },
    {
      "cell_type": "code",
      "execution_count": 1,
      "metadata": {},
      "outputs": [
        {
          "name": "stdout",
          "output_type": "stream",
          "text": [
            "Logistic Regression Confusion Matrix:\n",
            " [[39  4]\n",
            " [ 1 70]]\n",
            "Random Forest Confusion Matrix:\n",
            " [[40  3]\n",
            " [ 1 70]]\n",
            "K-Nearest Neighbors Confusion Matrix:\n",
            " [[38  5]\n",
            " [ 0 71]]\n"
          ]
        },
        {
          "name": "stderr",
          "output_type": "stream",
          "text": [
            "/Users/amirhosseindaraie/miniconda3/envs/my_base/lib/python3.8/site-packages/sklearn/linear_model/_logistic.py:458: ConvergenceWarning: lbfgs failed to converge (status=1):\n",
            "STOP: TOTAL NO. of ITERATIONS REACHED LIMIT.\n",
            "\n",
            "Increase the number of iterations (max_iter) or scale the data as shown in:\n",
            "    https://scikit-learn.org/stable/modules/preprocessing.html\n",
            "Please also refer to the documentation for alternative solver options:\n",
            "    https://scikit-learn.org/stable/modules/linear_model.html#logistic-regression\n",
            "  n_iter_i = _check_optimize_result(\n"
          ]
        }
      ],
      "source": [
        "from sklearn.datasets import load_breast_cancer\n",
        "from sklearn.model_selection import train_test_split\n",
        "from sklearn.linear_model import LogisticRegression\n",
        "from sklearn.ensemble import RandomForestClassifier\n",
        "from sklearn.neighbors import KNeighborsClassifier\n",
        "from sklearn.metrics import confusion_matrix\n",
        "import pandas as pd\n",
        "\n",
        "# Load the Breast Cancer dataset\n",
        "cancer_data = load_breast_cancer()\n",
        "\n",
        "# Convert to DataFrame for easier manipulation\n",
        "X = pd.DataFrame(cancer_data.data, columns=cancer_data.feature_names)\n",
        "y = pd.Series(cancer_data.target)\n",
        "\n",
        "# Split the data into train and test sets\n",
        "X_train, X_test, y_train, y_test = train_test_split(X, y, test_size=0.2, random_state=42)\n",
        "\n",
        "# Initialize the classifiers\n",
        "log_reg = LogisticRegression(max_iter=1000)  # Increase max_iter for convergence\n",
        "rand_forest = RandomForestClassifier(random_state=42)\n",
        "knn = KNeighborsClassifier()\n",
        "\n",
        "# Fit the models\n",
        "log_reg.fit(X_train, y_train)\n",
        "rand_forest.fit(X_train, y_train)\n",
        "knn.fit(X_train, y_train)\n",
        "\n",
        "# Make predictions\n",
        "log_reg_preds = log_reg.predict(X_test)\n",
        "rand_forest_preds = rand_forest.predict(X_test)\n",
        "knn_preds = knn.predict(X_test)\n",
        "\n",
        "# Create confusion matrices\n",
        "log_reg_cm = confusion_matrix(y_test, log_reg_preds)\n",
        "rand_forest_cm = confusion_matrix(y_test, rand_forest_preds)\n",
        "knn_cm = confusion_matrix(y_test, knn_preds)\n",
        "\n",
        "# Print confusion matrices\n",
        "print('Logistic Regression Confusion Matrix:\\n', log_reg_cm)\n",
        "print('Random Forest Confusion Matrix:\\n', rand_forest_cm)\n",
        "print('K-Nearest Neighbors Confusion Matrix:\\n', knn_cm)\n",
        "\n"
      ]
    },
    {
      "cell_type": "code",
      "execution_count": 3,
      "metadata": {},
      "outputs": [
        {
          "data": {
            "image/png": "[encoded data removed]",
            "text/plain": [
              "<Figure size 1296x432 with 6 Axes>"
            ]
          },
          "metadata": {
            "needs_background": "light"
          },
          "output_type": "display_data"
        },
        {
          "name": "stdout",
          "output_type": "stream",
          "text": [
            "Logistic Regression Confusion Matrix:\n",
            " [[39  4]\n",
            " [ 1 70]]\n",
            "Random Forest Confusion Matrix:\n",
            " [[40  3]\n",
            " [ 1 70]]\n",
            "K-Nearest Neighbors Confusion Matrix:\n",
            " [[38  5]\n",
            " [ 0 71]]\n"
          ]
        }
      ],
      "source": [
        "import matplotlib.pyplot as plt\n",
        "from sklearn.metrics import confusion_matrix, ConfusionMatrixDisplay\n",
        "\n",
        "\n",
        "# Plot confusion matrices\n",
        "fig, axes = plt.subplots(1, 3, figsize=(18, 6))\n",
        "\n",
        "ConfusionMatrixDisplay(log_reg_cm, display_labels=cancer_data.target_names).plot(ax=axes[0], cmap='Blues')\n",
        "axes[0].set_title('Logistic Regression')\n",
        "\n",
        "ConfusionMatrixDisplay(rand_forest_cm, display_labels=cancer_data.target_names).plot(ax=axes[1], cmap='Blues')\n",
        "axes[1].set_title('Random Forest')\n",
        "\n",
        "ConfusionMatrixDisplay(knn_cm, display_labels=cancer_data.target_names).plot(ax=axes[2], cmap='Blues')\n",
        "axes[2].set_title('K-Nearest Neighbors')\n",
        "\n",
        "plt.tight_layout()\n",
        "plt.show()\n",
        "\n",
        "# Print confusion matrices\n",
        "print('Logistic Regression Confusion Matrix:\\n', log_reg_cm)\n",
        "print('Random Forest Confusion Matrix:\\n', rand_forest_cm)\n",
        "print('K-Nearest Neighbors Confusion Matrix:\\n', knn_cm)\n"
      ]
    },
    {
      "cell_type": "markdown",
      "metadata": {},
      "source": [
        "## Advanced Confusion Matrix\n",
        "For multi-class classification problems, the confusion matrix can have more than two rows and columns. Each row and column corresponds to a class. For example, if we are trying to classify favorite movies into three categories ('Troll 2', 'Gore Police', 'Cool as Ice'), the confusion matrix will be 3x3."
      ]
    },
    {
      "cell_type": "markdown",
      "metadata": {},
      "source": [
        "## Conclusion\n",
        "The confusion matrix is a helpful tool for understanding the performance of a classification model. However, it's important to understand that it doesn't provide a complete picture of the model's performance. Other metrics such as precision, recall, F1 score, ROC-AUC can provide more insight and help us make a more informed decision about the model's performance."
      ]
    },
    {
      "cell_type": "markdown",
      "metadata": {},
      "source": []
    }
  ],
  "metadata": {
    "kernelspec": {
      "display_name": "Python 3",
      "language": "python",
      "name": "python3"
    },
    "language_info": {
      "codemirror_mode": {
        "name": "ipython",
        "version": 3
      },
      "file_extension": ".py",
      "mimetype": "text/x-python",
      "name": "python",
      "nbconvert_exporter": "python",
      "pygments_lexer": "ipython3",
      "version": "3.8.16"
    }
  },
  "nbformat": 4,
  "nbformat_minor": 4
}
