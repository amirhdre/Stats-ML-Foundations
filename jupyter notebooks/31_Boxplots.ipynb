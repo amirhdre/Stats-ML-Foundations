{
 "cells": [
  {
   "cell_type": "markdown",
   "id": "6093955c",
   "metadata": {
    "pycharm": {
     "name": "#%% md\n"
    }
   },
   "source": [
    "# Boxplots Are Awesome!\n",
    "\n",
    "Boxplots, also known as box-and-whisker plots, are powerful tools for summarizing and visualizing data distributions. They provide insights into the spread, central tendency, and potential outliers in the data. In this notebook, we will learn how to interpret boxplots and create them using Python."
   ]
  },
  {
   "cell_type": "markdown",
   "id": "bb0cee0c",
   "metadata": {
    "pycharm": {
     "name": "#%% md\n"
    }
   },
   "source": [
    "## What Are Boxplots?\n",
    "\n",
    "Boxplots visually summarize a dataset using the **five-number summary**:\n",
    "\n",
    "- **Minimum**: The smallest data point, excluding outliers.\n",
    "- **First Quartile (Q1)**: The 25th percentile of the data.\n",
    "- **Median (Q2)**: The 50th percentile (middle value).\n",
    "- **Third Quartile (Q3)**: The 75th percentile of the data.\n",
    "- **Maximum**: The largest data point, excluding outliers.\n",
    "\n",
    "Boxplots also highlight:\n",
    "\n",
    "- **Interquartile Range (IQR)**: Q3 - Q1, representing the middle 50% of data.\n",
    "- **Outliers**: Data points beyond 1.5 * IQR from Q1 or Q3.\n",
    "\n",
    "![Boxplot Diagram](https://upload.wikimedia.org/wikipedia/commons/c/c9/Elements_of_a_boxplot.png)"
   ]
  },
  {
   "cell_type": "markdown",
   "id": "34f16b37",
   "metadata": {
    "pycharm": {
     "name": "#%% md\n"
    }
   },
   "source": [
    "## Creating Boxplots in Python\n",
    "\n",
    "Let's create a simple dataset and visualize it using boxplots. We'll use Python libraries `matplotlib` and `seaborn` for this task."
   ]
  },
  {
   "cell_type": "code",
   "execution_count": 2,
   "id": "be01f0fb",
   "metadata": {
    "pycharm": {
     "name": "#%%\n"
    }
   },
   "outputs": [],
   "source": [
    "# Import necessary libraries\n",
    "import matplotlib.pyplot as plt\n",
    "import seaborn as sns\n",
    "import numpy as np\n",
    "\n",
    "# Generate a synthetic dataset\n",
    "np.random.seed(42)\n",
    "data = [\n",
    "    np.random.normal(50, 10, 100),  # Group 1\n",
    "    np.random.normal(60, 15, 100),  # Group 2\n",
    "    np.random.normal(55, 5, 100),   # Group 3\n",
    "]\n",
    "labels = ['Group 1', 'Group 2', 'Group 3']"
   ]
  },
  {
   "cell_type": "code",
   "execution_count": 4,
   "id": "ad8d8cbf",
   "metadata": {
    "pycharm": {
     "name": "#%%\n"
    }
   },
   "outputs": [
    {
     "data": {
      "text/plain": "<Figure size 576x360 with 1 Axes>",
      "image/png": "[encoded data removed]"
     },
     "metadata": {
      "needs_background": "light"
     },
     "output_type": "display_data"
    }
   ],
   "source": [
    "# Create a boxplot\n",
    "plt.figure(figsize=(8, 5))\n",
    "sns.boxplot(data=data, palette='pastel')\n",
    "plt.xticks(ticks=range(len(labels)), labels=labels, fontsize=20)\n",
    "plt.title('Boxplot of Three Groups', fontsize=20)\n",
    "plt.ylabel('Values', fontsize=20)\n",
    "plt.show()"
   ]
  },
  {
   "cell_type": "markdown",
   "id": "8cff0515",
   "metadata": {
    "pycharm": {
     "name": "#%% md\n"
    }
   },
   "source": [
    "### Interpreting the Boxplot\n",
    "\n",
    "1. The box represents the IQR (Q1 to Q3).\n",
    "2. The line inside the box is the median.\n",
    "3. Whiskers extend to the smallest and largest values within 1.5 * IQR.\n",
    "4. Dots outside the whiskers are outliers."
   ]
  },
  {
   "cell_type": "markdown",
   "id": "bcb79aaa",
   "metadata": {
    "pycharm": {
     "name": "#%% md\n"
    }
   },
   "source": [
    "## Comparing Boxplots to Bar Plots\n",
    "\n",
    "While bar plots are great for summarizing averages, they don't reveal variability or outliers. Let's compare boxplots and bar plots for the same dataset."
   ]
  },
  {
   "cell_type": "code",
   "execution_count": 5,
   "id": "f000b7a6",
   "metadata": {
    "pycharm": {
     "name": "#%%\n"
    }
   },
   "outputs": [
    {
     "data": {
      "text/plain": "<Figure size 576x360 with 1 Axes>",
      "image/png": "[encoded data removed]"
     },
     "metadata": {
      "needs_background": "light"
     },
     "output_type": "display_data"
    }
   ],
   "source": [
    "# Create a bar plot\n",
    "means = [np.mean(group) for group in data]\n",
    "std_devs = [np.std(group) for group in data]\n",
    "\n",
    "plt.figure(figsize=(8, 5))\n",
    "plt.bar(labels, means, yerr=std_devs, capsize=5, color='lightblue')\n",
    "plt.title('Bar Plot with Error Bars')\n",
    "plt.ylabel('Mean ± Standard Deviation')\n",
    "plt.show()"
   ]
  },
  {
   "cell_type": "markdown",
   "id": "6ef72250",
   "metadata": {
    "pycharm": {
     "name": "#%% md\n"
    }
   },
   "source": [
    "### Insights from the Comparison\n",
    "\n",
    "- **Boxplots**: Show spread, median, and outliers in addition to variability.\n",
    "- **Bar Plots**: Summarize data with mean and standard deviation but lack detail about the distribution."
   ]
  },
  {
   "cell_type": "markdown",
   "id": "1b1f12b3",
   "metadata": {
    "pycharm": {
     "name": "#%% md\n"
    }
   },
   "source": [
    "## Conclusion\n",
    "\n",
    "Boxplots are essential for understanding data distributions and identifying outliers. They provide more detailed insights compared to bar plots, making them invaluable for exploratory data analysis. Next time you explore a dataset, consider using boxplots for a deeper understanding!"
   ]
  },
  {
   "cell_type": "markdown",
   "id": "dbae4470",
   "metadata": {
    "pycharm": {
     "name": "#%% md\n"
    }
   },
   "source": []
  },
  {
   "cell_type": "markdown",
   "id": "53d652fe",
   "metadata": {
    "pycharm": {
     "name": "#%% md\n"
    }
   },
   "source": []
  }
 ],
 "metadata": {
  "kernelspec": {
   "display_name": "my_base",
   "language": "python",
   "name": "python3"
  },
  "language_info": {
   "codemirror_mode": {
    "name": "ipython",
    "version": 3
   },
   "file_extension": ".py",
   "mimetype": "text/x-python",
   "name": "python",
   "nbconvert_exporter": "python",
   "pygments_lexer": "ipython3",
   "version": "3.8.16"
  }
 },
 "nbformat": 4,
 "nbformat_minor": 5
}