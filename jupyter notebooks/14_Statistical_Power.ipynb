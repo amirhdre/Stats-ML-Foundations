{
 "cells": [
  {
   "cell_type": "markdown",
   "metadata": {
    "pycharm": {
     "name": "#%% md\n"
    }
   },
   "source": [
    "# Statistical Power, Clearly Explained!!!"
   ]
  },
  {
   "cell_type": "markdown",
   "metadata": {
    "pycharm": {
     "name": "#%% md\n"
    }
   },
   "source": [
    "## Introduction\n",
    "Statistical Power is a key concept in hypothesis testing. Understanding it is essential to interpret the results of your tests correctly and to design your experiments effectively.\n",
    "This notebook assumes that you are already familiar with p-values and the normal distribution. If not, you should review these concepts first."
   ]
  },
  {
   "cell_type": "markdown",
   "metadata": {
    "pycharm": {
     "name": "#%% md\n"
    }
   },
   "source": [
    "## Definition\n",
    "The power of a statistical test is the probability that the test will reject the null hypothesis when the null hypothesis is actually false (i.e., the probability of not committing a Type II error, or the probability of a true positive)."
   ]
  },
  {
   "cell_type": "markdown",
   "metadata": {
    "pycharm": {
     "name": "#%% md\n"
    }
   },
   "source": [
    "## Concepts\n",
    "Let's consider two distributions: one represents the weights of mice on a special diet (distribution 1), and the other represents the weights of mice eating normal mouse food (distribution 2). If there's only a little overlap between these two distributions, it's easy to tell these two diets apart.\n",
    "However, if there is a significant overlap between these two distributions, it becomes harder to tell these two diets apart. In this case, we are more likely to fail to reject the null hypothesis that there is no difference between the two diets, even though there is a difference. This is a Type II error."
   ]
  },
  {
   "cell_type": "markdown",
   "metadata": {
    "pycharm": {
     "name": "#%% md\n"
    }
   },
   "source": [
    "## Calculation\n",
    "If we repeated the experiment many times, the power of the test is the proportion of times we would reject the null hypothesis. The higher the power, the higher the chance of correctly rejecting the null hypothesis when it is false.\n",
    "Note: When the null hypothesis is true (i.e., there is no difference between the two diets), the concept of power does not apply."
   ]
  },
  {
   "cell_type": "markdown",
   "metadata": {
    "pycharm": {
     "name": "#%% md\n"
    }
   },
   "source": [
    "## Increase Power\n",
    "We can increase the power of a test in several ways:\n",
    "1. Increase the sample size: The more data we have, the more likely we are to detect a difference if one exists.\n",
    "2. Increase the effect size: The larger the true difference between the two groups, the easier it is to detect a difference.\n",
    "3. Increase the significance level: By accepting a higher probability of committing a Type I error (false positive), we can increase the power of the test.\n",
    "4. Decrease the variability: The less variability there is in the data, the easier it is to detect a difference.\n",
    "\n",
    "A power analysis can help determine how many measurements are needed to achieve a desired power."
   ]
  },
  {
   "cell_type": "markdown",
   "metadata": {
    "pycharm": {
     "name": "#%% md\n"
    }
   },
   "source": [
    "## Conclusion\n",
    "In summary, power is the probability of correctly rejecting the null hypothesis when it is false. It is a crucial concept in hypothesis testing that helps us understand the reliability of our tests. Understanding power can help us design our experiments more effectively and interpret the results of our tests more accurately."
   ]
  }
 ],
 "metadata": {
  "kernelspec": {
   "display_name": "Python 3",
   "language": "python",
   "name": "python3"
  },
  "language_info": {
   "codemirror_mode": {
    "name": "ipython",
    "version": 3
   },
   "file_extension": ".py",
   "mimetype": "text/x-python",
   "name": "python",
   "nbconvert_exporter": "python",
   "pygments_lexer": "ipython3",
   "version": "3.7.6"
  }
 },
 "nbformat": 4,
 "nbformat_minor": 2
}