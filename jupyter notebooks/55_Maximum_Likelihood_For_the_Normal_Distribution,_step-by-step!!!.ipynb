{
 "cells": [
  {
   "cell_type": "markdown",
   "metadata": {},
   "source": [
    "# Maximum Likelihood For the Normal Distribution\n",
    "\n",
    "In this notebook, we are going to discuss the concept of Maximum Likelihood for the Normal Distribution. We will follow the step-by-step process explained in the StatQuest video on the same topic. \n",
    "\n",
    "![Normal Distribution](https://miro.medium.com/max/1200/1*xgGZ6EB4bjE8s8HoqFvppw.png)\n",
    "\n",
    "A normal distribution, also known as Gaussian distribution, is a probability distribution that is symmetric about the mean, showing that data near the mean are more frequent in occurrence than data far from the mean. It is described by two parameters - the mean (μ) and the standard deviation (σ). The mean determines the location of the center of the graph and the standard deviation determines the height and width of the graph. \n",
    "\n",
    "We will try to use the likelihood of the normal distribution to find the optimal parameters for μ (the mean) and σ (the standard deviation), given some data x. In simple terms, we are trying to find the values of μ and σ that maximize the likelihood function.\n",
    "\n",
    "Let's begin with a simple data set: a single measurement. Suppose we have measured a single mouse and it weighs 32 grams and we have a normal distribution with μ=28 and σ=2. The likelihood of the data given this curve can be calculated by plugging the numbers into the likelihood function and then into the normal distribution equation.\n",
    "\n",
    "The likelihood function for Normal Distribution is given by: \n",
    "\n",
    "$$ L(x|μ,σ) = \\frac{1}{σ√{2π}} e ^{-\\frac{1}{2} (\\frac{x-μ}{σ})^2} $$\n",
    "\n",
    "If we plug in the numbers into this equation, and after some math, we get the likelihood of the curve with μ=28 and σ=2 given the data to be approximately 0.03.\n",
    "\n",
    "If we shift the distribution to the right by setting μ=30, the likelihood increases to approximately 0.12. This is because the distribution is a better fit for the given data.\n",
    "\n",
    "To find the maximum likelihood, we can plug in various values for μ (while keeping σ constant), calculate the likelihood for each, and identify the μ that gives the highest likelihood. This process can be visualized as a graph where the y-axis is the likelihood value and the x-axis is for the different values that we plug in for μ. The peak in the likelihood graph indicates the maximum likelihood estimate for μ. \n",
    "\n",
    "The same process is followed to find the maximum likelihood estimate for σ, but here we treat μ as a constant. Note that you need more than one measurement to find the optimal value for σ.\n",
    "\n",
    "Now, let's consider a two-sample data set and calculate the likelihood of a normal distribution. We call the mouse that weighs 32 grams X1 and the mouse that weighs 34 grams X2. The likelihood of a normal distribution given both X1 and X2 is simply the product of the likelihoods of the distribution given X1 and X2. This is because these measurements are independent, meaning that weighing X1 did not have an effect on weighing X2. If we had more data points, we would just multiply their individual likelihood functions to get the overall likelihood function. \n",
    "\n",
    "Now comes the math part. We take the log of the likelihood function. This makes it easier to take the derivative. The log of the likelihood function and the likelihood function both peak at the same values for μ and σ, so we can use either. After taking the log and simplifying the function, we take the derivative of this function with respect to μ and with respect to σ. Setting these derivatives equal to zero gives us the maximum likelihood estimates for μ and σ. After a lot of math, we find that these estimates are simply the mean and the standard deviation of the measurements respectively.\n",
    "\n",
    "So, the maximum likelihood estimates for the parameters of a normal distribution are just the mean and standard deviation of the data. These are the values of μ and σ that maximize the likelihood function given the data.\n",
    "\n",
    "References:\n",
    "\n",
    "1. Maximum Likelihood For the Normal Distribution, step-by-step!!! StatQuest with Josh Starmer. [YouTube](https://www.youtube.com/watch?v=Dn6b9fCIUpM)\n",
    "2. Maximum Likelihood Estimation for Normal Distribution. [Towards Data Science](https://towardsdatascience.com/maximum-likelihood-estimation-for-normal-distribution-65c9c2c49e2a)"
   ]
  },
  {
   "cell_type": "markdown",
   "metadata": {},
   "source": [
    "## Python Implementation\n",
    "\n",
    "Let's use Python to implement the concept explained above. We will generate some random data points from a normal distribution, and then use maximum likelihood estimation to estimate the parameters of the distribution."
   ]
  },
  {
   "cell_type": "code",
   "execution_count": null,
   "metadata": {},
   "outputs": [],
   "source": [
    "import numpy as np\n",
    "import scipy.stats as stats\n",
    "import matplotlib.pyplot as plt\n",
    "\n",
    "# Generate some data for this example.\n",
    "np.random.seed(1)\n",
    "data = np.random.normal(loc=5, scale=2, size=1000)\n",
    "\n",
    "# Fit a normal distribution to the data:\n",
    "mu, std = stats.norm.fit(data)\n",
    "\n",
    "print(f'Mean: {mu}')\n",
    "print(f'Standard Deviation: {std}')\n",
    "\n",
    "# Plot the histogram.\n",
    "plt.hist(data, bins=25, density=True, alpha=0.6, color='g')\n",
    "\n",
    "# Plot the PDF.\n",
    "xmin, xmax = plt.xlim()\n",
    "x = np.linspace(xmin, xmax, 100)\n",
    "p = stats.norm.pdf(x, mu, std)\n",
    "plt.plot(x, p, 'k', linewidth=2)\n",
    "title = \"Fit results: mu = %.2f,  std = %.2f\" % (mu, std)\n",
    "plt.title(title)\n",
    "\n",
    "plt.show()"
   ]
  },
  {
   "cell_type": "markdown",
   "metadata": {},
   "source": [
    "In the above code, we first generate 1000 data points from a normal distribution with a mean of 5 and a standard deviation of 2. We then use the `stats.norm.fit` function from the `scipy` library to fit a normal distribution to this data. The function returns the mean and standard deviation of the fitted distribution, which are the maximum likelihood estimates for the parameters of the normal distribution. We then plot the histogram of the data and the probability density function (PDF) of the fitted normal distribution.\n",
    "\n",
    "As we can see from the output, the maximum likelihood estimates for the mean and standard deviation are very close to the actual parameters of the normal distribution from which we generated the data. This shows that maximum likelihood estimation can provide good estimates for the parameters of a normal distribution."
   ]
  }
 ],
 "metadata": {
  "kernelspec": {
   "display_name": "Python 3",
   "language": "python",
   "name": "python3"
  },
  "language_info": {
   "codemirror_mode": {
    "name": "ipython",
    "version": 3
   },
   "file_extension": ".py",
   "mimetype": "text/x-python",
   "name": "python",
   "nbconvert_exporter": "python",
   "pygments_lexer": "ipython3",
   "version": "3.8.3"
  }
 },
 "nbformat": 4,
 "nbformat_minor": 2
}