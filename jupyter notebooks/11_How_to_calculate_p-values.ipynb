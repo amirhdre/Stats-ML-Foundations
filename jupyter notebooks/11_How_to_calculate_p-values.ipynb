{
 "cells": [
  {
   "cell_type": "markdown",
   "id": "0fda57ae",
   "metadata": {
    "pycharm": {
     "name": "#%% md\n"
    }
   },
   "source": [
    "# How to Calculate p-values\n",
    "\n",
    "In this notebook, we will explore **p-values**, a fundamental concept in statistical hypothesis testing. We'll discuss what p-values represent, how to calculate them, and their importance in making data-driven decisions."
   ]
  },
  {
   "cell_type": "markdown",
   "id": "ab4dee22",
   "metadata": {
    "pycharm": {
     "name": "#%% md\n"
    }
   },
   "source": [
    "## What is a p-value?\n",
    "\n",
    "A p-value helps you determine the significance of your test results. It is the probability of obtaining test results at least as extreme as the ones observed during the test, assuming the null hypothesis is true. Typically:\n",
    "\n",
    "- A small p-value (≤ 0.05) indicates strong evidence against the null hypothesis, so you reject it.\n",
    "- A large p-value (> 0.05) indicates weak evidence against the null hypothesis, so you fail to reject it."
   ]
  },
  {
   "cell_type": "code",
   "execution_count": 1,
   "id": "d2cb96fa",
   "metadata": {
    "pycharm": {
     "name": "#%%\n"
    }
   },
   "outputs": [],
   "source": [
    "import numpy as np\n",
    "from scipy.stats import ttest_1samp, ttest_ind, ttest_rel, chi2_contingency\n",
    "import matplotlib.pyplot as plt\n",
    "\n",
    "# Set a random seed for reproducibility\n",
    "np.random.seed(42)"
   ]
  },
  {
   "cell_type": "markdown",
   "id": "368be237",
   "metadata": {
    "pycharm": {
     "name": "#%% md\n"
    }
   },
   "source": [
    "## One-Sample t-test\n",
    "\n",
    "This test compares the mean of a sample to a known value (e.g., population mean).\n",
    "\n",
    "### Example: Is the mean weight of a sample of apples equal to 150g?"
   ]
  },
  {
   "cell_type": "code",
   "execution_count": 2,
   "id": "ee7b3585",
   "metadata": {
    "pycharm": {
     "name": "#%%\n"
    }
   },
   "outputs": [
    {
     "name": "stdout",
     "output_type": "stream",
     "text": [
      "T-statistic: 0.000\n",
      "P-value: 1.000\n"
     ]
    }
   ],
   "source": [
    "# Sample data: weights of 10 apples in grams\n",
    "sample_weights = [149, 150, 152, 147, 151, 153, 150, 148, 149, 151]\n",
    "\n",
    "# Perform one-sample t-test\n",
    "population_mean = 150\n",
    "t_stat, p_value = ttest_1samp(sample_weights, population_mean)\n",
    "\n",
    "print(f\"T-statistic: {t_stat:.3f}\")\n",
    "print(f\"P-value: {p_value:.3f}\")"
   ]
  },
  {
   "cell_type": "markdown",
   "id": "45371f11",
   "metadata": {
    "pycharm": {
     "name": "#%% md\n"
    }
   },
   "source": [
    "### Visualizing the data\n",
    "Let's visualize the sample data to better understand the distribution."
   ]
  },
  {
   "cell_type": "code",
   "execution_count": 12,
   "id": "fcfd4098",
   "metadata": {
    "pycharm": {
     "name": "#%%\n"
    }
   },
   "outputs": [
    {
     "data": {
      "text/plain": "<Figure size 432x288 with 1 Axes>",
      "image/png": "[encoded data removed]"
     },
     "metadata": {
      "needs_background": "light"
     },
     "output_type": "display_data"
    }
   ],
   "source": [
    "plt.hist(sample_weights, bins=20, color='skyblue', edgecolor='black')\n",
    "plt.axvline(population_mean, color='red', linestyle='--', label='Population Mean')\n",
    "plt.title('Sample Weights Distribution')\n",
    "plt.xlabel('Weight (g)')\n",
    "plt.ylabel('Frequency')\n",
    "plt.legend()\n",
    "plt.show()"
   ]
  },
  {
   "cell_type": "markdown",
   "id": "2f35a913",
   "metadata": {
    "pycharm": {
     "name": "#%% md\n"
    }
   },
   "source": [
    "## Two-Sample t-test\n",
    "\n",
    "This test compares the means of two independent groups.\n",
    "\n",
    "### Example: Are the average heights of two plant species different?"
   ]
  },
  {
   "cell_type": "code",
   "execution_count": 13,
   "id": "72041f64",
   "metadata": {
    "pycharm": {
     "name": "#%%\n"
    }
   },
   "outputs": [
    {
     "name": "stdout",
     "output_type": "stream",
     "text": [
      "T-statistic: 4.358\n",
      "P-value: 0.002\n"
     ]
    }
   ],
   "source": [
    "# Sample data: heights of two plant species in cm\n",
    "species_A = [10.2, 10.5, 10.8, 11.0, 10.6]\n",
    "species_B = [9.8, 10.0, 9.7, 10.2, 9.9]\n",
    "\n",
    "# Perform two-sample t-test\n",
    "t_stat, p_value = ttest_ind(species_A, species_B)\n",
    "\n",
    "print(f\"T-statistic: {t_stat:.3f}\")\n",
    "print(f\"P-value: {p_value:.3f}\")"
   ]
  },
  {
   "cell_type": "markdown",
   "id": "a27cf781",
   "metadata": {
    "pycharm": {
     "name": "#%% md\n"
    }
   },
   "source": [
    "## Conclusion\n",
    "\n",
    "P-values are a crucial part of hypothesis testing. By understanding how to calculate and interpret them, you can make informed decisions based on your data. Remember to visualize your data whenever possible to complement statistical results."
   ]
  }
 ],
 "metadata": {
  "kernelspec": {
   "display_name": "pytorch_m1",
   "language": "python",
   "name": "python3"
  },
  "language_info": {
   "codemirror_mode": {
    "name": "ipython",
    "version": 3
   },
   "file_extension": ".py",
   "mimetype": "text/x-python",
   "name": "python",
   "nbconvert_exporter": "python",
   "pygments_lexer": "ipython3",
   "version": "3.8.20"
  }
 },
 "nbformat": 4,
 "nbformat_minor": 5
}