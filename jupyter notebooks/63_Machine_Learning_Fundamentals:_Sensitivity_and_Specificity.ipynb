{
  "cells": [
    {
      "cell_type": "markdown",
      "metadata": {},
      "source": [
        "# Machine Learning Fundamentals: Sensitivity and Specificity\n",
        "In this notebook, we will discuss two key concepts in Machine Learning: Sensitivity and Specificity. These concepts are fundamental in understanding the performance of a classification model."
      ]
    },
    {
      "cell_type": "markdown",
      "metadata": {},
      "source": [
        "## Introduction\n",
        "Sensitivity and Specificity are statistical measures of the performance of a binary classification test. They measure the proportion of actual positives that are correctly identified (sensitivity) and the proportion of negatives that are correctly identified (specificity)."
      ]
    },
    {
      "cell_type": "markdown",
      "metadata": {},
      "source": [
        "## Importing Libraries\n",
        "First, we will import necessary libraries."
      ]
    },
    {
      "cell_type": "code",
      "execution_count": 1,
      "metadata": {},
      "outputs": [],
      "source": [
        "import numpy as np\n",
        "import pandas as pd\n",
        "import matplotlib.pyplot as plt\n",
        "import seaborn as sns\n",
        "from sklearn.metrics import confusion_matrix\n",
        "from sklearn.metrics import classification_report\n",
        "from sklearn.model_selection import train_test_split\n",
        "from sklearn.linear_model import LogisticRegression\n",
        "from sklearn.ensemble import RandomForestClassifier\n",
        "from sklearn.datasets import load_breast_cancer\n"
      ]
    },
    {
      "cell_type": "markdown",
      "metadata": {},
      "source": [
        "## Confusion Matrix\n",
        "Before we can understand Sensitivity and Specificity, we need to understand the confusion matrix. The confusion matrix is a table layout that allows visualization of the performance of an algorithm. The fundamental components of a confusion matrix are true positives, true negatives, false positives, and false negatives."
      ]
    },
    {
      "cell_type": "markdown",
      "metadata": {},
      "source": [
        "## Sensitivity and Specificity\n",
        "Sensitivity (also known as the true positive rate) measures the proportion of actual positives that are correctly identified. The formula for sensitivity is:\n",
        "\n",
        "$$ Sensitivity = \\frac{True Positives}{True Positives + False Negatives} $$\n",
        "\n",
        "Specificity (also known as the true negative rate) measures the proportion of actual negatives that are correctly identified. The formula for specificity is:\n",
        "\n",
        "$$ Specificity = \\frac{True Negatives}{True Negatives + False Positives} $$"
      ]
    },
    {
      "cell_type": "markdown",
      "metadata": {},
      "source": [
        "## Example: Heart Disease Dataset\n",
        "We will use an example dataset related to heart disease to illustrate these concepts. This dataset contains information about patients and whether they have heart disease or not. Our task is to build a model that predicts whether a patient has heart disease based on the given features."
      ]
    },
    {
      "cell_type": "code",
      "execution_count": 2,
      "metadata": {},
      "outputs": [],
      "source": [
        "# Assuming 'heart_disease.csv' is a csv file with the heart disease data\n",
        "# Load the Breast Cancer dataset\n",
        "cancer_data = load_breast_cancer()\n",
        "\n",
        "# Convert to DataFrame for easier manipulation\n",
        "X = pd.DataFrame(cancer_data.data, columns=cancer_data.feature_names)\n",
        "y = pd.Series(cancer_data.target)"
      ]
    },
    {
      "cell_type": "markdown",
      "metadata": {},
      "source": [
        "## Building a Classification Model\n",
        "We will split the dataset into a training set and a testing set. Then, we will build a logistic regression model using the training data and make predictions on the testing data."
      ]
    },
    {
      "cell_type": "code",
      "execution_count": 3,
      "metadata": {},
      "outputs": [
        {
          "name": "stderr",
          "output_type": "stream",
          "text": [
            "/Users/amirhosseindaraie/miniconda3/envs/my_base/lib/python3.8/site-packages/sklearn/linear_model/_logistic.py:458: ConvergenceWarning: lbfgs failed to converge (status=1):\n",
            "STOP: TOTAL NO. of ITERATIONS REACHED LIMIT.\n",
            "\n",
            "Increase the number of iterations (max_iter) or scale the data as shown in:\n",
            "    https://scikit-learn.org/stable/modules/preprocessing.html\n",
            "Please also refer to the documentation for alternative solver options:\n",
            "    https://scikit-learn.org/stable/modules/linear_model.html#logistic-regression\n",
            "  n_iter_i = _check_optimize_result(\n"
          ]
        }
      ],
      "source": [
        "\n",
        "X_train, X_test, y_train, y_test = train_test_split(X, y, test_size=0.2, random_state=42)\n",
        "lr_model = LogisticRegression()\n",
        "lr_model.fit(X_train, y_train)\n",
        "lr_predictions = lr_model.predict(X_test)"
      ]
    },
    {
      "cell_type": "markdown",
      "metadata": {},
      "source": [
        "## Evaluating the Model\n",
        "We can evaluate the model's performance by calculating the sensitivity and specificity from the confusion matrix."
      ]
    },
    {
      "cell_type": "code",
      "execution_count": 4,
      "metadata": {},
      "outputs": [
        {
          "name": "stdout",
          "output_type": "stream",
          "text": [
            "Logistic Regression Sensitivity:  0.9302325581395349\n",
            "Logistic Regression Specificity:  0.9859154929577465\n"
          ]
        }
      ],
      "source": [
        "def calculate_sensitivity_specificity(y_test, y_pred_test):\n",
        "    cm = confusion_matrix(y_test, y_pred_test)\n",
        "    sensitivity = cm[0,0] / (cm[0,0] + cm[0,1])\n",
        "    specificity = cm[1,1] / (cm[1,0] + cm[1,1])\n",
        "    return sensitivity, specificity\n",
        "\n",
        "sensitivity_lr, specificity_lr = calculate_sensitivity_specificity(y_test, lr_predictions)\n",
        "print('Logistic Regression Sensitivity: ', sensitivity_lr)\n",
        "print('Logistic Regression Specificity: ', specificity_lr)"
      ]
    },
    {
      "cell_type": "markdown",
      "metadata": {},
      "source": [
        "## Conclusion\n",
        "Sensitivity and Specificity are important concepts in evaluating the performance of a classification model. They give us insights on how well the model is performing in correctly identifying positive and negative classes. Depending on the problem at hand, we might want to optimize our model for higher sensitivity or higher specificity."
      ]
    }
  ],
  "metadata": {
    "kernelspec": {
      "display_name": "Python 3",
      "language": "python",
      "name": "python3"
    },
    "language_info": {
      "codemirror_mode": {
        "name": "ipython",
        "version": 3
      },
      "file_extension": ".py",
      "mimetype": "text/x-python",
      "name": "python",
      "nbconvert_exporter": "python",
      "pygments_lexer": "ipython3",
      "version": "3.8.16"
    }
  },
  "nbformat": 4,
  "nbformat_minor": 4
}
