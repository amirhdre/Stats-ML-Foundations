{
 "cells": [
  {
   "cell_type": "markdown",
   "id": "a06c93f7",
   "metadata": {
    "pycharm": {
     "name": "#%% md\n"
    }
   },
   "source": [
    "# R-squared, Clearly Explained!\n",
    "\n",
    "In this notebook, we will explore R-squared, a metric used in regression analysis to measure the goodness of fit. R-squared is intuitive and provides a quantitative measure of how well a model explains the variability of the dependent variable."
   ]
  },
  {
   "cell_type": "markdown",
   "id": "7b86175c",
   "metadata": {
    "pycharm": {
     "name": "#%% md\n"
    }
   },
   "source": [
    "## What is Correlation?\n",
    "\n",
    "Before diving into R-squared, let's briefly discuss correlation. Correlation measures the strength and direction of the relationship between two variables:\n",
    "\n",
    "- **Positive Correlation**: As one variable increases, the other also increases.\n",
    "- **Negative Correlation**: As one variable increases, the other decreases.\n",
    "- **No Correlation**: No discernible relationship between the variables.\n",
    "\n",
    "Correlation coefficients range from -1 to 1:\n",
    "- **1**: Perfect positive correlation.\n",
    "- **-1**: Perfect negative correlation.\n",
    "- **0**: No correlation."
   ]
  },
  {
   "cell_type": "markdown",
   "id": "23a342a9",
   "metadata": {
    "pycharm": {
     "name": "#%% md\n"
    }
   },
   "source": [
    "## Understanding R-squared\n",
    "\n",
    "R-squared, also known as the coefficient of determination, measures the proportion of variance in the dependent variable that is predictable from the independent variable(s). It is expressed as a percentage:\n",
    "\n",
    "$$ R^2 = 1 - \\frac{SS_{residual}}{SS_{total}} $$\n",
    "\n",
    "Where:\n",
    "\n",
    "- $ SS_{residual} $: Sum of squared residuals (errors).\n",
    "- $ SS_{total} $: Total sum of squares (variation in the dependent variable).\n",
    "\n",
    "### Key Insights:\n",
    "- $ R^2 $ ranges from 0 to 1.\n",
    "- An $ R^2 $ of 1 indicates the model perfectly explains the data.\n",
    "- An $ R^2 $ of 0 indicates the model does not explain the data at all."
   ]
  },
  {
   "cell_type": "code",
   "execution_count": 5,
   "id": "9e4a2f9b",
   "metadata": {
    "pycharm": {
     "name": "#%%\n"
    }
   },
   "outputs": [],
   "source": [
    "# Import necessary libraries\n",
    "import numpy as np\n",
    "import matplotlib.pyplot as plt\n",
    "from sklearn.linear_model import LinearRegression\n",
    "from sklearn.metrics import r2_score\n"
   ]
  },
  {
   "cell_type": "markdown",
   "id": "c46d8812",
   "metadata": {
    "pycharm": {
     "name": "#%% md\n"
    }
   },
   "source": [
    "### Example: Simple Linear Regression\n",
    "\n",
    "Let's generate a dataset and calculate the R-squared value for a simple linear regression model."
   ]
  },
  {
   "cell_type": "code",
   "execution_count": 7,
   "id": "0de3dfa1",
   "metadata": {
    "pycharm": {
     "name": "#%%\n"
    }
   },
   "outputs": [
    {
     "data": {
      "text/plain": "0.958272869425565"
     },
     "execution_count": 7,
     "metadata": {},
     "output_type": "execute_result"
    }
   ],
   "source": [
    "# Generate synthetic data\n",
    "np.random.seed(42)\n",
    "X = np.random.rand(100, 1) * 10  # Independent variable\n",
    "y = 3 * X.squeeze() + np.random.randn(100) * 2  # Dependent variable with some noise\n",
    "\n",
    "# Fit a linear regression model\n",
    "model = LinearRegression()\n",
    "model.fit(X, y)\n",
    "y_pred = model.predict(X)\n",
    "\n",
    "# Calculate R-squared\n",
    "r_squared = r2_score(y, y_pred)\n",
    "r_squared"
   ]
  },
  {
   "cell_type": "code",
   "execution_count": 26,
   "outputs": [],
   "source": [
    "%matplotlib qt"
   ],
   "metadata": {
    "collapsed": false,
    "pycharm": {
     "name": "#%%\n"
    }
   }
  },
  {
   "cell_type": "code",
   "execution_count": 51,
   "outputs": [
    {
     "data": {
      "text/plain": "14.103261581011564"
     },
     "execution_count": 51,
     "metadata": {},
     "output_type": "execute_result"
    }
   ],
   "source": [
    "np.mean(y)"
   ],
   "metadata": {
    "collapsed": false,
    "pycharm": {
     "name": "#%%\n"
    }
   }
  },
  {
   "cell_type": "code",
   "execution_count": 60,
   "outputs": [],
   "source": [
    "fig, ax = plt.subplots(1, 1, figsize=(10,8))\n",
    "ax.scatter(X, y, 150, c='k', zorder=5)\n",
    "ax.scatter(X, y_pred, 50, 'orange')\n",
    "ax.plot(X, y_pred,c='orange', alpha=0.1, lw=5)\n",
    "ax.set_xlabel(\"X\", fontsize=25)\n",
    "ax.set_ylabel(\"Y\", fontsize=25)\n",
    "ax.axhline( np.mean(y),  c='darkblue', lw=5)\n",
    "n = len(X)\n",
    "\n",
    "SSR = 0\n",
    "SST = 0\n",
    "for i in range(n):\n",
    "    ax.plot( [X[i], X[i]], [y_pred[i], y[i]], c='r')\n",
    "    SSR += (y[i] - y_pred[i])\n",
    "    SST += (y[i] - np.mean(y))\n",
    "ax.grid(False)"
   ],
   "metadata": {
    "collapsed": false,
    "pycharm": {
     "name": "#%%\n"
    }
   }
  },
  {
   "cell_type": "code",
   "execution_count": 61,
   "outputs": [
    {
     "data": {
      "text/plain": "-0.43817204301075274"
     },
     "execution_count": 61,
     "metadata": {},
     "output_type": "execute_result"
    }
   ],
   "source": [
    "1 - SSR/SST"
   ],
   "metadata": {
    "collapsed": false,
    "pycharm": {
     "name": "#%%\n"
    }
   }
  },
  {
   "cell_type": "markdown",
   "id": "b3b165f9",
   "metadata": {
    "pycharm": {
     "name": "#%% md\n"
    }
   },
   "source": [
    "### Visualizing the Regression\n",
    "\n",
    "The plot below shows the original data points and the regression line. The R-squared value indicates how well the line fits the data."
   ]
  },
  {
   "cell_type": "code",
   "execution_count": 63,
   "id": "cf148e64",
   "metadata": {
    "pycharm": {
     "name": "#%%\n"
    }
   },
   "outputs": [],
   "source": [
    "# Plot the data and regression line\n",
    "plt.figure(figsize=(8, 5))\n",
    "plt.scatter(X, y, color='blue', label='Data')\n",
    "plt.plot(X, y_pred, color='red', label=f'Regression Line (R^2 = {r_squared:.2f})')\n",
    "plt.title('Simple Linear Regression')\n",
    "plt.xlabel('Independent Variable (X)')\n",
    "plt.ylabel('Dependent Variable (y)')\n",
    "plt.legend()\n",
    "plt.grid(alpha=0.3)\n",
    "plt.show()"
   ]
  },
  {
   "cell_type": "markdown",
   "id": "a48bf580",
   "metadata": {
    "pycharm": {
     "name": "#%% md\n"
    }
   },
   "source": [
    "### Interpreting R-squared\n",
    "\n",
    "- A high R-squared (close to 1) suggests a strong fit.\n",
    "- A low R-squared (close to 0) suggests a poor fit.\n",
    "\n",
    "In this example, the R-squared value quantifies the proportion of variance in \\( y \\) explained by \\( X \\)."
   ]
  },
  {
   "cell_type": "markdown",
   "id": "0112b306",
   "metadata": {
    "pycharm": {
     "name": "#%% md\n"
    }
   },
   "source": [
    "## Limitations of R-squared\n",
    "\n",
    "- **Overfitting**: Adding more independent variables can artificially inflate R-squared.\n",
    "- **Non-linearity**: R-squared does not account for non-linear relationships.\n",
    "- **Context**: A high R-squared does not guarantee causation or model validity."
   ]
  },
  {
   "cell_type": "markdown",
   "id": "3747dab3",
   "metadata": {
    "pycharm": {
     "name": "#%% md\n"
    }
   },
   "source": [
    "## Conclusion\n",
    "\n",
    "R-squared is a valuable metric for assessing the fit of a regression model. It provides insights into the proportion of variability explained by the model, but it should be interpreted cautiously alongside other metrics and domain knowledge."
   ]
  },
  {
   "cell_type": "markdown",
   "id": "1e91fad9",
   "metadata": {
    "pycharm": {
     "name": "#%% md\n"
    }
   },
   "source": []
  }
 ],
 "metadata": {
  "kernelspec": {
   "display_name": "my_base",
   "language": "python",
   "name": "python3"
  },
  "language_info": {
   "codemirror_mode": {
    "name": "ipython",
    "version": 3
   },
   "file_extension": ".py",
   "mimetype": "text/x-python",
   "name": "python",
   "nbconvert_exporter": "python",
   "pygments_lexer": "ipython3",
   "version": "3.8.16"
  }
 },
 "nbformat": 4,
 "nbformat_minor": 5
}