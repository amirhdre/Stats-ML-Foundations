{
 "cells": [
  {
   "cell_type": "markdown",
   "metadata": {
    "pycharm": {
     "name": "#%% md\n"
    }
   },
   "source": [
    "# Histograms, Clearly Explained\n",
    "The goal of this notebook is to clearly explain the concept of histograms, how they are created, and their uses."
   ]
  },
  {
   "cell_type": "markdown",
   "metadata": {
    "pycharm": {
     "name": "#%% md\n"
    }
   },
   "source": [
    "## What is a Histogram?\n",
    "A histogram is a plot that lets you discover, and show, the underlying frequency distribution (shape) of a set of continuous data. This allows the inspection of the data for its underlying distribution (e.g., normal distribution), outliers, skewness, etc. An example of a histogram is given below. \n",
    "![Histogram Example](https://upload.wikimedia.org/wikipedia/commons/thumb/c/c3/Histogram_of_arrivals_per_minute.svg/1200px-Histogram_of_arrivals_per_minute.svg.png)\n",
    "\n",
    "A histogram divides the range of values into a series of intervals (or bins) and then count how many of the values fall into each interval. The bins are usually specified as consecutive, non-overlapping intervals of a variable. The bins (intervals) must be adjacent and are often (but not necessarily) of equal size.\n",
    "\n",
    "You start by defining the bins. Each bin is defined by its boundary values. The boundary values are used to sort the data points into the appropriate bin. Each bin contains the number of occurrences of scores in the data set that are contained within that bin's interval."
   ]
  },
  {
   "cell_type": "markdown",
   "metadata": {
    "pycharm": {
     "name": "#%% md\n"
    }
   },
   "source": [
    "## Building a Histogram\n",
    "Let's create a histogram using Python's Matplotlib library. We will generate some random heights data and then plot a histogram."
   ]
  },
  {
   "cell_type": "code",
   "execution_count": 5,
   "metadata": {
    "pycharm": {
     "name": "#%%\n"
    }
   },
   "outputs": [
    {
     "data": {
      "text/plain": "<Figure size 432x288 with 1 Axes>",
      "image/png": "[encoded data removed]"
     },
     "metadata": {
      "needs_background": "light"
     },
     "output_type": "display_data"
    }
   ],
   "source": [
    "import matplotlib.pyplot as plt\n",
    "import numpy as np\n",
    "\n",
    "# Generate some random heights data\n",
    "np.random.seed(0)\n",
    "heights = np.random.normal(loc=170, scale=10, size=1000)\n",
    "\n",
    "# Create the histogram\n",
    "plt.hist(heights, bins=20, color='blue', edgecolor='black')\n",
    "plt.title('Heights Distribution')\n",
    "plt.xlabel('Height (cm)')\n",
    "plt.ylabel('Frequency')\n",
    "plt.show()"
   ]
  },
  {
   "cell_type": "markdown",
   "metadata": {
    "pycharm": {
     "name": "#%% md\n"
    }
   },
   "source": [
    "In the histogram above, the height of each bar corresponds to the number of data points (observations) that fall into each bin. In this case, each bin represents an interval of height. The bin on the far left, for example, corresponds to heights from around 130 cm to 140 cm, and so on. The height of the bar tells us the number of people that have a height falling within that range of values."
   ]
  },
  {
   "cell_type": "markdown",
   "metadata": {
    "pycharm": {
     "name": "#%% md\n"
    }
   },
   "source": [
    "## Choosing the Right Number of Bins\n",
    "Choosing the right number of bins is important to correctly represent the data. If we choose too few bins, the detail within the data may be lost and if we choose too many bins, the noise in the data may overshadow the true underlying pattern. There is no definitive answer to the number of bins that should be used for all datasets, it can vary depending on the distribution and the nature of the data."
   ]
  },
  {
   "cell_type": "code",
   "execution_count": 6,
   "metadata": {
    "pycharm": {
     "name": "#%%\n"
    }
   },
   "outputs": [
    {
     "data": {
      "text/plain": "<Figure size 864x432 with 2 Axes>",
      "image/png": "[encoded data removed]"
     },
     "metadata": {
      "needs_background": "light"
     },
     "output_type": "display_data"
    }
   ],
   "source": [
    "fig, axs = plt.subplots(1, 2, figsize=(12, 6), tight_layout=True)\n",
    "\n",
    "# Too few bins\n",
    "axs[0].hist(heights, bins=5, color='blue', edgecolor='black')\n",
    "axs[0].set_title('Too Few Bins')\n",
    "\n",
    "# Too many bins\n",
    "axs[1].hist(heights, bins=100, color='blue', edgecolor='black')\n",
    "axs[1].set_title('Too Many Bins')\n",
    "\n",
    "plt.show()"
   ]
  },
  {
   "cell_type": "markdown",
   "metadata": {
    "pycharm": {
     "name": "#%% md\n"
    }
   },
   "source": [
    "In the first plot, the number of bins is too small to reveal the underlying shape of the data. In the second plot, the number of bins is too large, and the histogram doesn't provide a clear picture of the data distribution because of the noise. Therefore, you should always try different numbers of bins and choose the one that represents your data the best."
   ]
  },
  {
   "cell_type": "markdown",
   "metadata": {
    "pycharm": {
     "name": "#%% md\n"
    }
   },
   "source": [
    "## Using Histograms for Predictions\n",
    "Histograms can be used to predict the probability of getting future measurements. For instance, based on the heights histogram we plotted earlier, we can predict that the next height measurement we make will likely fall between 160 cm and 180 cm. Measurements outside this range are less likely to happen in the future."
   ]
  },
  {
   "cell_type": "markdown",
   "metadata": {
    "pycharm": {
     "name": "#%% md\n"
    }
   },
   "source": [
    "## Conclusion\n",
    "In this notebook, we explored the concept of histograms, how they are created, and their usefulness in visualizing the distribution of data and making predictions. We also discussed the importance of choosing the right number of bins when creating a histogram. Remember, a good histogram provides a clear picture of the data distribution without losing important details or amplifying noise."
   ]
  },
  {
   "cell_type": "markdown",
   "id": "69202b0d",
   "metadata": {
    "pycharm": {
     "name": "#%% md\n"
    }
   },
   "source": []
  }
 ],
 "metadata": {
  "kernelspec": {
   "display_name": "pytorch_m1",
   "language": "python",
   "name": "python3"
  },
  "language_info": {
   "codemirror_mode": {
    "name": "ipython",
    "version": 3
   },
   "file_extension": ".py",
   "mimetype": "text/x-python",
   "name": "python",
   "nbconvert_exporter": "python",
   "pygments_lexer": "ipython3",
   "version": "3.8.20"
  }
 },
 "nbformat": 4,
 "nbformat_minor": 5
}