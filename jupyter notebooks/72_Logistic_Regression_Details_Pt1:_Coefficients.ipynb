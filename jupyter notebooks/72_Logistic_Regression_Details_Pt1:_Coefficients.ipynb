{
 "cells": [
  {
   "cell_type": "markdown",
   "metadata": {},
   "source": [
    "# Logistic Regression Details Pt1: Coefficients\n",
    "\n",
    "In this notebook, we will be discussing the specifics of logistic regression, particularly the coefficients in the context of using a continuous variable to predict a binary outcome. We will also discuss the coefficients in the context of testing if a discrete variable is related to the binary outcome.\n",
    "\n",
    "To start with, let's import the necessary libraries."
   ]
  },
  {
   "cell_type": "code",
   "execution_count": null,
   "metadata": {},
   "outputs": [],
   "source": [
    "import numpy as np\n",
    "import pandas as pd\n",
    "import matplotlib.pyplot as plt\n",
    "import seaborn as sns\n",
    "from sklearn.linear_model import LogisticRegression\n",
    "from sklearn.model_selection import train_test_split\n",
    "from sklearn.metrics import classification_report, confusion_matrix"
   ]
  },
  {
   "cell_type": "markdown",
   "metadata": {},
   "source": [
    "## Logistic Regression\n",
    "\n",
    "Logistic Regression is a statistical model that uses a logistic function to model a binary dependent variable. In regression analysis, logistic regression (or logit regression) is estimating the parameters of a logistic model (a form of binary regression).\n",
    "\n",
    "Let's create a synthetic dataset and use it to illustrate the concept of logistic regression."
   ]
  },
  {
   "cell_type": "code",
   "execution_count": null,
   "metadata": {},
   "outputs": [],
   "source": [
    "# Create a synthetic dataset\n",
    "np.random.seed(0)\n",
    "x = np.random.normal(0, 1, 100)\n",
    "y = (x > 0).astype(np.float)\n",
    "x[x > 0] *= 4\n",
    "x += .3 * np.random.normal(0, 1, 100)\n",
    "\n",
    "x = x[:, np.newaxis]\n",
    "\n",
    "# Plot the data\n",
    "plt.figure(figsize=(8, 6))\n",
    "plt.scatter(x, y, color='black', zorder=20)\n",
    "plt.show()"
   ]
  },
  {
   "cell_type": "markdown",
   "metadata": {},
   "source": [
    "From the plot, we see that the data points are divided into two groups: one with a value close to 0 and one with a value close to 1. We can fit a logistic regression model to this data and predict the probability of a data point being in the group with a value of 1.\n",
    "\n",
    "## Logistic Regression Coefficients\n",
    "\n",
    "In logistic regression, the coefficients are the values that multiply the predictor values. The sign of each coefficient indicates the direction of the relationship between a predictor variable and the response variable. A positive sign indicates that as the predictor variable increases, the response variable also increases. A negative sign indicates the opposite. \n",
    "\n",
    "Let's fit a logistic regression model to this data and examine the coefficients."
   ]
  },
  {
   "cell_type": "code",
   "execution_count": null,
   "metadata": {},
   "outputs": [],
   "source": [
    "# Fit the logistic regression model\n",
    "clf = LogisticRegression(solver='lbfgs')\n",
    "clf.fit(x, y)\n",
    "\n",
    "# Print the coefficients\n",
    "print(f'Coefficient: {clf.coef_}')"
   ]
  },
  {
   "cell_type": "markdown",
   "metadata": {},
   "source": [
    "From the output, we can see that the coefficient is positive, which means that as the predictor variable (x) increases, the response variable (y) also increases, hence, the probability of the outcome being 1 increases.\n",
    "\n",
    "## Understanding Logistic Regression Coefficients\n",
    "\n",
    "The coefficients of a logistic regression model can be interpreted in terms of the odds ratio, which is the ratio of the odds of success to the odds of failure. For a coefficient $\\beta$, the odds ratio is given by $e^{\\beta}$, which is the exponential function of the coefficient.\n",
    "\n",
    "If $\\beta$ is positive, $e^{\\beta}$ is greater than 1, which means that as the predictor variable increases, the odds of the outcome being 1 increase. If $\\beta$ is negative, $e^{\\beta}$ is less than 1, which means that as the predictor variable increases, the odds of the outcome being 1 decrease.\n",
    "\n",
    "Let's calculate the odds ratio for our logistic regression model."
   ]
  },
  {
   "cell_type": "code",
   "execution_count": null,
   "metadata": {},
   "outputs": [],
   "source": [
    "# Calculate the odds ratio\n",
    "odds_ratio = np.exp(clf.coef_)\n",
    "print(f'Odds ratio: {odds_ratio}')"
   ]
  },
  {
   "cell_type": "markdown",
   "metadata": {},
   "source": [
    "The odds ratio is greater than 1, which confirms that as the predictor variable increases, the odds of the outcome being 1 increase.\n",
    "\n",
    "## Logistic Regression with a Discrete Variable\n",
    "\n",
    "Logistic regression can also be used with a discrete predictor variable. The process is similar, but instead of having a single coefficient for the predictor variable, we have a separate coefficient for each level of the variable."
   ]
  },
  {
   "cell_type": "code",
   "execution_count": null,
   "metadata": {},
   "outputs": [],
   "source": [
    "# Create a synthetic dataset with a discrete predictor variable\n",
    "np.random.seed(0)\n",
    "x_discrete = np.random.choice([0, 1], size=100, p=[.5, .5])\n",
    "y_discrete = (x_discrete == 1).astype(np.float)\n",
    "x_discrete = x_discrete[:, np.newaxis]\n",
    "\n",
    "# Fit the logistic regression model\n",
    "clf_discrete = LogisticRegression(solver='lbfgs')\n",
    "clf_discrete.fit(x_discrete, y_discrete)\n",
    "\n",
    "# Print the coefficients\n",
    "print(f'Coefficient: {clf_discrete.coef_}')"
   ]
  },
  {
   "cell_type": "markdown",
   "metadata": {},
   "source": [
    "In this case, the coefficient is positive, which means that the odds of the outcome being 1 are higher for the level 1 of the predictor variable than for the level 0.\n",
    "\n",
    "In conclusion, the coefficients in logistic regression are related to the odds ratio of the outcome and can be interpreted in terms of the direction and strength of the relationship between the predictor variables and the response variable. They are the key to understanding the output of a logistic regression model. "
   ]
  },
  {
   "cell_type": "markdown",
   "metadata": {},
   "source": [
    "## References\n",
    "\n",
    "1. [Logistic regression - Wikipedia](https://en.wikipedia.org/wiki/Logistic_regression)\n",
    "2. [Understanding Logistic Regression Coefficients - UCLA](https://stats.idre.ucla.edu/other/mult-pkg/faq/general/faq-how-do-i-interpret-odds-ratios-in-logistic-regression/)"
   ]
  },
  {
   "cell_type": "code",
   "execution_count": null,
   "metadata": {},
   "outputs": [],
   "source": []
  }
 ],
 "metadata": {
  "kernelspec": {
   "display_name": "Python 3",
   "language": "python",
   "name": "python3"
  },
  "language_info": {
   "codemirror_mode": {
    "name": "ipython",
    "version": 3
   },
   "file_extension": ".py",
   "mimetype": "text/x-python",
   "name": "python",
   "nbconvert_exporter": "python",
   "pygments_lexer": "ipython3",
   "version": "3.8.8"
  }
 },
 "nbformat": 4,
 "nbformat_minor": 5
}
