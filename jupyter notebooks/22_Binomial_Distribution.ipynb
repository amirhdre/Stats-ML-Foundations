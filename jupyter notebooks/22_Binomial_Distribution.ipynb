{
 "cells": [
  {
   "cell_type": "markdown",
   "id": "cd408003",
   "metadata": {
    "pycharm": {
     "name": "#%% md\n"
    }
   },
   "source": [
    "### Let's Dive into the Binomial Distribution! 🌟\n",
    "We'll explore the fascinating world of probabilities with visuals and interactive content."
   ]
  },
  {
   "cell_type": "markdown",
   "id": "08db78da",
   "metadata": {
    "pycharm": {
     "name": "#%% md\n"
    }
   },
   "source": [
    "# The Binomial Distribution and Test\n",
    "\n",
    "In this notebook, we will explore the binomial distribution and the binomial test, and how they can be used in statistical analysis. The binomial distribution is a probability distribution that describes the number of successes in a fixed number of independent Bernoulli trials, each with the same probability of success.\n",
    "\n",
    "The binomial test is a statistical test that determines if the observed probability of success in a binary experiment is consistent with a hypothesized probability. In other words, it tests whether the probability of a success on each trial is what you expect.\n",
    "\n",
    "*Reference:*\n",
    "- [Binomial Distribution - Investopedia](https://www.investopedia.com/terms/b/binomialdistribution.asp)\n",
    "- [Binomial Test - Investopedia](https://www.investopedia.com/terms/b/binomial-probability.asp)"
   ]
  },
  {
   "cell_type": "markdown",
   "id": "55d35d51",
   "metadata": {
    "pycharm": {
     "name": "#%% md\n"
    }
   },
   "source": [
    "## Importing Necessary Libraries"
   ]
  },
  {
   "cell_type": "code",
   "execution_count": 1,
   "id": "0562d4b1",
   "metadata": {
    "pycharm": {
     "name": "#%%\n"
    }
   },
   "outputs": [],
   "source": [
    "import numpy as np\n",
    "from scipy.stats import binom"
   ]
  },
  {
   "cell_type": "markdown",
   "id": "5e35316e",
   "metadata": {
    "pycharm": {
     "name": "#%% md\n"
    }
   },
   "source": [
    "#### Visualization Tip 🎨\n",
    "Try running the code above to see an engaging plot or calculation! Here’s what to look for:"
   ]
  },
  {
   "cell_type": "code",
   "execution_count": 1,
   "id": "e496a0b8",
   "metadata": {
    "pycharm": {
     "name": "#%%\n"
    }
   },
   "outputs": [
    {
     "data": {
      "text/plain": "<Figure size 432x288 with 1 Axes>",
      "image/png": "[encoded data removed]"
     },
     "metadata": {
      "needs_background": "light"
     },
     "output_type": "display_data"
    }
   ],
   "source": [
    "# Example Visualization: Adding a bar plot to show binomial probabilities\n",
    "import matplotlib.pyplot as plt\n",
    "import numpy as np\n",
    "from scipy.stats import binom\n",
    "\n",
    "# Parameters for the Binomial Distribution\n",
    "n, p = 10, 0.5\n",
    "x = np.arange(0, n+1)\n",
    "pmf = binom.pmf(x, n, p)\n",
    "\n",
    "plt.bar(x, pmf, color='skyblue')\n",
    "plt.title('Binomial Distribution PMF')\n",
    "plt.xlabel('Number of Successes')\n",
    "plt.ylabel('Probability')\n",
    "plt.show()"
   ]
  },
  {
   "cell_type": "markdown",
   "id": "91866257",
   "metadata": {
    "pycharm": {
     "name": "#%% md\n"
    }
   },
   "source": [
    "### Let's Dive into the Binomial Distribution! 🌟\n",
    "We'll explore the fascinating world of probabilities with visuals and interactive content."
   ]
  },
  {
   "cell_type": "markdown",
   "id": "0b44419e",
   "metadata": {
    "pycharm": {
     "name": "#%% md\n"
    }
   },
   "source": [
    "## Binomial Distribution\n",
    "\n",
    "Let's start by generating some data from a binomial distribution. The parameters are n (the number of trials) and p (the probability of success on each trial)."
   ]
  },
  {
   "cell_type": "code",
   "execution_count": 2,
   "id": "8556c7ae",
   "metadata": {
    "pycharm": {
     "name": "#%%\n"
    }
   },
   "outputs": [],
   "source": [
    "n = 10\n",
    "p = 0.5\n",
    "data_binom = binom.rvs(n=n, p=p, size=1000)"
   ]
  },
  {
   "cell_type": "markdown",
   "id": "feeacba1",
   "metadata": {
    "pycharm": {
     "name": "#%% md\n"
    }
   },
   "source": [
    "#### Visualization Tip 🎨\n",
    "Try running the code above to see an engaging plot or calculation! Here’s what to look for:"
   ]
  },
  {
   "cell_type": "code",
   "execution_count": 3,
   "id": "688b3542",
   "metadata": {
    "pycharm": {
     "name": "#%%\n"
    }
   },
   "outputs": [
    {
     "data": {
      "text/plain": "<Figure size 432x288 with 1 Axes>",
      "image/png": "[encoded data removed]"
     },
     "metadata": {
      "needs_background": "light"
     },
     "output_type": "display_data"
    }
   ],
   "source": [
    "# Example Visualization: Adding a bar plot to show binomial probabilities\n",
    "import matplotlib.pyplot as plt\n",
    "import numpy as np\n",
    "from scipy.stats import binom\n",
    "\n",
    "# Parameters for the Binomial Distribution\n",
    "n, p = 10, 0.5\n",
    "x = np.arange(0, n+1)\n",
    "pmf = binom.pmf(x, n, p)\n",
    "\n",
    "plt.bar(x, pmf, color='skyblue')\n",
    "plt.title('Binomial Distribution PMF')\n",
    "plt.xlabel('Number of Successes')\n",
    "plt.ylabel('Probability')\n",
    "plt.show()"
   ]
  },
  {
   "cell_type": "markdown",
   "id": "a56f989d",
   "metadata": {
    "pycharm": {
     "name": "#%% md\n"
    }
   },
   "source": [
    "## Binomial Test\n",
    "\n",
    "Now, let's say we want to test the hypothesis that the probability of success is 0.5. We observe 6 successes in 10 trials. Is this result significantly different from our hypothesis? We can use the binomial test to find out."
   ]
  },
  {
   "cell_type": "code",
   "execution_count": 4,
   "id": "2fe65a7a",
   "metadata": {
    "pycharm": {
     "name": "#%%\n"
    }
   },
   "outputs": [
    {
     "name": "stderr",
     "output_type": "stream",
     "text": [
      "/var/folders/c4/x03my2dj70s46m109bn58l2m0000gn/T/ipykernel_95170/2274344868.py:4: DeprecationWarning: 'binom_test' is deprecated in favour of 'binomtest' from version 1.7.0 and will be removed in Scipy 1.12.0.\n",
      "  p_value = binom_test(x, n, p)\n"
     ]
    },
    {
     "data": {
      "text/plain": "0.75390625"
     },
     "execution_count": 4,
     "metadata": {},
     "output_type": "execute_result"
    }
   ],
   "source": [
    "from scipy.stats import binom_test\n",
    "\n",
    "x = 6\n",
    "p_value = binom_test(x, n, p)\n",
    "p_value"
   ]
  },
  {
   "cell_type": "markdown",
   "id": "620b1e1c",
   "metadata": {
    "pycharm": {
     "name": "#%% md\n"
    }
   },
   "source": [
    "#### Visualization Tip 🎨\n",
    "Try running the code above to see an engaging plot or calculation! Here’s what to look for:"
   ]
  },
  {
   "cell_type": "code",
   "execution_count": 5,
   "id": "52b801aa",
   "metadata": {
    "pycharm": {
     "name": "#%%\n"
    }
   },
   "outputs": [
    {
     "data": {
      "text/plain": "<Figure size 432x288 with 1 Axes>",
      "image/png": "[encoded data removed]"
     },
     "metadata": {
      "needs_background": "light"
     },
     "output_type": "display_data"
    }
   ],
   "source": [
    "# Example Visualization: Adding a bar plot to show binomial probabilities\n",
    "import matplotlib.pyplot as plt\n",
    "import numpy as np\n",
    "from scipy.stats import binom\n",
    "\n",
    "# Parameters for the Binomial Distribution\n",
    "n, p = 10, 0.5\n",
    "x = np.arange(0, n+1)\n",
    "pmf = binom.pmf(x, n, p)\n",
    "\n",
    "plt.bar(x, pmf, color='skyblue')\n",
    "plt.title('Binomial Distribution PMF')\n",
    "plt.xlabel('Number of Successes')\n",
    "plt.ylabel('Probability')\n",
    "plt.show()"
   ]
  },
  {
   "cell_type": "markdown",
   "id": "27e6b383",
   "metadata": {
    "pycharm": {
     "name": "#%% md\n"
    }
   },
   "source": [
    "The p-value tells us the probability of observing a result as extreme as 6 successes in 10 trials, if the true probability of success is 0.5. If the p-value is small (e.g., less than 0.05), we can reject the hypothesis that the probability of success is 0.5.\n",
    "\n",
    "In this case, our p-value is larger than 0.05, so we do not reject the hypothesis that the probability of success is 0.5. This does not mean that the probability of success is definitely 0.5, just that the data does not provide strong evidence against this hypothesis."
   ]
  },
  {
   "cell_type": "markdown",
   "id": "0618288d",
   "metadata": {
    "pycharm": {
     "name": "#%% md\n"
    }
   },
   "source": []
  },
  {
   "cell_type": "markdown",
   "id": "6863d0ff",
   "metadata": {
    "pycharm": {
     "name": "#%% md\n"
    }
   },
   "source": []
  }
 ],
 "metadata": {
  "kernelspec": {
   "display_name": "my_base",
   "language": "python",
   "name": "python3"
  },
  "language_info": {
   "codemirror_mode": {
    "name": "ipython",
    "version": 3
   },
   "file_extension": ".py",
   "mimetype": "text/x-python",
   "name": "python",
   "nbconvert_exporter": "python",
   "pygments_lexer": "ipython3",
   "version": "3.8.16"
  }
 },
 "nbformat": 4,
 "nbformat_minor": 5
}