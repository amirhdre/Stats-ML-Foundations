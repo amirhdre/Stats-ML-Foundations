{
  "cells": [
    {
      "cell_type": "markdown",
      "metadata": {},
      "source": [
        "# Quantile-Quantile Plots (QQ plots) \n",
        "\n",
        "Quantile-Quantile plots, also known as QQ plots, are a useful tool for comparing data distributions. This notebook will explain what QQ plots are and how to interpret them. The concept of quantiles will be used, which are points in a distribution that relate to the rank order of values in that distribution. For more information on quantiles, refer to the StatQuest video on quantiles and percentiles.\n",
        "\n",
        "## What is a QQ plot?\n",
        "\n",
        "A QQ plot is a graphical tool to help us assess if a dataset follows a theoretical distribution. It is constructed by plotting the quantiles of the data against the quantiles of the chosen theoretical distribution. If the data follows the theoretical distribution, the points in the QQ plot will roughly fall on the line $y = x$.\n",
        "\n",
        "## How to construct a QQ plot?\n",
        "\n",
        "Here are the steps to construct a QQ plot:\n",
        "\n",
        "1. **Sort your data**: Arrange the data points from least to greatest.\n",
        "2. **Calculate Quantiles**: Assign each data point a quantile based on its position in the sorted list.\n",
        "3. **Choose a theoretical distribution and calculate its quantiles**: This could be any distribution like Normal, Uniform etc. The chosen distribution should have the same number of quantiles as in the data.\n",
        "4. **Create the plot**: Plot the quantiles from the data (on y-axis) against the quantiles from the theoretical distribution (on x-axis).\n",
        "5. **Interpret the plot**: If the data follows the theoretical distribution, the points will approximately lie on the line $y = x$. If the points deviate from this line, it suggests that the data may not follow the theoretical distribution.\n",
        "\n",
        "Let's see an example on how to create a QQ plot in Python."
      ]
    },
    {
      "cell_type": "code",
      "execution_count": null,
      "metadata": {},
      "outputs": [],
      "source": [
        "# Import necessary libraries\n",
        "import numpy as np\n",
        "import scipy.stats as stats\n",
        "import matplotlib.pyplot as plt\n",
        "\n",
        "# Generate some data\n",
        "np.random.seed(0)\n",
        "data = np.random.normal(0, 1, 1000)\n",
        "\n",
        "# Calculate quantiles\n",
        "quantiles = stats.probplot(data, dist=\"norm\", plot=plt)\n",
        "plt.show()"
      ]
    },
    {
      "cell_type": "markdown",
      "metadata": {},
      "source": [
        "The red line in the above plot is the line $y = x$, which represents the theoretical quantiles. The blue dots represent the quantiles of our data. As we can see, the blue dots approximately follow the red line, suggesting that our data follows a normal distribution.\n",
        "\n",
        "QQ plots can also be used to compare two datasets to check if they come from the same distribution. To do this, we simply plot the quantiles of one dataset against the quantiles of the other dataset.\n",
        "\n",
        "Remember that QQ plots do not prove that your data comes from a certain distribution, it only suggests that it could. Other tests, like the Kolmogorov-Smirnov test, can be used to statistically test the distribution of the data."
      ]
    }
  ],
  "metadata": {
    "kernelspec": {
      "display_name": "Python 3",
      "language": "python",
      "name": "python3"
    },
    "language_info": {
      "codemirror_mode": {
        "name": "ipython",
        "version": 3
      },
      "file_extension": ".py",
      "mimetype": "text/x-python",
      "name": "python",
      "nbconvert_exporter": "python",
      "pygments_lexer": "ipython3",
      "version": "3.8.3"
    }
  },
  "nbformat": 4,
  "nbformat_minor": 4
}
