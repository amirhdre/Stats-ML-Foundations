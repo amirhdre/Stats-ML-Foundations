{
 "cells": [
  {
   "cell_type": "markdown",
   "metadata": {},
   "source": [
    "# Logistic Regression\n",
    "\n",
    "The goal of this notebook is to provide a comprehensive explanation of Logistic Regression, a fundamental machine learning algorithm used for binary classification problems.\n",
    "\n",
    "## What is Logistic Regression?\n",
    "\n",
    "Logistic Regression is a statistical method that we use when the dependent variable is binary or dichotomous. Like all regression analyses, the logistic regression is a predictive analysis. It is used to describe data and to explain the relationship between one dependent binary variable and one or more nominal, ordinal, interval or ratio-level independent variables.\n",
    "\n",
    "- **Linear regression:** used when the dependent variable is continuous. For example, predicting a person's weight as a function of their height, age, etc.\n",
    "- **Logistic regression:** used when the dependent variable is binary. For example, predicting whether a person will have a heart attack (1) or not (0) as a function of their weight, age, blood pressure, etc.\n",
    "\n",
    "In logistic regression, we are essentially using the logistic function to squeeze our output (the probabilities) between 0 and 1. The logistic function (also known as the sigmoid function) is an S-shaped curve that maps any real-valued number to a value between 0 and 1, but never exactly at those limits. It is defined as:\n",
    "\n",
    "$$ f(x) = \\frac{1}{1 + e^{-x}} $$\n",
    "\n",
    "![Logistic Function](https://upload.wikimedia.org/wikipedia/commons/8/88/Logistic-curve.svg)\n",
    "\n",
    "## Example: Predicting Obesity in Mice\n",
    "\n",
    "Consider a study where we are trying to predict if a mouse is obese (1) or not (0) based on its weight. Logistic regression can provide the probability that a mouse is obese based on its weight.\n",
    "\n",
    "For example:\n",
    "- If we have a very heavy mouse, there is a high probability that the mouse is obese.\n",
    "- If we have a mouse of intermediate weight, there is a 50% chance that the mouse is obese.\n",
    "- If we have a light mouse, there is only a small probability that the mouse is obese.\n",
    "\n",
    "Note that logistic regression can also work with both continuous data (like weight) and discrete data (like gender).\n",
    "\n",
    "## Logistic Regression as a Machine Learning method\n",
    "\n",
    "Logistic regression is a popular machine learning method because it can provide probabilities and classify new samples using continuous and discrete measurements. It's also less prone to overfitting, especially in high-dimensional datasets. However, one must take care of multicollinearity, where independent variables are highly correlated with each other, as it may affect the performance of the model."
   ]
  },
  {
   "cell_type": "code",
   "execution_count": null,
   "metadata": {},
   "outputs": [],
   "source": [
    "# Import necessary libraries\n",
    "import numpy as np\n",
    "import pandas as pd\n",
    "import matplotlib.pyplot as plt\n",
    "from sklearn.linear_model import LogisticRegression\n",
    "from sklearn.metrics import classification_report, confusion_matrix\n",
    "from sklearn.model_selection import train_test_split\n",
    "from sklearn.datasets import make_classification"
   ]
  },
  {
   "cell_type": "markdown",
   "metadata": {},
   "source": [
    "## Generating Synthetic Data\n",
    "\n",
    "We will generate a synthetic dataset for binary classification using the `make_classification` function from `sklearn.datasets`. We will generate 200 samples with 2 features, where 1 feature is informative and the other is redundant."
   ]
  },
  {
   "cell_type": "code",
   "execution_count": null,
   "metadata": {},
   "outputs": [],
   "source": [
    "X, y = make_classification(n_samples=200, n_features=2, n_informative=1,\n",
    "                           n_redundant=0, n_clusters_per_class=1, random_state=42)\n",
    "\n",
    "plt.figure(figsize=(10, 6))\n",
    "plt.scatter(X[y == 0][:, 0], X[y == 0][:, 1], color='b', label='0')\n",
    "plt.scatter(X[y == 1][:, 0], X[y == 1][:, 1], color='r', label='1')\n",
    "plt.legend();"
   ]
  },
  {
   "cell_type": "markdown",
   "metadata": {},
   "source": [
    "## Model Training\n",
    "\n",
    "Next, we'll split the data into a training set and a test set. Then we'll train our Logistic Regression model on the training data."
   ]
  },
  {
   "cell_type": "code",
   "execution_count": null,
   "metadata": {},
   "outputs": [],
   "source": [
    "X_train, X_test, y_train, y_test = train_test_split(X, y, test_size=0.2, random_state=42)\n",
    "\n",
    "model = LogisticRegression(solver='liblinear', random_state=42)\n",
    "model.fit(X_train, y_train)"
   ]
  },
  {
   "cell_type": "markdown",
   "metadata": {},
   "source": [
    "## Model Evaluation\n",
    "\n",
    "Once we've trained the model, we can generate predictions on the test data and evaluate our model."
   ]
  },
  {
   "cell_type": "code",
   "execution_count": null,
   "metadata": {},
   "outputs": [],
   "source": [
    "y_pred = model.predict(X_test)\n",
    "\n",
    "# Evaluation metrics\n",
    "print(classification_report(y_test, y_pred))\n",
    "\n",
    "# Confusion Matrix\n",
    "cm = confusion_matrix(y_test, y_pred)\n",
    "print(cm)\n",
    "\n",
    "# Accuracy\n",
    "print('Accuracy: ', model.score(X_test, y_test))"
   ]
  },
  {
   "cell_type": "markdown",
   "metadata": {},
   "source": [
    "## Conclusion\n",
    "\n",
    "Logistic Regression is a powerful and flexible model for binary classification tasks. It provides the ability to predict probabilities of class membership, which can be useful in many applications. The key to successful logistic regression analysis is a good understanding of the data, a careful selection of independent variables, and vigilant model checking."
   ]
  }
 ],
 "metadata": {
  "kernelspec": {
   "display_name": "Python 3",
   "language": "python",
   "name": "python3"
  },
  "language_info": {
   "codemirror_mode": {
    "name": "ipython",
    "version": 3
   },
   "file_extension": ".py",
   "mimetype": "text/x-python",
   "name": "python",
   "nbconvert_exporter": "python",
   "pygments_lexer": "ipython3",
   "version": "3.8.5"
  }
 },
 "nbformat": 4,
 "nbformat_minor": 2
}
