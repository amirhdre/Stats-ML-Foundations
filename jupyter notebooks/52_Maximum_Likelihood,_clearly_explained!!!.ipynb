{
  "cells": [
    {
      "cell_type": "markdown",
      "metadata": {},
      "source": [
        "# Maximum Likelihood\n",
        "\n",
        "The Maximum Likelihood is a fundamental concept in statistics that shows us the set of parameters that maximizes the likelihood function. The likelihood function measures the goodness of fit of a statistical model to a sample of data for given values of the unknown parameters.\n",
        "\n",
        "It plays a key role in statistical inference. The method of maximum likelihood corresponds to many well-known estimation methods in statistics. For example, one may be interested in the heights of adult female penguins, but be unable to measure the height of every single penguin in a population due to cost or time constraints. Assuming that the heights are normally (Gaussian) distributed, the mean and variance can be estimated with MLE while only knowing the heights of some sample of the overall population.\n"
      ]
    },
    {
      "cell_type": "markdown",
      "metadata": {},
      "source": [
        "## Normal Distribution\n",
        "\n",
        "The normal distribution, also known as the Gaussian distribution, is a continuous probability distribution that has a bell-shaped probability density function, known as the Gaussian function or informally as the bell curve.\n",
        "\n",
        "In the case of a single variable, the distribution can be specified by two parameters: mean ($\\mu$) and variance ($\\sigma^2$). If a random variable X follows the normal distribution, we write:\n",
        "\n",
        "$$ X \\sim N(\\mu,\\sigma^2) $$\n",
        "\n",
        "The probability density of the normal distribution is\n",
        "\n",
        "$$ f(x \\mid \\mu, \\sigma^2) = \\frac{1}{\\sqrt{2\\pi\\sigma^2}} e^{ -\\frac{(x-\\mu)^2}{2\\sigma^2} } $$\n",
        "\n",
        "where:\n",
        "\n",
        "- $\\mu$ is the mean or expectation of the distribution (and also its median and mode),\n",
        "- $\\sigma$ is the standard deviation, and\n",
        "- $\\sigma^2$ is the variance."
      ]
    },
    {
      "cell_type": "markdown",
      "metadata": {},
      "source": [
        "## Maximum Likelihood Estimation (MLE)\n",
        "\n",
        "Suppose we have a sample of $n$ observations $\\{x_1, x_2, ..., x_n\\}$ that are independently and identically distributed (i.i.d.) as Normal$(\\mu, \\sigma^2)$, and we want to estimate the parameters $\\mu$ and $\\sigma^2$.\n",
        "\n",
        "The likelihood function is given by:\n",
        "\n",
        "$$ L(\\mu, \\sigma^2 \\mid x) = f(x_1, x_2, ..., x_n \\mid \\mu, \\sigma^2) = \\prod_{i=1}^{n} \\frac{1}{\\sqrt{2\\pi\\sigma^2}} e^{ -\\frac{(x_i-\\mu)^2}{2\\sigma^2} } $$\n",
        "\n",
        "The maximum likelihood estimates (MLEs) are the values of $\\mu$ and $\\sigma^2$ that maximize the likelihood function.\n",
        "\n",
        "It can be shown that the MLEs are:\n",
        "\n",
        "$$ \\hat{\\mu} = \\frac{1}{n} \\sum_{i=1}^{n} x_i $$\n",
        "\n",
        "and\n",
        "\n",
        "$$ \\hat{\\sigma^2} = \\frac{1}{n} \\sum_{i=1}^{n} (x_i - \\hat{\\mu})^2 $$\n",
        "\n",
        "which are just the sample mean and variance, respectively."
      ]
    },
    {
      "cell_type": "markdown",
      "metadata": {},
      "source": [
        "## References\n",
        "\n",
        "1. Casella, G., Berger, R.L. (2002). Statistical Inference. Duxbury.\n",
        "2. Cramér, H. (1999). Mathematical Methods of Statistics. Princeton University Press.\n",
        "3. Fisher, R.A. (1921). On the 'probable error' of a coefficient of correlation deduced from a small sample. Metron.\n",
        "4. Fisher, R.A. (1922). On the mathematical foundations of theoretical statistics. Philosophical Transactions of the Royal Society of London A. 222.\n",
        "5. Neyman, J., Pearson, E.S. (1933). On the problem of the most efficient tests of statistical hypotheses. Philosophical Transactions of the Royal Society of London. Series A. 231."
      ]
    }
  ],
  "metadata": {
    "kernelspec": {
      "display_name": "Python 3",
      "language": "python",
      "name": "python3"
    },
    "language_info": {
      "codemirror_mode": {
        "name": "ipython",
        "version": 3
      },
      "file_extension": ".py",
      "mimetype": "text/x-python",
      "name": "python",
      "nbconvert_exporter": "python",
      "pygments_lexer": "ipython3",
      "version": "3.8.3"
    }
  },
  "nbformat": 4,
  "nbformat_minor": 4
}
