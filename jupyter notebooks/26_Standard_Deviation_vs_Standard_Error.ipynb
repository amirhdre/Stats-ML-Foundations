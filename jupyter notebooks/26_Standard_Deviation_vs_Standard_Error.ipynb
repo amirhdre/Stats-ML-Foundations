{
 "cells": [
  {
   "cell_type": "markdown",
   "metadata": {
    "pycharm": {
     "name": "#%% md\n"
    }
   },
   "source": [
    "# Standard Deviation vs Standard Error\n",
    "\n",
    "In this notebook, we will discuss the difference between the standard deviation and the standard error. These terms are often confused, so we will clarify their meaning and usage."
   ]
  },
  {
   "cell_type": "markdown",
   "metadata": {
    "pycharm": {
     "name": "#%% md\n"
    }
   },
   "source": [
    "## Standard Deviation\n",
    "\n",
    "The standard deviation quantifies the variation within a set of measurements. It provides a measure of how spread out the values are from the mean (average). Mathematically, the standard deviation $\\sigma$ for a set of values $x_1, x_2, ..., x_n$ with mean $\\mu$ is calculated as:\n",
    "\n",
    "$$\n",
    "\\sigma = \\sqrt{\\frac{1}{n-1} \\sum_{i=1}^{n} (x_i - \\mu)^2}\n",
    "$$\n",
    "\n",
    "The square root ensures that the standard deviation has the same units as the original values."
   ]
  },
  {
   "cell_type": "markdown",
   "metadata": {
    "pycharm": {
     "name": "#%% md\n"
    }
   },
   "source": [
    "## Standard Error\n",
    "\n",
    "The standard error, on the other hand, quantifies the variation in the means from multiple sets of measurements. It is essentially the standard deviation of the means of numerous sets of measurements. If we have $k$ sets of measurements, each with a mean $\\mu_i$, the standard error $SE$ is calculated as:\n",
    "\n",
    "$$\n",
    "SE = \\sqrt{\\frac{1}{k-1} \\sum_{i=1}^{k} (\\mu_i - \\overline{\\mu})^2}\n",
    "$$\n",
    "\n",
    "where $\\overline{\\mu}$ is the mean of the means."
   ]
  },
  {
   "cell_type": "markdown",
   "metadata": {
    "pycharm": {
     "name": "#%% md\n"
    }
   },
   "source": [
    "## Standard Deviation vs Standard Error\n",
    "\n",
    "The confusing thing is that the standard error can be estimated from a single set of measurements, even though it describes the means for multiple sets. However, in almost all cases, you should plot the standard deviation since graphs are usually intended to describe the data that you measured. The standard error is more appropriate when you want to compare the means of different sets of measurements, such as in meta-analyses or systematic reviews."
   ]
  },
  {
   "cell_type": "markdown",
   "metadata": {
    "pycharm": {
     "name": "#%% md\n"
    }
   },
   "source": [
    "## References\n",
    "\n",
    "- Bland, J. M., & Altman, D. (1996). Statistics notes: Standard deviations and standard errors. BMJ, 312(7047), 1654–1656. https://doi.org/10.1136/bmj.312.7047.1654\n",
    "- Motulsky, H. J., & Christopoulos, A. (2004). Fitting models to biological data using linear and nonlinear regression: a practical guide to curve fitting. Oxford University Press, USA."
   ]
  }
 ],
 "metadata": {
  "kernelspec": {
   "display_name": "Python 3",
   "language": "python",
   "name": "python3"
  },
  "language_info": {
   "codemirror_mode": {
    "name": "ipython",
    "version": 3
   },
   "file_extension": ".py",
   "mimetype": "text/x-python",
   "name": "python",
   "nbconvert_exporter": "python",
   "pygments_lexer": "ipython3",
   "version": "3.6.9"
  }
 },
 "nbformat": 4,
 "nbformat_minor": 2
}