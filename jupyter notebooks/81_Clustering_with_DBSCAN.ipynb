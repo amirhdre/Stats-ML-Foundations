{
  "cells": [
    {
      "cell_type": "markdown",
      "metadata": {},
      "source": [
        "# Clustering with DBSCAN, Clearly Explained!!!"
      ]
    },
    {
      "cell_type": "markdown",
      "metadata": {},
      "source": [
        "DBSCAN (Density-Based Spatial Clustering of Applications with Noise) is a density-based clustering algorithm, proposed by Martin Ester et al. in 1996.\n",
        "\n",
        "It can discover clusters of different shapes and sizes from a large amount of data, which is containing noise and outliers. The main idea of DBSCAN algorithm is to locate regions of high density that are separated from one another by regions of low density.\n",
        "\n",
        "DBSCAN is particularly effective for tasks where you need to separate groups of high density versus areas of low density within a given space.\n",
        "\n",
        "It’s also great at separating out noise: in fact, the 'N' in DBSCAN stands for noise. Consider the following 2D data:"
      ]
    },
    {
      "cell_type": "code",
      "execution_count": null,
      "metadata": {},
      "outputs": [],
      "source": [
        "from sklearn.datasets import make_moons\n",
        "import matplotlib.pyplot as plt\n",
        "\n",
        "X, y = make_moons(n_samples=500, noise=0.1)\n",
        "plt.scatter(X[:,0], X[:,1])\n",
        "plt.show()"
      ]
    },
    {
      "cell_type": "markdown",
      "metadata": {},
      "source": [
        "DBSCAN works by determining whether the minimum number of points are close together. It starts by picking a random point in the data (randomly selected) and checking if there are at least `min_samples` number of points around it within a circle of radius `eps` (both `min_samples` and `eps` are input parameters to the algorithm).\n",
        "\n",
        "Here’s how the DBSCAN algorithm works:\n",
        "\n",
        "1. The algorithm starts with an arbitrary point which has not been visited and its neighborhood information is retrieved from the $epsilon$ parameter.\n",
        "2. If this point contains `min_samples` within $epsilon$ neighborhood, cluster formation starts. Otherwise the point is labeled as noise. This point can be later found within the $epsilon$ neighborhood of a different point and, thus can be made a part of the cluster.\n",
        "3. If a point is found to be a core point then the points within the $epsilon$ neighborhood is also part of the cluster. So all the points found within $epsilon$ neighborhood are added, along with their own $epsilon$ neighborhood if they are also core points.\n",
        "4. The process continues until the density-connected cluster is completely found.\n",
        "5. The process restarts with a new point which can be a part of a new cluster or labeled as noise.\n",
        "\n",
        "Let's see this in action using sklearn's DBSCAN implementation:"
      ]
    },
    {
      "cell_type": "code",
      "execution_count": null,
      "metadata": {},
      "outputs": [],
      "source": [
        "from sklearn.cluster import DBSCAN\n",
        "\n",
        "dbscan = DBSCAN(eps=0.3, min_samples=5)\n",
        "dbscan.fit(X)\n",
        "\n",
        "plt.scatter(X[:,0], X[:,1], c=dbscan.labels_)\n",
        "plt.show()"
      ]
    },
    {
      "cell_type": "markdown",
      "metadata": {},
      "source": [
        "As you can see, DBSCAN separated the areas of high density from the areas of low density. It also labeled the points not in a dense area (the ones in white) as noise (indicated by -1 label)."
      ]
    },
    {
      "cell_type": "markdown",
      "metadata": {},
      "source": [
        "The advantages of DBSCAN are:\n",
        "\n",
        "1. It can find arbitrarily shaped clusters. It can even find a cluster completely surrounded by a different cluster.\n",
        "2. It has just two parameters (excluding `metric`), and makes minimal assumptions about the data.\n",
        "3. It separates high density clusters from low density clusters, and is typically faster than hierarchical clustering for large datasets.\n",
        "\n",
        "The disadvantages of DBSCAN are:\n",
        "\n",
        "1. It doesn’t work well over clusters with different densities, while DBSCAN is great at separating high density clusters from low density clusters, DBSCAN struggles with clusters of similar density.\n",
        "2. It struggles with high dimensionality data: Like many other clustering algorithms, DBSCAN starts to lose its effectiveness in higher dimensions. This is due to the curse of dimensionality."
      ]
    }
  ],
  "metadata": {
    "kernelspec": {
      "display_name": "Python 3",
      "language": "python",
      "name": "python3"
    },
    "language_info": {
      "codemirror_mode": {
        "name": "ipython",
        "version": 3
      },
      "file_extension": ".py",
      "mimetype": "text/x-python",
      "name": "python",
      "nbconvert_exporter": "python",
      "pygments_lexer": "ipython3",
      "version": "3.8.3"
    }
  },
  "nbformat": 4,
  "nbformat_minor": 4
}
