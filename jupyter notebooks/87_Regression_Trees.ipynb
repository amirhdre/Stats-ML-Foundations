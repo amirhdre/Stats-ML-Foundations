Here's the JSON for the Jupyter Notebook:

```
{
 "cells": [
  {
   "cell_type": "markdown",
   "metadata": {},
   "source": [
    "# Regression Trees\n",
    "\n",
    "Regression trees are a type of decision tree used when the dependent variable (outcome) is numeric or continuous (like predicting the salary of a person given their age, years of experience, etc.). They work by partitioning the input space into non-overlapping regions and for any given input point, the prediction is the mean of the output points in that region. \n",
    "\n",
    "In this notebook, we will be implementing a Regression Tree from scratch and we'll also use the Scikit-learn library to create Regression Trees.\n",
    "\n",
    "## Importing necessary libraries"
   ]
  },
  {
   "cell_type": "code",
   "execution_count": null,
   "metadata": {},
   "outputs": [],
   "source": [
    "import numpy as np\n",
    "import pandas as pd\n",
    "import matplotlib.pyplot as plt\n",
    "from sklearn.datasets import make_regression\n",
    "from sklearn.model_selection import train_test_split\n",
    "from sklearn.metrics import mean_squared_error\n",
    "from sklearn.tree import DecisionTreeRegressor\n",
    "from sklearn import tree\n",
    "import seaborn as sns"
   ]
  },
  {
   "cell_type": "markdown",
   "metadata": {},
   "source": [
    "## Creating a regression problem\n",
    "\n",
    "For this notebook, we'll synthesize a regression problem using Scikit-learn's `make_regression` function. This function generates a random regression problem, which we'll use to implement and test our Regression Tree."
   ]
  },
  {
   "cell_type": "code",
   "execution_count": null,
   "metadata": {},
   "outputs": [],
   "source": [
    "X, y = make_regression(n_samples=100, n_features=1, noise=0.1)\n",
    "\n",
    "# Splitting the dataset into training and testing sets\n",
    "X_train, X_test, y_train, y_test = train_test_split(X, y, test_size=0.2, random_state=123)\n",
    "\n",
    "# Visualizing the dataset\n",
    "plt.figure(figsize=(16, 8))\n",
    "plt.scatter(X, y, c='b', label='data')\n",
    "plt.title(\"Synthetic Regression Problem\")\n",
    "plt.xlabel(\"Feature\")\n",
    "plt.ylabel(\"Target\")\n",
    "plt.legend()\n",
    "plt.show()"
   ]
  },
  {
   "cell_type": "markdown",
   "metadata": {},
   "source": [
    "## Building a Regression Tree from Scratch\n",
    "\n",
    "A regression tree is built by partitioning the input space into non-overlapping regions. For any given input point, the prediction is the mean of the output points in that region. The regions are defined by a tree structure, where each internal node splits the input space according to a feature's threshold.\n",
    "\n",
    "To build a regression tree, we start with the node that corresponds to the entire input space. Then we search for the feature and threshold that can partition the input space into two regions, such that the sum of the squares of the residuals (the difference between the actual and predicted outputs) is minimized. We do this by trying all possible features and all possible thresholds for