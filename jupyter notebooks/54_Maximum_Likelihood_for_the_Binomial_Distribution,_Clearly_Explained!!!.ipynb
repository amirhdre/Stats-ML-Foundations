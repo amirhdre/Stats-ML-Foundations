{
 "cells": [
  {
   "cell_type": "markdown",
   "metadata": {},
   "source": [
    "# Maximum Likelihood for the Binomial Distribution\n",
    "\n",
    "In this notebook, we will learn about the concept of maximum likelihood and how it is used for the binomial distribution. The binomial distribution is a probability distribution that describes the number of successes in a sequence of independent experiments. The concept of maximum likelihood is used to estimate the parameters of a statistical model.\n",
    "\n",
    "Let's start by defining our problem. We have a dataset where we asked a group of people whether they preferred orange Fanta or grape Fanta. We denote the number of people who preferred orange Fanta as $X$, the total number of people we asked as $N$, and the probability of someone randomly choosing orange Fanta as $P$.\n",
    "\n",
    "The binomial distribution can be represented as:\n",
    "\n",
    "$$P(X=x) = \\binom{n}{x} p^x (1-p)^{n-x}$$\n",
    "\n",
    "In this formula, $p$ is the probability of success (someone choosing orange Fanta), $n$ is the total number of trials (total people asked), and $x$ is the number of successes (number of people who chose orange Fanta).\n",
    "\n",
    "The goal of maximum likelihood is to find the value of $P$ that maximizes the likelihood of observing the data that we have. In other words, we want to find the value of $P$ that makes our data most probable."
   ]
  },
  {
   "cell_type": "markdown",
   "metadata": {},
   "source": [
    "## Calculating the Likelihood\n",
    "\n",
    "To find the likelihood, we rearrange the left side of our equation to this:\n",
    "\n",
    "$$L(P) = \\binom{n}{x} p^x (1-p)^{n-x}$$\n",
    "\n",
    "The likelihood function $L(P)$ is the same as the probability function $P(X=x)$, but we view the data $(n, x)$ as fixed and the parameter $p$ as variable.\n",
    "\n",
    "We can calculate the likelihood for different values of $P$ given that a certain number of people out of a group said they preferred orange Fanta. For example, we can calculate $L(0.25)$, $L(0.5)$, $L(0.57)$ and so on."
   ]
  },
  {
   "cell_type": "markdown",
   "metadata": {},
   "source": [
    "## The Maximum Likelihood\n",
    "\n",
    "We can plot these likelihoods for different values of $P$ to visualize the likelihood function. The peak of this plot represents the maximum likelihood, that is, the value of $P$ that maximizes the likelihood function.\n",
    "\n",
    "To find this value, we take the derivative of the likelihood function with respect to $P$, set it to zero, and solve for $P$. This gives us the maximum likelihood estimate for $P$.\n",
    "\n",
    "If we perform these calculations, we find that the maximum likelihood estimate for $P$ is given by $x/n$, that is, the number of people who preferred orange Fanta divided by the total number of people we asked. This result is intuitively satisfying, as it corresponds to the proportion of people who preferred orange Fanta in our sample.\n",
    "\n",
    "We can generalize this result to say that for a binomial distribution, the maximum likelihood estimate for the probability of success is given by the number of successes divided by the total number of trials. This result is a powerful tool for estimating probabilities from binomially-distributed data."
   ]
  },
  {
   "cell_type": "markdown",
   "metadata": {},
   "source": [
    "## References\n",
    "\n",
    "StatQuest: Maximum Likelihood, Clearly Explained!!! [Video]. (2017, August 7). YouTube. https://www.youtube.com/watch?v=XepXtl9YKwc\n",
    "\n",
    "StatQuest with Josh Starmer. (2018, August 6). StatQuest: Maximum Likelihood For the Binomial Distribution, Clearly Explained!!! [Video]. YouTube. https://www.youtube.com/watch?v=pYxNSUDSFH4\n",
    "\n",
    "Wikipedia contributors. (2021, May 27). Binomial distribution. In Wikipedia, The Free Encyclopedia. Retrieved 00:16, June 2, 2021, from https://en.wikipedia.org/w/index.php?title=Binomial_distribution&oldid=1025443958\n",
    "\n",
    "Wikipedia contributors. (2021, June 1). Maximum likelihood estimation. In Wikipedia, The Free Encyclopedia. Retrieved 00:16, June 2, 2021, from https://en.wikipedia.org/w/index.php?title=Maximum_likelihood_estimation&oldid=1026486261"
   ]
  }
 ],
 "metadata": {
  "kernelspec": {
   "display_name": "Python 3",
   "language": "python",
   "name": "python3"
  },
  "language_info": {
   "codemirror_mode": {
    "name": "ipython",
    "version": 3
   },
   "file_extension": ".py",
   "mimetype": "text/x-python",
   "name": "python",
   "nbconvert_exporter": "python",
   "pygments_lexer": "ipython3",
   "version": "3.8.8"
  }
 },
 "nbformat": 4,
 "nbformat_minor": 5
}