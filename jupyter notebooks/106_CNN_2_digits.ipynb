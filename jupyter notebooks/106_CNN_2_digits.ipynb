{
  "cells": [
    {
      "cell_type": "markdown",
      "id": "ea88cdbf",
      "metadata": {},
      "source": [
        "# **Image Classification with Convolutional Neural Networks (CNNs) using PyTorch**\n",
        "\n",
        "In this Jupyter Notebook, we will dive into the essential ideas of **Convolutional Neural Networks (CNNs)** for image classification—building upon the concepts from the video: **\"Neural Networks Part 8: Image Classification with Convolutional Neural Networks (CNNs)\"** (StatQuest by Josh Starmer). We will:\n",
        "\n",
        "- Learn about filters (convolution kernels) and how they help identify patterns in small, local regions of an image.\n",
        "- Understand how **ReLU** activation functions and **Pooling** layers reduce the spatial size of the representation.\n",
        "- See how CNNs can handle shifts in images and still recognize patterns.\n",
        "- Build a simple CNN from scratch (using a small synthetic dataset of hand-drawn **X** and **O** images) and train it to classify the images using **PyTorch**.\n",
        "\n",
        "We will also provide references to seminal papers in CNN and deep learning. \n",
        "\n",
        "---\n",
        "\n",
        "## **Notebook Outline**\n",
        "1. [Introduction to CNNs](#section1)\n",
        "2. [Import Libraries](#section2)\n",
        "3. [Create a Synthetic **X** / **O** Dataset](#section3)\n",
        "4. [Data Visualization](#section4)\n",
        "5. [Build and Train a Simple CNN](#section5)\n",
        "6. [Evaluate the Model](#section6)\n",
        "7. [Conclusion](#section7)\n",
        "8. [References](#section8)\n"
      ]
    },
    {
      "cell_type": "markdown",
      "id": "4eecef5f",
      "metadata": {
        "id": "section1"
      },
      "source": [
        "## 1. Introduction to CNNs\n",
        "\n",
        "Convolutional Neural Networks (CNNs) are specialized architectures for processing data with a known, grid-like topology (e.g., images). Their key innovations are:\n",
        "\n",
        "1. **Convolutional Layers**: A filter (or kernel) slides across the image, computing a dot product between the filter weights and local regions of the image (a process called \"convolution\"). This exploits **local connectivity** and greatly reduces the number of parameters compared to a fully-connected network.\n",
        "\n",
        "$$\\text{Output}[i, j] = \\sum_{m,n} \\Big(\\text{Filter}[m,n] \\times \\text{Input}[i+m, j+n]\\Big) + b$$\n",
        "\n",
        "2. **Activation Functions** (often **ReLU**):\n",
        "\n",
        "$$\\text{ReLU}(z) = \\max(0, z)$$\n",
        "\n",
        "   ReLU makes training faster and helps mitigate the **vanishing gradient** problem better than logistic or tanh activation.\n",
        "\n",
        "3. **Pooling Layers**: They **reduce** the spatial dimension (e.g., 2x2 max-pooling) while retaining the most important feature responses. A typical pooling operator:\n",
        "\n",
        "- **Max pooling**: $$\\text{MaxPool}\\big(\\{x_1, x_2, ..., x_k\\}\\big) = \\max(x_1, x_2, ..., x_k)$$\n",
        "\n",
        "4. **Fully Connected Layers**: At the end of the convolutional stack, the feature maps are flattened and passed to one or more fully connected (dense) layers to perform classification or regression.\n",
        "\n",
        "These concepts allow CNNs to:\n",
        "\n",
        "- **Capture local correlations** in images.\n",
        "- Be **translation-invariant** or robust to shifts in the image.\n",
        "- Significantly **reduce** the number of trainable parameters.\n",
        "\n",
        "---"
      ]
    },
    {
      "cell_type": "markdown",
      "id": "2e4e4128",
      "metadata": {
        "id": "section2"
      },
      "source": [
        "## 2. Import Libraries\n",
        "\n",
        "Here we import all the Python libraries that we will use in this tutorial."
      ]
    },
    {
      "cell_type": "code",
      "execution_count": 2,
      "id": "00f5f85d",
      "metadata": {},
      "outputs": [
        {
          "name": "stdout",
          "output_type": "stream",
          "text": [
            "Using device: cpu\n"
          ]
        }
      ],
      "source": [
        "import random\n",
        "import numpy as np\n",
        "import matplotlib.pyplot as plt\n",
        "\n",
        "import torch\n",
        "import torch.nn as nn\n",
        "import torch.optim as optim\n",
        "import torch.nn.functional as F\n",
        "from torch.utils.data import Dataset, DataLoader\n",
        "\n",
        "from sklearn.model_selection import train_test_split\n",
        "from sklearn.metrics import confusion_matrix, ConfusionMatrixDisplay\n",
        "\n",
        "device = torch.device(\"cuda\" if torch.cuda.is_available() else \"cpu\")\n",
        "print(f\"Using device: {device}\")"
      ]
    },
    {
      "cell_type": "markdown",
      "id": "41546360",
      "metadata": {
        "id": "section3"
      },
      "source": [
        "## 3. Create a Synthetic **X** / **O** Dataset\n",
        "\n",
        "We will create a synthetic dataset of **6x6** grayscale images containing either an **X** or an **O**. We'll represent black pixels with 1 and white pixels with 0, similar to the discussion in the video. Each image will be stored as a 2D NumPy array and then converted to PyTorch tensors."
      ]
    },
    {
      "cell_type": "markdown",
      "id": "3669ffce",
      "metadata": {},
      "source": [
        "### 3.1 Helper Functions to Draw **X** and **O**"
      ]
    },
    {
      "cell_type": "code",
      "execution_count": 3,
      "id": "189a443c",
      "metadata": {},
      "outputs": [],
      "source": [
        "def draw_O(size=6):\n",
        "    \"\"\"Generate a 6x6 image with an O shape.\"\"\"\n",
        "    img = np.zeros((size, size), dtype=np.float32)\n",
        "    # We'll draw an O in the boundary\n",
        "    for i in range(size):\n",
        "        for j in range(size):\n",
        "            if i == 0 or i == size-1 or j == 0 or j == size-1:\n",
        "                img[i, j] = 1.0\n",
        "    return img\n",
        "\n",
        "def draw_X(size=6):\n",
        "    \"\"\"Generate a 6x6 image with an X shape.\"\"\"\n",
        "    img = np.zeros((size, size), dtype=np.float32)\n",
        "    for i in range(size):\n",
        "        # X from top-left to bottom-right\n",
        "        img[i, i] = 1.0\n",
        "        # X from top-right to bottom-left\n",
        "        img[i, size - i - 1] = 1.0\n",
        "    return img"
      ]
    },
    {
      "cell_type": "markdown",
      "id": "2bcd9f43",
      "metadata": {},
      "source": [
        "### 3.2 Generate Randomly Shifted **X** and **O** Images\n",
        "\n",
        "To make the classification problem slightly more realistic, we will **randomly shift** each **X** and **O** by up to 1 pixel in any direction. This will test the CNN's ability to handle translations."
      ]
    },
    {
      "cell_type": "code",
      "execution_count": 4,
      "id": "d913d3d9",
      "metadata": {},
      "outputs": [
        {
          "name": "stdout",
          "output_type": "stream",
          "text": [
            "Data shape: (1000, 6, 6)\n",
            "Labels shape: (1000,)\n"
          ]
        }
      ],
      "source": [
        "def random_shift(img, max_shift=1):\n",
        "    \"\"\"Shift the image up/down/left/right by up to max_shift pixels.\"\"\"\n",
        "    size = img.shape[0]\n",
        "    shift_x = random.randint(-max_shift, max_shift)\n",
        "    shift_y = random.randint(-max_shift, max_shift)\n",
        "\n",
        "    shifted = np.zeros_like(img)\n",
        "    for i in range(size):\n",
        "        for j in range(size):\n",
        "            new_i = i + shift_x\n",
        "            new_j = j + shift_y\n",
        "            if 0 <= new_i < size and 0 <= new_j < size:\n",
        "                shifted[new_i, new_j] = img[i, j]\n",
        "    return shifted\n",
        "\n",
        "num_samples = 500  # Number of images per class\n",
        "size = 6           # Image size 6x6\n",
        "\n",
        "data = []\n",
        "labels = []\n",
        "\n",
        "# Label 0 for O, 1 for X\n",
        "for _ in range(num_samples):\n",
        "    o_img = draw_O(size)\n",
        "    o_img_shifted = random_shift(o_img, max_shift=1)\n",
        "    data.append(o_img_shifted)\n",
        "    labels.append(0)\n",
        "\n",
        "for _ in range(num_samples):\n",
        "    x_img = draw_X(size)\n",
        "    x_img_shifted = random_shift(x_img, max_shift=1)\n",
        "    data.append(x_img_shifted)\n",
        "    labels.append(1)\n",
        "\n",
        "data = np.array(data)\n",
        "labels = np.array(labels)\n",
        "\n",
        "print(\"Data shape:\", data.shape)\n",
        "print(\"Labels shape:\", labels.shape)"
      ]
    },
    {
      "cell_type": "markdown",
      "id": "d207613a",
      "metadata": {
        "id": "section4"
      },
      "source": [
        "## 4. Data Visualization\n",
        "\n",
        "Let's plot some samples from the dataset to see how the **X** and **O** appear (with small random shifts). We'll plot them in a grid with a color map that highlights the black vs. white pixels."
      ]
    },
    {
      "cell_type": "code",
      "execution_count": 5,
      "id": "fa9fe988",
      "metadata": {},
      "outputs": [
        {
          "data": {
            "image/png": "[encoded data removed]",
            "text/plain": [
              "<Figure size 720x360 with 10 Axes>"
            ]
          },
          "metadata": {
            "needs_background": "light"
          },
          "output_type": "display_data"
        }
      ],
      "source": [
        "# Let's plot a few random examples\n",
        "plt.figure(figsize=(10, 5))\n",
        "\n",
        "for i in range(10):\n",
        "    idx = random.randint(0, len(data)-1)\n",
        "    plt.subplot(2, 5, i+1)\n",
        "    plt.imshow(data[idx], cmap='Reds', vmin=0, vmax=1)\n",
        "    label = \"O\" if labels[idx] == 0 else \"X\"\n",
        "    plt.title(f\"Label: {label}\", color=\"blue\")\n",
        "    plt.axis('off')\n",
        "\n",
        "plt.tight_layout()\n",
        "plt.show()"
      ]
    },
    {
      "cell_type": "markdown",
      "id": "2cc18863",
      "metadata": {},
      "source": [
        "### 4.1 Prepare Data for Training\n",
        "\n",
        "We'll split the dataset into training and test sets using scikit-learn's `train_test_split`. We also need to convert everything into **PyTorch tensors**. Since these are grayscale images, we have only 1 channel.\n",
        "\n",
        "Shape expected by a PyTorch CNN is typically `(batch_size, channels, height, width)`."
      ]
    },
    {
      "cell_type": "code",
      "execution_count": 6,
      "id": "00be27c5",
      "metadata": {},
      "outputs": [
        {
          "name": "stdout",
          "output_type": "stream",
          "text": [
            "Training data shape: (800, 1, 6, 6)\n",
            "Testing data shape:\t (200, 1, 6, 6)\n"
          ]
        }
      ],
      "source": [
        "# Expand dims to (batch, 1, height, width)\n",
        "data_expanded = np.expand_dims(data, axis=1).astype(np.float32)\n",
        "\n",
        "# Train test split\n",
        "X_train_np, X_test_np, y_train_np, y_test_np = train_test_split(\n",
        "    data_expanded, labels, test_size=0.2, random_state=42\n",
        ")\n",
        "\n",
        "print(\"Training data shape:\", X_train_np.shape)\n",
        "print(\"Testing data shape:\\t\", X_test_np.shape)\n",
        "\n",
        "# Let's also note the dataset sizes\n",
        "num_classes = 2  # O or X\n"
      ]
    },
    {
      "cell_type": "markdown",
      "id": "7f4cf881",
      "metadata": {},
      "source": [
        "### 4.2 Build a Custom Dataset\n",
        "\n",
        "We'll build a PyTorch `Dataset` for convenience, which can then be fed into a `DataLoader`. This will handle indexing and on-the-fly transformations if needed."
      ]
    },
    {
      "cell_type": "code",
      "execution_count": 7,
      "id": "60f21d09",
      "metadata": {},
      "outputs": [],
      "source": [
        "class XO_Dataset(Dataset):\n",
        "    def __init__(self, images, labels):\n",
        "        self.images = images\n",
        "        self.labels = labels\n",
        "\n",
        "    def __len__(self):\n",
        "        return len(self.images)\n",
        "\n",
        "    def __getitem__(self, idx):\n",
        "        image = torch.tensor(self.images[idx], dtype=torch.float32)\n",
        "        label = torch.tensor(self.labels[idx], dtype=torch.long)\n",
        "        return image, label\n",
        "\n",
        "train_dataset = XO_Dataset(X_train_np, y_train_np)\n",
        "test_dataset = XO_Dataset(X_test_np, y_test_np)\n",
        "\n",
        "train_loader = DataLoader(train_dataset, batch_size=16, shuffle=True)\n",
        "test_loader = DataLoader(test_dataset, batch_size=16, shuffle=False)\n"
      ]
    },
    {
      "cell_type": "markdown",
      "id": "8db3a388",
      "metadata": {
        "id": "section5"
      },
      "source": [
        "## 5. Build and Train a Simple CNN\n",
        "\n",
        "We will now build a CNN that resembles the logic explained in the video:\n",
        "\n",
        "1. **Convolution** with a small filter (kernel) to detect local patterns.\n",
        "2. **ReLU** activation to keep only positive values.\n",
        "3. **Max Pooling** to reduce spatial size.\n",
        "4. Flatten and connect to a fully connected layer for classification.\n",
        "\n",
        "Our CNN architecture will be:\n",
        "```\n",
        "Input (1x6x6) --> Conv2D(4 filters, kernel_size=3) --> ReLU --> MaxPool2D(kernel_size=2)\n",
        "--> Flatten --> Linear(2) --> Softmax\n",
        "```\n",
        "\n",
        "### 5.1 Define the Model"
      ]
    },
    {
      "cell_type": "code",
      "execution_count": 8,
      "id": "c8e3a940",
      "metadata": {},
      "outputs": [],
      "source": [
        "class SimpleCNN(nn.Module):\n",
        "    def __init__(self, num_classes=2):\n",
        "        super(SimpleCNN, self).__init__()\n",
        "        self.conv1 = nn.Conv2d(in_channels=1, out_channels=4, kernel_size=3)\n",
        "        self.pool = nn.MaxPool2d(kernel_size=2)\n",
        "        # After conv1 (with kernel=3) on a 6x6 input, output size = 4x4, then maxpool => 2x2.\n",
        "        # Number of features after flatten = 4 filters * (2*2) = 16.\n",
        "        self.fc = nn.Linear(4 * 2 * 2, num_classes)\n",
        "\n",
        "    def forward(self, x):\n",
        "        x = self.conv1(x)       # shape: (batch, 4, 4, 4)\n",
        "        x = F.relu(x)\n",
        "        x = self.pool(x)        # shape: (batch, 4, 2, 2)\n",
        "        x = x.view(x.size(0), -1)  # flatten => (batch, 16)\n",
        "        x = self.fc(x)          # => (batch, 2)\n",
        "        return x"
      ]
    },
    {
      "cell_type": "markdown",
      "id": "7ab262cd",
      "metadata": {},
      "source": [
        "### 5.2 Initialize Model, Define Loss and Optimizer"
      ]
    },
    {
      "cell_type": "code",
      "execution_count": 9,
      "id": "0c8ea714",
      "metadata": {},
      "outputs": [
        {
          "name": "stdout",
          "output_type": "stream",
          "text": [
            "SimpleCNN(\n",
            "  (conv1): Conv2d(1, 4, kernel_size=(3, 3), stride=(1, 1))\n",
            "  (pool): MaxPool2d(kernel_size=2, stride=2, padding=0, dilation=1, ceil_mode=False)\n",
            "  (fc): Linear(in_features=16, out_features=2, bias=True)\n",
            ")\n"
          ]
        }
      ],
      "source": [
        "model = SimpleCNN(num_classes=2).to(device)\n",
        "\n",
        "criterion = nn.CrossEntropyLoss()\n",
        "optimizer = optim.Adam(model.parameters(), lr=0.001)\n",
        "\n",
        "print(model)"
      ]
    },
    {
      "cell_type": "markdown",
      "id": "a6f8af66",
      "metadata": {},
      "source": [
        "### 5.3 Training Loop\n",
        "\n",
        "We will train for a few epochs and keep track of the loss and accuracy on the training set. We can also track the validation accuracy by evaluating on the test set after each epoch if desired."
      ]
    },
    {
      "cell_type": "code",
      "execution_count": 10,
      "id": "2b53715a",
      "metadata": {},
      "outputs": [
        {
          "name": "stdout",
          "output_type": "stream",
          "text": [
            "Epoch [1/10] - Train Loss: 0.6533, Train Acc: 85.62% | Test Loss: 0.6168, Test Acc: 100.00%\n",
            "Epoch [2/10] - Train Loss: 0.5614, Train Acc: 100.00% | Test Loss: 0.4972, Test Acc: 100.00%\n",
            "Epoch [3/10] - Train Loss: 0.4288, Train Acc: 100.00% | Test Loss: 0.3619, Test Acc: 100.00%\n",
            "Epoch [4/10] - Train Loss: 0.3012, Train Acc: 100.00% | Test Loss: 0.2473, Test Acc: 100.00%\n",
            "Epoch [5/10] - Train Loss: 0.2042, Train Acc: 100.00% | Test Loss: 0.1687, Test Acc: 100.00%\n",
            "Epoch [6/10] - Train Loss: 0.1402, Train Acc: 100.00% | Test Loss: 0.1181, Test Acc: 100.00%\n",
            "Epoch [7/10] - Train Loss: 0.0993, Train Acc: 100.00% | Test Loss: 0.0857, Test Acc: 100.00%\n",
            "Epoch [8/10] - Train Loss: 0.0729, Train Acc: 100.00% | Test Loss: 0.0643, Test Acc: 100.00%\n",
            "Epoch [9/10] - Train Loss: 0.0553, Train Acc: 100.00% | Test Loss: 0.0497, Test Acc: 100.00%\n",
            "Epoch [10/10] - Train Loss: 0.0432, Train Acc: 100.00% | Test Loss: 0.0394, Test Acc: 100.00%\n"
          ]
        }
      ],
      "source": [
        "num_epochs = 10\n",
        "\n",
        "train_losses = []\n",
        "train_accuracies = []\n",
        "test_losses = []\n",
        "test_accuracies = []\n",
        "\n",
        "for epoch in range(num_epochs):\n",
        "    model.train()\n",
        "    running_loss = 0.0\n",
        "    correct = 0\n",
        "    total = 0\n",
        "\n",
        "    for images, labels in train_loader:\n",
        "        images = images.to(device)\n",
        "        labels = labels.to(device)\n",
        "\n",
        "        optimizer.zero_grad()\n",
        "        outputs = model(images)\n",
        "        loss = criterion(outputs, labels)\n",
        "        loss.backward()\n",
        "        optimizer.step()\n",
        "\n",
        "        running_loss += loss.item() * images.size(0)\n",
        "        _, predicted = torch.max(outputs, 1)\n",
        "        correct += (predicted == labels).sum().item()\n",
        "        total += labels.size(0)\n",
        "\n",
        "    epoch_loss = running_loss / len(train_loader.dataset)\n",
        "    epoch_acc = 100.0 * correct / total\n",
        "    train_losses.append(epoch_loss)\n",
        "    train_accuracies.append(epoch_acc)\n",
        "\n",
        "    # Evaluate on test set\n",
        "    model.eval()\n",
        "    test_running_loss = 0.0\n",
        "    test_correct = 0\n",
        "    test_total = 0\n",
        "    with torch.no_grad():\n",
        "        for images, labels in test_loader:\n",
        "            images = images.to(device)\n",
        "            labels = labels.to(device)\n",
        "\n",
        "            outputs = model(images)\n",
        "            loss = criterion(outputs, labels)\n",
        "            test_running_loss += loss.item() * images.size(0)\n",
        "            _, predicted = torch.max(outputs, 1)\n",
        "            test_correct += (predicted == labels).sum().item()\n",
        "            test_total += labels.size(0)\n",
        "\n",
        "    test_epoch_loss = test_running_loss / len(test_loader.dataset)\n",
        "    test_epoch_acc = 100.0 * test_correct / test_total\n",
        "\n",
        "    test_losses.append(test_epoch_loss)\n",
        "    test_accuracies.append(test_epoch_acc)\n",
        "\n",
        "    print(f\"Epoch [{epoch+1}/{num_epochs}] - \"\n",
        "          f\"Train Loss: {epoch_loss:.4f}, Train Acc: {epoch_acc:.2f}% | \"\n",
        "          f\"Test Loss: {test_epoch_loss:.4f}, Test Acc: {test_epoch_acc:.2f}%\")"
      ]
    },
    {
      "cell_type": "markdown",
      "id": "5d05113d",
      "metadata": {},
      "source": [
        "### 5.4 Plot Training and Validation History"
      ]
    },
    {
      "cell_type": "code",
      "execution_count": 11,
      "id": "779d0303",
      "metadata": {},
      "outputs": [
        {
          "data": {
            "image/png": "[encoded data removed]",
            "text/plain": [
              "<Figure size 864x288 with 2 Axes>"
            ]
          },
          "metadata": {
            "needs_background": "light"
          },
          "output_type": "display_data"
        }
      ],
      "source": [
        "plt.figure(figsize=(12, 4))\n",
        "plt.subplot(1, 2, 1)\n",
        "plt.plot(train_losses, label='Training Loss', color='red')\n",
        "plt.plot(test_losses, label='Test Loss', color='orange')\n",
        "plt.title('Loss')\n",
        "plt.xlabel('Epoch')\n",
        "plt.ylabel('Loss')\n",
        "plt.legend()\n",
        "\n",
        "plt.subplot(1, 2, 2)\n",
        "plt.plot(train_accuracies, label='Training Accuracy', color='blue')\n",
        "plt.plot(test_accuracies, label='Test Accuracy', color='green')\n",
        "plt.title('Accuracy')\n",
        "plt.xlabel('Epoch')\n",
        "plt.ylabel('Accuracy %')\n",
        "plt.legend()\n",
        "\n",
        "plt.tight_layout()\n",
        "plt.show()"
      ]
    },
    {
      "cell_type": "markdown",
      "id": "fedb0887",
      "metadata": {
        "id": "section6"
      },
      "source": [
        "## 6. Evaluate the Model\n",
        "\n",
        "We'll check our model's performance on the entire test set and display a quick **confusion matrix** to see how well it distinguishes **X** and **O**."
      ]
    },
    {
      "cell_type": "code",
      "execution_count": 12,
      "id": "1e5f6bc4",
      "metadata": {},
      "outputs": [
        {
          "name": "stdout",
          "output_type": "stream",
          "text": [
            "Final Test Accuracy = 100.00%\n"
          ]
        },
        {
          "data": {
            "image/png": "[encoded data removed]",
            "text/plain": [
              "<Figure size 432x288 with 2 Axes>"
            ]
          },
          "metadata": {
            "needs_background": "light"
          },
          "output_type": "display_data"
        }
      ],
      "source": [
        "# Final evaluation on test set\n",
        "model.eval()\n",
        "test_correct = 0\n",
        "test_total = 0\n",
        "all_preds = []\n",
        "all_labels = []\n",
        "\n",
        "with torch.no_grad():\n",
        "    for images, labels in test_loader:\n",
        "        images = images.to(device)\n",
        "        labels = labels.to(device)\n",
        "        outputs = model(images)\n",
        "        _, predicted = torch.max(outputs, 1)\n",
        "        test_correct += (predicted == labels).sum().item()\n",
        "        test_total += labels.size(0)\n",
        "\n",
        "        # Store for confusion matrix\n",
        "        all_preds.extend(predicted.cpu().numpy())\n",
        "        all_labels.extend(labels.cpu().numpy())\n",
        "\n",
        "test_accuracy = 100.0 * test_correct / test_total\n",
        "print(f\"Final Test Accuracy = {test_accuracy:.2f}%\")\n",
        "\n",
        "# Confusion Matrix\n",
        "cm = confusion_matrix(all_labels, all_preds)\n",
        "disp = ConfusionMatrixDisplay(confusion_matrix=cm, display_labels=[\"O\", \"X\"])\n",
        "disp.plot(cmap=plt.cm.Blues)\n",
        "plt.show()"
      ]
    },
    {
      "cell_type": "markdown",
      "id": "cc01e296",
      "metadata": {
        "id": "section7"
      },
      "source": [
        "## 7. Conclusion\n",
        "\n",
        "In this notebook, we built a **Convolutional Neural Network (CNN)** to classify synthetic 6x6 images of **X** and **O** with small random shifts, but using **PyTorch** instead of other libraries. Here are the key takeaways:\n",
        "\n",
        "- **Convolution** layers drastically reduce the number of parameters and exploit local spatial patterns.\n",
        "- **Pooling** steps help the network become more robust to slight image translations.\n",
        "- Even a small CNN can effectively learn to classify simple images.\n",
        "\n",
        "These same basic principles extend to more complex tasks: the filters become more numerous and we use larger images, but the convolution + ReLU + pooling pattern remains the same.\n",
        "\n",
        "---"
      ]
    },
    {
      "cell_type": "markdown",
      "id": "0abd1222",
      "metadata": {
        "id": "section8"
      },
      "source": [
        "## 8. References\n",
        "\n",
        "1. **Neural Networks Part 8: Image Classification with CNNs** — [StatQuest by Josh Starmer](https://www.youtube.com/watch?v=HGwBXDKFk9I)\n",
        "2. LeCun, Y., Bengio, Y., & Hinton, G. (2015). **Deep Learning**. *Nature*, 521, 436–444.\n",
        "3. Rumelhart, D. E., Hinton, G. E., & Williams, R. J. (1986). **Learning representations by back-propagating errors**. *Nature*, 323, 533–536.\n",
        "4. Krizhevsky, A., Sutskever, I., & Hinton, G. E. (2012). **ImageNet classification with deep convolutional neural networks**. *Advances in Neural Information Processing Systems*, 25, 1097–1105.\n",
        "5. Goodfellow, I., Bengio, Y., & Courville, A. (2016). **Deep Learning**. MIT Press.\n",
        "\n",
        "---\n",
        "**Quest on!**"
      ]
    }
  ],
  "metadata": {
    "language_info": {
      "name": "python"
    },
    "name": "CNN_Image_Classification_Tutorial_PyTorch.ipynb"
  },
  "nbformat": 4,
  "nbformat_minor": 5
}
