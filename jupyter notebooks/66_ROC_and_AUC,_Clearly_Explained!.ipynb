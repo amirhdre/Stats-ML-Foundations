{
 "cells": [
  {
   "cell_type": "markdown",
   "metadata": {},
   "source": [
    "# ROC and AUC, Clearly Explained!\n",
    "\n",
    "In this notebook, we will explore and explain the concepts of Receiver Operating Characteristic (ROC) and Area Under the Curve (AUC). These are evaluation metrics used in binary classification tasks, and provide a way to compare different models and find the optimal decision threshold.\n",
    "\n",
    "We will be using the example of classifying mice as obese or not obese based on their weights.\n",
    "\n",
    "Please note that this notebook assumes a basic understanding of the confusion matrix, sensitivity and specificity, and logistic regression. If you're not familiar with these concepts, it's recommended to brush up on them before proceeding with this notebook.\n",
    "\n",
    "Let's get started!\n",
    "\n",
    "![image.png](https://miro.medium.com/max/1400/1*pk05QGzoWhCgRiiFbz-oKQ.png)"
   ]
  },
  {
   "cell_type": "markdown",
   "metadata": {},
   "source": [
    "## Importing the necessary libraries"
   ]
  },
  {
   "cell_type": "code",
   "execution_count": 1,
   "metadata": {},
   "outputs": [],
   "source": [
    "import numpy as np\n",
    "import matplotlib.pyplot as plt\n",
    "from sklearn import metrics\n",
    "from sklearn.datasets import make_classification\n",
    "from sklearn.linear_model import LogisticRegression\n",
    "from sklearn.model_selection import train_test_split"
   ]
  },
  {
   "cell_type": "markdown",
   "metadata": {},
   "source": [
    "## Data Preparation\n",
    "\n",
    "In this example, we're synthesizing a binary classification dataset where we have two classes, `obese` and `not obese`. Each class is represented by a feature, `weight`.\n",
    "\n",
    "Let's generate this dataset using the `make_classification` function from sklearn."
   ]
  },
  {
   "cell_type": "code",
   "execution_count": 2,
   "metadata": {},
   "outputs": [],
   "source": [
    "# Generate a binary classification dataset.\n",
    "X, y = make_classification(n_samples=1000, n_features=1, n_informative=1, n_redundant=0, n_clusters_per_class=1, random_state=4)\n",
    "\n",
    "# Split the dataset into training and testing sets\n",
    "X_train, X_test, y_train, y_test = train_test_split(X, y, test_size=0.2, random_state=42)"
   ]
  },
  {
   "cell_type": "markdown",
   "metadata": {},
   "source": [
    "## Logistic Regression Model\n",
    "\n",
    "We're going to fit a logistic regression model to this data. The model will output the probability that a mouse is obese given its weight."
   ]
  },
  {
   "cell_type": "code",
   "execution_count": 3,
   "metadata": {},
   "outputs": [],
   "source": [
    "# Initialize the model\n",
    "clf = LogisticRegression()\n",
    "\n",
    "# Fit the model\n",
    "clf.fit(X_train, y_train)\n",
    "\n",
    "# Get the predicted probabilities\n",
    "y_score = clf.predict_proba(X_test)"
   ]
  },
  {
   "cell_type": "markdown",
   "metadata": {},
   "source": [
    "## ROC Curve\n",
    "\n",
    "We can plot the ROC curve to visualize the performance of our model across all possible classification thresholds.\n",
    "\n",
    "The ROC curve is a plot of the true positive rate (sensitivity) against the false positive rate (1-specificity) for every possible classification threshold. The true positive rate is the proportion of actual positive cases that were correctly identified, and the false positive rate is the proportion of actual negative cases that were incorrectly identified as positive."
   ]
  },
  {
   "cell_type": "code",
   "execution_count": 4,
   "metadata": {},
   "outputs": [
    {
     "data": {
      "image/png": "[encoded data removed]",
      "text/plain": [
       "<Figure size 432x288 with 1 Axes>"
      ]
     },
     "metadata": {
      "needs_background": "light"
     },
     "output_type": "display_data"
    }
   ],
   "source": [
    "# Calculate the ROC curve points\n",
    "fpr, tpr, thresholds = metrics.roc_curve(y_test, y_score[:,1])\n",
    "\n",
    "# Create a plot\n",
    "plt.plot(fpr, tpr)\n",
    "\n",
    "# Draw the line of no discrimination\n",
    "plt.plot([0, 1], [0, 1], linestyle='--')\n",
    "\n",
    "# Add labels and title\n",
    "plt.title('ROC Curve')\n",
    "plt.xlabel('False Positive Rate')\n",
    "plt.ylabel('True Positive Rate')\n",
    "\n",
    "# Show the plot\n",
    "plt.show()"
   ]
  },
  {
   "cell_type": "markdown",
   "metadata": {},
   "source": [
    "The ROC curve allows us to compare different classification models and thresholds based on their performance. The closer the curve is to the top left corner, the better the model is. A model with a curve that's under the red diagonal line is no better than random guessing.\n",
    "\n",
    "However, while the ROC curve is a useful tool for visualizing the model's performance, it doesn't give us a quantitative metric that we can use to compare models. That's where AUC comes in."
   ]
  },
  {
   "cell_type": "markdown",
   "metadata": {},
   "source": [
    "## AUC\n",
    "\n",
    "AUC stands for \"Area under the ROC Curve\". It provides an aggregate measure of performance across all possible classification thresholds. The AUC can be interpreted as the probability that the model ranks a random positive example more highly than a random negative example. AUC ranges in value from 0 to 1. A model whose predictions are 100% wrong has an AUC of 0.0; one whose predictions are 100% correct has an AUC of 1.0.\n",
    "\n",
    "AUC is desirable for the following two reasons:\n",
    "\n",
    "1. AUC is scale-invariant. It measures how well predictions are ranked, rather than their absolute values.\n",
    "2. AUC is classification-threshold-invariant. It measures the quality of the model's predictions irrespective of what classification threshold is chosen.\n",
    "\n",
    "However, both these reasons come with caveats, which may limit the usefulness of AUC in certain use cases:\n",
    "\n",
    "1. Scale invariance is not always desirable. For example, sometimes we really do need well calibrated probability outputs, and AUC won’t tell us about that.\n",
    "2. Classification-threshold invariance is not always desirable. In cases where there are wide disparities in the cost of false negatives vs. false positives, it may be critical to minimize one type of classification error. For example, when doing email spam detection, you likely want to prioritize minimizing false positives (even if that results in a significant increase of false negatives). AUC isn't a useful metric for this type of optimization."
   ]
  },
  {
   "cell_type": "code",
   "execution_count": 5,
   "metadata": {},
   "outputs": [
    {
     "name": "stdout",
     "output_type": "stream",
     "text": [
      "AUC:  0.9950822962665596\n"
     ]
    }
   ],
   "source": [
    "# Calculate the AUC\n",
    "roc_auc = metrics.auc(fpr, tpr)\n",
    "print('AUC: ', roc_auc)"
   ]
  },
  {
   "cell_type": "markdown",
   "metadata": {},
   "source": [
    "The AUC of our model is close to 1, indicating that it has a good measure of separability and is able to distinguish between the positive and negative classes.\n",
    "\n",
    "In conclusion, ROC and AUC are valuable evaluation metrics for binary classification problems. They provide a way to compare different models and thresholds in a way that balances the trade-off between the true positive rate and false positive rate, and are invariant to the scale and classification threshold. However, they should be used with consideration for the specific requirements and constraints of the problem at hand."
   ]
  },
  {
   "cell_type": "markdown",
   "id": "4ba991ee",
   "metadata": {},
   "source": []
  },
  {
   "cell_type": "markdown",
   "id": "bc47ce07",
   "metadata": {},
   "source": []
  },
  {
   "cell_type": "markdown",
   "id": "ae224067",
   "metadata": {},
   "source": []
  }
 ],
 "metadata": {
  "kernelspec": {
   "display_name": "Python 3",
   "language": "python",
   "name": "python3"
  },
  "language_info": {
   "codemirror_mode": {
    "name": "ipython",
    "version": 3
   },
   "file_extension": ".py",
   "mimetype": "text/x-python",
   "name": "python",
   "nbconvert_exporter": "python",
   "pygments_lexer": "ipython3",
   "version": "3.8.16"
  }
 },
 "nbformat": 4,
 "nbformat_minor": 5
}
