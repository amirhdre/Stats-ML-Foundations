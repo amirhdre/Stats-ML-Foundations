{
 "cells": [
  {
   "cell_type": "markdown",
   "metadata": {
    "pycharm": {
     "name": "#%% md\n"
    }
   },
   "source": [
    "# The Exponential Distribution\n",
    "\n",
    "The exponential distribution is a continuous probability distribution used to model the time we have to wait before a given event occurs. It is particularly useful for estimating time between two events. For example, the amount of time that passes between two videos."
   ]
  },
  {
   "cell_type": "markdown",
   "metadata": {
    "pycharm": {
     "name": "#%% md\n"
    }
   },
   "source": [
    "## Probability Density Function (PDF)\n",
    "\n",
    "The PDF of the exponential distribution is given by:\n",
    "\n",
    "$$f(x; \\lambda) = \\lambda e^{-\\lambda x}$$\n",
    "\n",
    "Where:\n",
    "\n",
    "- $\\lambda$ is the rate parameter, which is the reciprocal of the expected waiting time. It must be greater than 0.\n",
    "- $x$ is the actual waiting time.\n",
    "- $e$ is the base of the natural logarithm, approximately equal to 2.71828."
   ]
  },
  {
   "cell_type": "markdown",
   "metadata": {
    "pycharm": {
     "name": "#%% md\n"
    }
   },
   "source": [
    "## Cumulative Distribution Function (CDF)\n",
    "\n",
    "The CDF of the exponential distribution is given by:\n",
    "\n",
    "$$F(x; \\lambda) = 1 - e^{-\\lambda x}$$\n",
    "\n",
    "This gives the probability that the waiting time is less than or equal to $x$."
   ]
  },
  {
   "cell_type": "markdown",
   "metadata": {
    "pycharm": {
     "name": "#%% md\n"
    }
   },
   "source": [
    "## Generating Exponential Random Variables\n",
    "\n",
    "We can generate exponential random variables using the `numpy.random.exponential` function in Python. This function takes the scale parameter, which is the reciprocal of the rate parameter."
   ]
  },
  {
   "cell_type": "code",
   "execution_count": 1,
   "metadata": {
    "pycharm": {
     "name": "#%%\n"
    }
   },
   "outputs": [
    {
     "data": {
      "text/plain": "<Figure size 432x288 with 1 Axes>",
      "image/png": "[encoded data removed]"
     },
     "metadata": {
      "needs_background": "light"
     },
     "output_type": "display_data"
    }
   ],
   "source": [
    "import numpy as np\n",
    "import matplotlib.pyplot as plt\n",
    "\n",
    "# Generate 1000 exponential random variables with mean 1/lambda = 1\n",
    "rvs = np.random.exponential(scale=1, size=1000)\n",
    "\n",
    "# Plot histogram\n",
    "plt.hist(rvs, bins=30, density=True)\n",
    "plt.title('Histogram of Exponential Random Variables')\n",
    "plt.xlabel('x')\n",
    "plt.ylabel('Density')\n",
    "plt.show()"
   ]
  },
  {
   "cell_type": "code",
   "execution_count": null,
   "metadata": {
    "pycharm": {
     "name": "#%%\n"
    }
   },
   "outputs": [],
   "source": []
  }
 ],
 "metadata": {
  "kernelspec": {
   "display_name": "pytorch_m1",
   "language": "python",
   "name": "python3"
  },
  "language_info": {
   "codemirror_mode": {
    "name": "ipython",
    "version": 3
   },
   "file_extension": ".py",
   "mimetype": "text/x-python",
   "name": "python",
   "nbconvert_exporter": "python",
   "pygments_lexer": "ipython3",
   "version": "3.8.20"
  }
 },
 "nbformat": 4,
 "nbformat_minor": 2
}