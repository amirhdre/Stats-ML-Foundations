{
 "cells": [
  {
   "cell_type": "markdown",
   "id": "d9b65b74",
   "metadata": {
    "pycharm": {
     "name": "#%% md\n"
    }
   },
   "source": [
    "# Using Bootstrapping to Calculate p-values\n",
    "\n",
    "In this notebook, we explore how to use bootstrapping to calculate p-values, a fundamental concept in statistical hypothesis testing. We'll focus on using Python to implement the procedure step by step, complemented with visualizations and examples to make the learning process engaging and intuitive."
   ]
  },
  {
   "cell_type": "markdown",
   "id": "4fa337d2",
   "metadata": {
    "pycharm": {
     "name": "#%% md\n"
    }
   },
   "source": [
    "## Hypothesis Testing with Bootstrapping\n",
    "\n",
    "Consider a scenario where we administer a drug to eight patients. Our goal is to determine whether the drug's effect is statistically significant or merely a result of random variation.\n",
    "\n",
    "### Steps in Hypothesis Testing with Bootstrapping:\n",
    "1. **Shift the data**: Adjust the data so the null hypothesis mean is zero.\n",
    "2. **Generate bootstrap samples**: Create new datasets by sampling with replacement.\n",
    "3. **Calculate the statistic**: Compute the mean for each bootstrap sample.\n",
    "4. **Visualize the results**: Examine the distribution of bootstrap means.\n",
    "5. **Calculate the p-value**: Determine the probability of observing a result as extreme as the observed mean under the null hypothesis."
   ]
  },
  {
   "cell_type": "code",
   "execution_count": 1,
   "id": "b3fe73d4",
   "metadata": {
    "pycharm": {
     "name": "#%%\n"
    }
   },
   "outputs": [
    {
     "name": "stdout",
     "output_type": "stream",
     "text": [
      "Generated Data: [0.99671415 0.3617357  1.14768854 2.02302986 0.26584663 0.26586304\n",
      " 2.07921282 1.26743473]\n"
     ]
    }
   ],
   "source": [
    "# Import necessary libraries\n",
    "import numpy as np\n",
    "import matplotlib.pyplot as plt\n",
    "\n",
    "# Set a seed for reproducibility\n",
    "np.random.seed(42)\n",
    "\n",
    "# Generate synthetic data representing patient responses\n",
    "data = np.random.normal(0.5, 1, 8)  # Original data with mean ~0.5\n",
    "print('Generated Data:', data)"
   ]
  },
  {
   "cell_type": "markdown",
   "id": "a49b5c63",
   "metadata": {
    "pycharm": {
     "name": "#%% md\n"
    }
   },
   "source": [
    "### Step 1: Shift the Data\n",
    "\n",
    "To test the null hypothesis, we shift the data so that its mean is zero. This allows us to simulate the scenario where the drug has no effect."
   ]
  },
  {
   "cell_type": "code",
   "execution_count": 2,
   "id": "b8a40e98",
   "metadata": {
    "pycharm": {
     "name": "#%%\n"
    }
   },
   "outputs": [
    {
     "name": "stdout",
     "output_type": "stream",
     "text": [
      "Shifted Data: [-0.05422653 -0.68920498  0.09674786  0.97208917 -0.78509406 -0.78507764\n",
      "  1.02827213  0.21649405]\n"
     ]
    },
    {
     "data": {
      "image/png": "[encoded data removed]",
      "text/plain": [
       "<Figure size 576x288 with 1 Axes>"
      ]
     },
     "metadata": {
      "needs_background": "light"
     },
     "output_type": "display_data"
    }
   ],
   "source": [
    "# Step 1: Shift the data to have a mean of 0\n",
    "shifted_data = data - np.mean(data)\n",
    "print('Shifted Data:', shifted_data)\n",
    "\n",
    "# Visualize the original and shifted data\n",
    "plt.figure(figsize=(8, 4))\n",
    "plt.hist(data, bins=8, alpha=0.5, label='Original Data', color='blue')\n",
    "plt.hist(shifted_data, bins=8, alpha=0.5, label='Shifted Data', color='orange')\n",
    "plt.axvline(np.mean(data), color='blue', linestyle='--', label='Original Mean')\n",
    "plt.axvline(0, color='orange', linestyle='--', label='Shifted Mean')\n",
    "plt.title('Original vs. Shifted Data')\n",
    "plt.xlabel('Value')\n",
    "plt.ylabel('Frequency')\n",
    "plt.legend()\n",
    "plt.show()"
   ]
  },
  {
   "cell_type": "markdown",
   "id": "d4fdbebb",
   "metadata": {
    "pycharm": {
     "name": "#%% md\n"
    }
   },
   "source": [
    "### Step 2: Generate Bootstrap Samples\n",
    "\n",
    "We create multiple bootstrap samples by sampling with replacement from the shifted data."
   ]
  },
  {
   "cell_type": "code",
   "execution_count": 3,
   "id": "e33c54a1",
   "metadata": {
    "pycharm": {
     "name": "#%%\n"
    }
   },
   "outputs": [
    {
     "data": {
      "image/png": "[encoded data removed]",
      "text/plain": [
       "<Figure size 432x288 with 1 Axes>"
      ]
     },
     "metadata": {
      "needs_background": "light"
     },
     "output_type": "display_data"
    }
   ],
   "source": [
    "# Step 2: Generate bootstrap samples and calculate means\n",
    "bootstrap_means = np.empty(10000)\n",
    "for i in range(10000):\n",
    "    bootstrap_sample = np.random.choice(shifted_data, len(shifted_data), replace=True)\n",
    "    bootstrap_means[i] = np.mean(bootstrap_sample)\n",
    "\n",
    "# Visualize the distribution of bootstrap means\n",
    "plt.hist(bootstrap_means, bins='auto', color='green', alpha=0.7)\n",
    "plt.title('Distribution of Bootstrap Means')\n",
    "plt.xlabel('Mean Value')\n",
    "plt.ylabel('Frequency')\n",
    "plt.show()"
   ]
  },
  {
   "cell_type": "markdown",
   "id": "0a83cafb",
   "metadata": {
    "pycharm": {
     "name": "#%% md\n"
    }
   },
   "source": [
    "### Step 5: Calculate the p-value\n",
    "\n",
    "The p-value represents the probability of observing a result as extreme as the observed mean under the null hypothesis. We calculate it by comparing the observed mean to the bootstrap distribution."
   ]
  },
  {
   "cell_type": "code",
   "execution_count": 4,
   "id": "b587964e",
   "metadata": {
    "pycharm": {
     "name": "#%%\n"
    }
   },
   "outputs": [
    {
     "name": "stdout",
     "output_type": "stream",
     "text": [
      "Calculated p-value: 0.038\n"
     ]
    }
   ],
   "source": [
    "# Step 5: Calculate the p-value\n",
    "observed_mean = 0.5  # The observed mean of the original data\n",
    "p_value = ((np.sum(bootstrap_means >= observed_mean) + np.sum(bootstrap_means <= -observed_mean))\n",
    "          / len(bootstrap_means))\n",
    "print('Calculated p-value:', p_value)"
   ]
  },
  {
   "cell_type": "markdown",
   "id": "d707696e",
   "metadata": {
    "pycharm": {
     "name": "#%% md\n"
    }
   },
   "source": [
    "## Conclusion\n",
    "\n",
    "Bootstrapping is a powerful technique that allows us to perform hypothesis testing without relying on strict assumptions about the data distribution. By resampling and visualizing the results, we gain a deeper understanding of statistical significance."
   ]
  }
 ],
 "metadata": {
  "kernelspec": {
   "display_name": "torch-nightly",
   "language": "python",
   "name": "python3"
  },
  "language_info": {
   "codemirror_mode": {
    "name": "ipython",
    "version": 3
   },
   "file_extension": ".py",
   "mimetype": "text/x-python",
   "name": "python",
   "nbconvert_exporter": "python",
   "pygments_lexer": "ipython3",
   "version": "3.8.13"
  }
 },
 "nbformat": 4,
 "nbformat_minor": 5
}