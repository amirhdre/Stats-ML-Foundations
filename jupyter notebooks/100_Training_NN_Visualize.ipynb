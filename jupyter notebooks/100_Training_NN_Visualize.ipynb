{
 "cells": [
  {
   "cell_type": "markdown",
   "id": "6b361048",
   "metadata": {
    "pycharm": {
     "name": "#%% md\n"
    }
   },
   "source": [
    "# Chain Rule Example: Optimizing a Neural Network"
   ]
  },
  {
   "cell_type": "markdown",
   "id": "3d0b95ef",
   "metadata": {
    "pycharm": {
     "name": "#%% md\n"
    }
   },
   "source": [
    "\n",
    "In this example, we will optimize a simple neural network with one input, one hidden neuron, and one output neuron.\n",
    "The focus will be on using the chain rule to calculate gradients and update parameters step by step.\n",
    "\n",
    "### Network Structure:\n",
    "1. Input $x$\n",
    "2. Hidden layer:\n",
    "   - Weight: $w_1$\n",
    "   - Bias: $b_1$\n",
    "   - Activation: Sigmoid function\n",
    "3. Output layer:\n",
    "   - Weight: $w_2$\n",
    "   - Bias: $b_2$\n",
    "   - Activation: Sigmoid function\n"
   ]
  },
  {
   "cell_type": "markdown",
   "id": "51c9e5a8",
   "metadata": {
    "pycharm": {
     "name": "#%% md\n"
    }
   },
   "source": [
    "\n",
    "## Step 1: Forward Pass\n",
    "\n",
    "1. **Hidden Layer Output**:\n",
    "   $$\n",
    "   h = \\sigma(x w_1 + b_1)\n",
    "   $$\n",
    "   where $\\sigma(z) = \\frac{1}{1 + e^{-z}}$ is the Sigmoid activation.\n",
    "\n",
    "2. **Output Layer**:\n",
    "   $$\n",
    "   \\hat{y} = \\sigma(h w_2 + b_2)\n",
    "   $$\n"
   ]
  },
  {
   "cell_type": "markdown",
   "id": "69774025",
   "metadata": {
    "pycharm": {
     "name": "#%% md\n"
    }
   },
   "source": [
    "\n",
    "## Step 2: Compute Loss\n",
    "\n",
    "We use the Mean Squared Error (MSE) loss function:\n",
    "$$\n",
    "L = (y - \\hat{y})^2\n",
    "$$\n",
    "where $y$ is the true label.\n"
   ]
  },
  {
   "cell_type": "markdown",
   "id": "dde1d58c",
   "metadata": {
    "pycharm": {
     "name": "#%% md\n"
    }
   },
   "source": [
    "\n",
    "## Step 3: Backward Pass (Using the Chain Rule)\n",
    "\n",
    "1. **Gradient of Loss with Respect to Output**:\n",
    "   $$\n",
    "   \\frac{\\partial L}{\\partial \\hat{y}} = -2 (y - \\hat{y})\n",
    "   $$\n",
    "\n",
    "2. **Gradient of Output with Respect to $w_2$**:\n",
    "   $$\n",
    "   \\frac{\\partial \\hat{y}}{\\partial w_2} = h \\cdot \\sigma'(h w_2 + b_2)\n",
    "   $$\n",
    "   where $\\sigma'(z) = \\sigma(z)(1 - \\sigma(z))$.\n",
    "\n",
    "3. **Gradient of Loss with Respect to $w_2$**:\n",
    "   $$\n",
    "   \\frac{\\partial L}{\\partial w_2} = \\frac{\\partial L}{\\partial \\hat{y}} \\cdot \\frac{\\partial \\hat{y}}{\\partial w_2}\n",
    "   $$\n",
    "\n",
    "4. **Repeat for $b_2$, $w_1$, and $b_1$**.\n",
    "\n",
    "### Example Values:\n",
    "Let:\n",
    "- $x = 1$, $y = 0.5$\n",
    "- $w_1 = 0.4$, $b_1 = 0.2$, $w_2 = 0.7$, $b_2 = 0.1$\n",
    "- Learning rate $\\alpha = 0.1$\n"
   ]
  },
  {
   "cell_type": "markdown",
   "id": "1284b2c0",
   "metadata": {
    "collapsed": false,
    "pycharm": {
     "name": "#%% md\n"
    }
   },
   "source": [
    "# Visualization using a small software"
   ]
  },
  {
   "cell_type": "code",
   "execution_count": 1,
   "id": "4246c3b8",
   "metadata": {
    "collapsed": false,
    "pycharm": {
     "name": "#%%\n"
    }
   },
   "outputs": [
    {
     "data": {
      "image/png": "[encoded data removed]",
      "text/plain": [
       "<Figure size 360x288 with 2 Axes>"
      ]
     },
     "metadata": {
      "needs_background": "light"
     },
     "output_type": "display_data"
    }
   ],
   "source": [
    "import tkinter as tk\n",
    "from tkinter import Canvas\n",
    "import numpy as np\n",
    "import matplotlib.pyplot as plt\n",
    "from matplotlib.backends.backend_tkagg import FigureCanvasTkAgg\n",
    "import torch\n",
    "import torch.nn as nn\n",
    "import torch.optim as optim\n",
    "from torchvision import datasets, transforms\n",
    "\n",
    "class NeuralNetworkVisualizer:\n",
    "    def __init__(self, root):\n",
    "        self.root = root\n",
    "        self.root.title(\"Neural Network Backpropagation Visualizer\")\n",
    "\n",
    "        # Load MNIST dataset\n",
    "        transform = transforms.Compose([transforms.ToTensor(), transforms.Normalize((0.5,), (0.5,))])\n",
    "        train_dataset = datasets.MNIST(root=\"./data\", train=True, download=True, transform=transform)\n",
    "        self.train_loader = iter(torch.utils.data.DataLoader(dataset=train_dataset, batch_size=32, shuffle=True))\n",
    "\n",
    "        # Create the canvas for neural network visualization\n",
    "        self.canvas = Canvas(root, width=1000, height=800, bg=\"white\")\n",
    "        self.canvas.grid(row=0, column=0, rowspan=3)\n",
    "\n",
    "        # Create the matplotlib figures for cost and accuracy\n",
    "        self.fig, (self.ax_cost, self.ax_accuracy) = plt.subplots(2, 1, figsize=(5, 4))\n",
    "        self.fig.subplots_adjust(hspace=1)  # Add padding between plots\n",
    "\n",
    "        self.ax_cost.set_title(\"Cost\")\n",
    "        self.ax_cost.set_xlabel(\"Iterations\")\n",
    "        self.ax_cost.set_ylabel(\"Cost\")\n",
    "        self.ax_accuracy.set_title(\"Accuracy\")\n",
    "        self.ax_accuracy.set_xlabel(\"Iterations\")\n",
    "        self.ax_accuracy.set_ylabel(\"Accuracy\")\n",
    "\n",
    "        self.canvas_plt = FigureCanvasTkAgg(self.fig, master=root)\n",
    "        self.canvas_plt.get_tk_widget().grid(row=0, column=1, sticky=\"n\")\n",
    "        \n",
    "            # Add copyright information below the plots\n",
    "        self.copyright_label = tk.Label(root, text=\"© Amir H. Daraie, January 2025\\nStatistical Foundation of Neural Data Science\\nJohns Hopkins University\",\n",
    "                                        font=(\"Helvetica\", 18), justify=\"center\")\n",
    "        self.copyright_label.grid(row=2, column=1, pady=(20, 0), sticky=\"s\")\n",
    "\n",
    "        # Initialize parameters\n",
    "        self.init_network()\n",
    "        self.cost_history = []\n",
    "        self.accuracy_history = []\n",
    "        self.iteration = 0\n",
    "\n",
    "        # Start the visualization\n",
    "        self.update_visualization()\n",
    "\n",
    "    def init_network(self):\n",
    "        # Define a smaller network for better visualization\n",
    "        self.model = nn.Sequential(\n",
    "            nn.Linear(28 * 28, 16),\n",
    "            nn.ReLU(),\n",
    "            nn.Linear(16, 8),\n",
    "            nn.ReLU(),\n",
    "            nn.Linear(8, 10),\n",
    "            nn.Softmax(dim=1)\n",
    "        )\n",
    "        self.criterion = nn.CrossEntropyLoss()\n",
    "        self.optimizer = optim.SGD(self.model.parameters(), lr=0.1)\n",
    "\n",
    "    def forward_and_backward_pass(self, X, y):\n",
    "        self.optimizer.zero_grad()\n",
    "        outputs = self.model(X)\n",
    "        loss = self.criterion(outputs, y)\n",
    "        loss.backward()\n",
    "        self.optimizer.step()\n",
    "        return loss.item(), outputs\n",
    "\n",
    "    def compute_accuracy(self, y_pred, y):\n",
    "        predictions = torch.argmax(y_pred, dim=1)\n",
    "        true_labels = torch.argmax(y, dim=1)\n",
    "        return (predictions == true_labels).float().mean().item()\n",
    "\n",
    "    def update_visualization(self):\n",
    "        try:\n",
    "            X, y = next(self.train_loader)\n",
    "        except StopIteration:\n",
    "            self.train_loader = iter(torch.utils.data.DataLoader(dataset=datasets.MNIST(root=\"./data\", train=True, download=True, transform=transforms.Compose([transforms.ToTensor(), transforms.Normalize((0.5,), (0.5,))])), batch_size=32, shuffle=True))\n",
    "            X, y = next(self.train_loader)\n",
    "\n",
    "        X = X.view(-1, 28 * 28)  # Flatten the input images\n",
    "        y_one_hot = torch.zeros(y.size(0), 10).scatter_(1, y.unsqueeze(1), 1)  # Convert to one-hot encoding\n",
    "\n",
    "        # Perform forward and backward pass\n",
    "        loss, y_pred = self.forward_and_backward_pass(X, y_one_hot)\n",
    "\n",
    "        # Update cost and accuracy\n",
    "        accuracy = self.compute_accuracy(y_pred, y_one_hot)\n",
    "        self.cost_history.append(loss)\n",
    "        self.accuracy_history.append(accuracy)\n",
    "        self.iteration += 1\n",
    "\n",
    "        # Update plots\n",
    "        self.ax_cost.clear()\n",
    "        self.ax_accuracy.clear()\n",
    "        self.ax_cost.plot(self.cost_history, color=\"blue\")\n",
    "        self.ax_cost.set_title(f\"Cost (Iteration {self.iteration})\", fontsize=19)\n",
    "        self.ax_cost.set_xlabel(\"Iterations\")\n",
    "        self.ax_cost.set_ylabel(\"Cost\")\n",
    "        self.ax_accuracy.plot(self.accuracy_history, color=\"green\")\n",
    "        self.ax_accuracy.set_title(f\"Accuracy (Iteration {self.iteration})\", fontsize=19)\n",
    "        self.ax_accuracy.set_xlabel(\"Iterations\")\n",
    "        self.ax_accuracy.set_ylabel(\"Accuracy\")\n",
    "        self.canvas_plt.draw()\n",
    "\n",
    "        # Visualize the weights on the canvas\n",
    "        self.canvas.delete(\"all\")\n",
    "        self.draw_network()\n",
    "\n",
    "        if self.iteration < 10000:\n",
    "            self.root.after(100, self.update_visualization)\n",
    "\n",
    "    def draw_network(self):\n",
    "        # Centralize the columns of neurons vertically\n",
    "        canvas_height = int(self.canvas['height'])\n",
    "        # input_positions = self.center_positions([(100, i * 20 + 50) for i in range(8)], canvas_height)\n",
    "        # hidden_positions1 = self.center_positions([(400, i * 30 + 50) for i in range(16)], canvas_height)\n",
    "        # hidden_positions2 = self.center_positions([(600, i * 30 + 50) for i in range(8)], canvas_height)\n",
    "        # output_positions = self.center_positions([(800, i * 30 + 50) for i in range(10)], canvas_height)\n",
    "\n",
    "        input_positions = self.center_positions([(100, i * 30 + 50) for i in range(8)], canvas_height)\n",
    "        hidden_positions1 = self.center_positions([(400, i * 45 + 50) for i in range(16)], canvas_height)\n",
    "        hidden_positions2 = self.center_positions([(600, i * 45 + 50) for i in range(8)], canvas_height)\n",
    "        output_positions = self.center_positions([(800, i * 45 + 50) for i in range(10)], canvas_height)\n",
    "\n",
    "        for x, y in input_positions:\n",
    "            self.canvas.create_oval(x - 5, y - 5, x + 5, y + 5, fill=\"blue\")\n",
    "        for x, y in hidden_positions1:\n",
    "            self.canvas.create_oval(x - 10, y - 10, x + 10, y + 10, fill=\"red\")\n",
    "        for x, y in hidden_positions2:\n",
    "            self.canvas.create_oval(x - 10, y - 10, x + 10, y + 10, fill=\"orange\")\n",
    "        for x, y in output_positions:\n",
    "            self.canvas.create_oval(x - 10, y - 10, x + 10, y + 10, fill=\"green\")\n",
    "\n",
    "        # Draw weights as lines with color intensity proportional to weight value\n",
    "        with torch.no_grad():\n",
    "            weights_input_hidden1 = self.model[0].weight\n",
    "            weights_hidden1_hidden2 = self.model[2].weight\n",
    "            weights_hidden2_output = self.model[4].weight\n",
    "\n",
    "        for i, (x1, y1) in enumerate(input_positions[:weights_input_hidden1.size(1)]):\n",
    "            for j, (x2, y2) in enumerate(hidden_positions1):\n",
    "                weight = weights_input_hidden1[j, i].item()\n",
    "                color, alpha = self.get_weight_color_and_alpha(weight)\n",
    "                self.canvas.create_line(x1, y1, x2, y2, fill=color, width=2, stipple=self.get_stipple(alpha))\n",
    "\n",
    "        for i, (x1, y1) in enumerate(hidden_positions1):\n",
    "            for j, (x2, y2) in enumerate(hidden_positions2):\n",
    "                weight = weights_hidden1_hidden2[j, i].item()\n",
    "                color, alpha = self.get_weight_color_and_alpha(weight)\n",
    "                self.canvas.create_line(x1, y1, x2, y2, fill=color, width=2, stipple=self.get_stipple(alpha))\n",
    "\n",
    "        for i, (x1, y1) in enumerate(hidden_positions2):\n",
    "            for j, (x2, y2) in enumerate(output_positions):\n",
    "                weight = weights_hidden2_output[j, i].item()\n",
    "                color, alpha = self.get_weight_color_and_alpha(weight)\n",
    "                self.canvas.create_line(x1, y1, x2, y2, fill=color, width=2, stipple=self.get_stipple(alpha))\n",
    "\n",
    "    def center_positions(self, positions, canvas_height):\n",
    "        \"\"\"Center neuron positions vertically.\"\"\"\n",
    "        total_height = positions[-1][1] - positions[0][1]\n",
    "        offset = (canvas_height - total_height) // 2 - 50  # Add a negative offset to move up\n",
    "        return [(x, y + offset) for x, y in positions]\n",
    "\n",
    "    def get_weight_color_and_alpha(self, weight):\n",
    "        \"\"\"Get color and transparency based on weight value.\"\"\"\n",
    "        weight_norm = max(min(weight, 1), -1)  # Normalize weight to [-1, 1]\n",
    "        if weight_norm > 0:\n",
    "            r = int(255 * weight_norm)\n",
    "            color = f\"#{r:02x}0000\"  # Red for positive weights\n",
    "        else:\n",
    "            b = int(255 * -weight_norm)\n",
    "            color = f\"#0000{b:02x}\"  # Blue for negative weights\n",
    "        alpha = int(255 * abs(weight_norm))  # Transparency proportional to magnitude\n",
    "        return color, alpha\n",
    "\n",
    "    def get_stipple(self, alpha):\n",
    "        \"\"\"Determine stipple pattern based on alpha (transparency).\"\"\"\n",
    "        if alpha > 200:\n",
    "            return \"\"\n",
    "        elif alpha > 100:\n",
    "            return \"gray50\"\n",
    "        else:\n",
    "            return \"gray25\"\n",
    "\n",
    "\n",
    "if __name__ == \"__main__\":\n",
    "    root = tk.Tk()\n",
    "    app = NeuralNetworkVisualizer(root)\n",
    "    root.mainloop()\n"
   ]
  },
  {
   "cell_type": "code",
   "execution_count": null,
   "id": "9c678dfb",
   "metadata": {},
   "outputs": [],
   "source": []
  }
 ],
 "metadata": {
  "kernelspec": {
   "display_name": "pytorch_m1",
   "language": "python",
   "name": "python3"
  },
  "language_info": {
   "codemirror_mode": {
    "name": "ipython",
    "version": 3
   },
   "file_extension": ".py",
   "mimetype": "text/x-python",
   "name": "python",
   "nbconvert_exporter": "python",
   "pygments_lexer": "ipython3",
   "version": "3.8.20"
  }
 },
 "nbformat": 4,
 "nbformat_minor": 5
}
