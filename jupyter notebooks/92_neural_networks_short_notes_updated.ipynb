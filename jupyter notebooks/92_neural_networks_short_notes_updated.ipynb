{
 "cells": [
  {
   "cell_type": "markdown",
   "metadata": {},
   "source": [
    "# Short Notes on Neural Networks\n",
    "\n",
    "## Definition\n",
    "Neural networks are mathematical models inspired by the brain, consisting of interconnected nodes (neurons) that process data to identify patterns and make predictions.\n",
    "\n",
    "## Key Components\n",
    "1. **Input Layer**: Accepts input features (e.g., dosage levels).\n",
    "2. **Hidden Layers**: Perform transformations using weights, biases, and activation functions.\n",
    "3. **Output Layer**: Provides predictions or classifications.\n",
    "\n",
    "## Mathematical Process\n",
    "1. **Weighted Sum**: Each node computes $$ z = w \\cdot x + b $$, where $$ w $$ = weight, $$ x $$ = input, $$ b $$ = bias.\n",
    "2. **Activation Function**: Applies non-linear transformations to $$ z $$:\n",
    "   - **SoftPlus**: $$ f(x) = \\log(1 + e^x) $$\n",
    "   - **ReLU**: $$ f(x) = \\max(0, x) $$\n",
    "   - **Sigmoid**: $$ f(x) = \\frac{1}{1 + e^{-x}} $$\n",
    "\n",
    "## Why Neural Networks?\n",
    "- Fit non-linear data and model complex relationships.\n",
    "- Example: Predicting drug effectiveness where linear models fail.\n",
    "\n",
    "## Key Insights\n",
    "- **Weights and Biases**: Tunable parameters adjusted during training.\n",
    "- **Activation Functions**: Allow networks to learn non-linear patterns.\n",
    "\n",
    "## Training\n",
    "Neural networks are trained by optimizing weights and biases to minimize error, enabling them to generalize to new data.\n"
   ]
  },
  {
   "cell_type": "markdown",
   "id": "c46fe176",
   "metadata": {},
   "source": []
  }
 ],
 "metadata": {
  "kernelspec": {
   "display_name": "Python 3",
   "language": "python",
   "name": "python3"
  },
  "language_info": {
   "codemirror_mode": {
    "name": "ipython",
    "version": 3
   },
   "file_extension": ".py",
   "mimetype": "text/x-python",
   "name": "python",
   "nbconvert_exporter": "python",
   "pygments_lexer": "ipython3",
   "version": "3.8.10"
  }
 },
 "nbformat": 4,
 "nbformat_minor": 5
}
