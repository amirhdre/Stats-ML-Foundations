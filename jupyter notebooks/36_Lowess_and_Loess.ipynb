{
 "cells": [
  {
   "cell_type": "markdown",
   "metadata": {
    "pycharm": {
     "name": "#%% md\n"
    }
   },
   "source": [
    "# Lowess and Loess"
   ]
  },
  {
   "cell_type": "markdown",
   "metadata": {
    "pycharm": {
     "name": "#%% md\n"
    }
   },
   "source": [
    "Lowess and Loess are two commonly used methods for smoothing scatterplots in statistics. These methods are non-parametric, meaning they do not make any assumptions about the underlying distribution of the data. Instead, they use local regression to create a smooth line through a scatterplot. The terms 'Lowess' and 'Loess' are sometimes used interchangeably, but typically 'Lowess' refers to 'locally weighted scatterplot smoothing', while 'Loess' refers to 'locally estimated scatterplot smoothing'.\n",
    "\n",
    "The main idea of these methods is to use a sliding window to divide the data into smaller sections and fit a line (or curve) to each section. The closer the point is to the focal point of the window, the more influence it has on the fit of the line. This is achieved using a weighting function, which assigns higher weights to points closer to the focal point.\n",
    "\n",
    "The process typically involves the following steps:\n",
    "1. Divide the data into smaller sections using a sliding window.\n",
    "2. For each section, fit a line (or curve) using a weighted least squares method.\n",
    "3. Repeat the process, adjusting the weights based on the distance between the original and new points (this reduces the influence of outliers).\n",
    "4. Repeat until a desired level of smoothness is achieved.\n",
    "\n",
    "In this notebook, we will go through an example of how to apply Lowess and Loess in Python. We'll also discuss some considerations and potential issues with these methods."
   ]
  },
  {
   "cell_type": "markdown",
   "metadata": {
    "pycharm": {
     "name": "#%% md\n"
    }
   },
   "source": [
    "## Example"
   ]
  },
  {
   "cell_type": "code",
   "metadata": {
    "pycharm": {
     "name": "#%%\n"
    }
   },
   "source": [
    "import numpy as np\n",
    "import matplotlib.pyplot as plt\n",
    "from scipy.interpolate import interp1d\n",
    "from statsmodels.nonparametric.smoothers_lowess import lowess\n",
    "\n",
    "# Generate some random data\n",
    "np.random.seed(0)\n",
    "x = np.linspace(0, 2 * np.pi, 100)\n",
    "y = np.sin(x) + 0.3 * np.random.randn(100)\n",
    "\n",
    "# Apply Lowess\n",
    "filtered = lowess(y, x, frac=0.4)\n",
    "\n",
    "# Create an interpolation function\n",
    "f = interp1d(filtered[:, 0], filtered[:, 1], kind='cubic')\n",
    "\n",
    "# Plot the original data and the smoothed data\n",
    "plt.figure(figsize=(10, 6))\n",
    "plt.plot(x, y, 'o', label='Original data')\n",
    "plt.plot(x, f(x), '*', label='Smoothed data')\n",
    "plt.legend()\n",
    "plt.show()"
   ],
   "outputs": [
    {
     "data": {
      "text/plain": "<Figure size 720x432 with 1 Axes>",
      "image/png": "[encoded data removed]"
     },
     "metadata": {
      "needs_background": "light"
     },
     "output_type": "display_data"
    }
   ],
   "execution_count": 16
  },
  {
   "cell_type": "markdown",
   "metadata": {
    "pycharm": {
     "name": "#%% md\n"
    }
   },
   "source": [
    "## Considerations"
   ]
  },
  {
   "cell_type": "markdown",
   "metadata": {
    "pycharm": {
     "name": "#%% md\n"
    }
   },
   "source": [
    "There are several factors to consider when using Lowess and Loess:\n",
    "\n",
    "- **Choice of window size**: The size of the window affects the smoothness of the resulting curve. A larger window produces a smoother curve, but may oversmooth and miss important features of the data. A smaller window can capture these features, but may be more sensitive to noise. The choice of window size is often made based on visual inspection or using cross-validation.\n",
    "\n",
    "- **Choice of polynomial order**: Lowess and Loess can fit either a line (first order polynomial) or a parabola (second order polynomial) to each section of the data. Fitting a parabola can capture more complex relationships in the data, but can also be more sensitive to noise. The choice between a line and a parabola is often made based on visual inspection or using cross-validation.\n",
    "\n",
    "- **Weighting function**: The weighting function used in Lowess and Loess assigns more influence to points closer to the focal point of the window. Different weighting functions can be used, and the choice of weighting function can affect the fit of the line. The commonly used weighting function in Lowess and Loess is the tricube weight function, but others can be used as well.\n",
    "\n",
    "- **Outliers**: Lowess and Loess can be sensitive to outliers. The process of updating the weights based on the distance between the original and new points can help to reduce the influence of outliers. However, in some cases, it may be necessary to apply additional outlier detection methods before applying Lowess or Loess.\n",
    "\n",
    "It's also worth noting that while Lowess and Loess can produce a visually appealing curve, they do not provide a model that can be easily interpreted or used for prediction outside the range of the data. For these purposes, other methods such as polynomial regression or spline regression may be more appropriate."
   ]
  },
  {
   "cell_type": "markdown",
   "metadata": {
    "pycharm": {
     "name": "#%% md\n"
    }
   },
   "source": [
    "## References"
   ]
  },
  {
   "cell_type": "markdown",
   "metadata": {
    "pycharm": {
     "name": "#%% md\n"
    }
   },
   "source": [
    "- Cleveland, W. S. (1979). Robust Locally Weighted Regression and Smoothing Scatterplots. Journal of the American Statistical Association, 74(368), 829-836.\n",
    "- Cleveland, W. S., & Devlin, S. J. (1988). Locally Weighted Regression: An Approach to Regression Analysis by Local Fitting. Journal of the American Statistical Association, 83(403), 596-610.\n",
    "- Python statsmodels library: [Lowess](https://www.statsmodels.org/stable/generated/statsmodels.nonparametric.smoothers_lowess.lowess.html)"
   ]
  }
 ],
 "metadata": {
  "kernelspec": {
   "display_name": "Python 3",
   "language": "python",
   "name": "python3"
  },
  "language_info": {
   "codemirror_mode": {
    "name": "ipython",
    "version": 3
   },
   "file_extension": ".py",
   "mimetype": "text/x-python",
   "name": "python",
   "nbconvert_exporter": "python",
   "pygments_lexer": "ipython3",
   "version": "3.8.3"
  }
 },
 "nbformat": 4,
 "nbformat_minor": 4
}