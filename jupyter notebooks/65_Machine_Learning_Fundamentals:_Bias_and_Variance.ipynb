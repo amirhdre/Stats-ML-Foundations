{
  "cells": [
    {
      "cell_type": "markdown",
      "metadata": {},
      "source": [
        "# Machine Learning Fundamentals: Bias and Variance"
      ]
    },
    {
      "cell_type": "markdown",
      "metadata": {},
      "source": [
        "In this notebook, we'll explore and visualize the concepts of bias and variance in machine learning. We'll use a synthetic dataset for simplicity."
      ]
    },
    {
      "cell_type": "code",
      "execution_count": 1,
      "metadata": {},
      "outputs": [],
      "source": [
        "import numpy as np\n",
        "import matplotlib.pyplot as plt\n",
        "from sklearn.model_selection import train_test_split\n",
        "from sklearn.linear_model import LinearRegression\n",
        "from sklearn.preprocessing import PolynomialFeatures\n"
      ]
    },
    {
      "cell_type": "markdown",
      "metadata": {},
      "source": [
        "First, let's create a synthetic dataset. We'll use a quadratic function (a parabola) to generate our data. We'll add some random noise to make the task a bit more challenging."
      ]
    },
    {
      "cell_type": "code",
      "execution_count": 2,
      "metadata": {},
      "outputs": [
        {
          "data": {
            "image/png": "[encoded data removed]",
            "text/plain": [
              "<Figure size 432x288 with 1 Axes>"
            ]
          },
          "metadata": {
            "needs_background": "light"
          },
          "output_type": "display_data"
        }
      ],
      "source": [
        "np.random.seed(0)\n",
        "x = np.random.normal(0, 1, 100).reshape(-1, 1)\n",
        "y = x**2 + np.random.normal(0, 1, 100).reshape(-1, 1)\n",
        "x_train, x_test, y_train, y_test = train_test_split(x, y, test_size=0.2, random_state=42)\n",
        "plt.scatter(x, y, color='blue', s=15)\n",
        "plt.title('Generated Data')\n",
        "plt.show()"
      ]
    },
    {
      "cell_type": "markdown",
      "metadata": {},
      "source": [
        "We'll start by trying to fit a linear model to this data. As we can see from the plot, a linear model is unlikely to fit this data well, but let's try it anyway for the sake of demonstration."
      ]
    },
    {
      "cell_type": "code",
      "execution_count": 3,
      "metadata": {},
      "outputs": [
        {
          "data": {
            "image/png": "[encoded data removed]",
            "text/plain": [
              "<Figure size 432x288 with 1 Axes>"
            ]
          },
          "metadata": {
            "needs_background": "light"
          },
          "output_type": "display_data"
        }
      ],
      "source": [
        "model = LinearRegression()\n",
        "model.fit(x_train, y_train)\n",
        "y_pred = model.predict(x_test)\n",
        "plt.scatter(x, y, color='blue', s=15)\n",
        "plt.plot(x_test, y_pred, color='red')\n",
        "plt.title('Linear Regression')\n",
        "plt.show()"
      ]
    },
    {
      "cell_type": "markdown",
      "metadata": {},
      "source": [
        "As expected, the linear model doesn't fit the data well. This is an example of underfitting, and it's caused by high bias. The linear model doesn't have the flexibility to capture the true relationship between $x$ and $y$, which is non-linear. "
      ]
    },
    {
      "cell_type": "markdown",
      "metadata": {},
      "source": [
        "Now, let's try fitting a more complex model to the data. We'll use polynomial regression with a high degree. This will allow the model to fit even very complex, non-linear relationships."
      ]
    },
    {
      "cell_type": "code",
      "execution_count": 11,
      "metadata": {},
      "outputs": [
        {
          "data": {
            "image/png": "[encoded data removed]",
            "text/plain": [
              "<Figure size 432x288 with 1 Axes>"
            ]
          },
          "metadata": {
            "needs_background": "light"
          },
          "output_type": "display_data"
        }
      ],
      "source": [
        "poly_features = PolynomialFeatures(degree=10)\n",
        "x_poly_train = poly_features.fit_transform(x_train)\n",
        "x_poly_test = poly_features.transform(x_test)\n",
        "model = LinearRegression()\n",
        "model.fit(x_poly_train, y_train)\n",
        "y_pred = model.predict(x_poly_test)\n",
        "plt.scatter(x, y, color='blue', s=15)\n",
        "plt.plot(x_test, y_pred, 'o', color='red')\n",
        "plt.title('Poly Regression')\n",
        "plt.show()"
      ]
    },
    {
      "cell_type": "markdown",
      "metadata": {},
      "source": [
        "The polynomial regression model fits the training data almost perfectly. However, it's likely that this model will not generalize well to unseen data. This is an example of overfitting, and it's caused by high variance. The model is too complex and has essentially memorized the training data, including the noise."
      ]
    },
    {
      "cell_type": "markdown",
      "metadata": {},
      "source": [
        "In machine learning, we ideally want to find a model that balances bias and variance, minimizing total error. This is known as the Bias-Variance tradeoff. Too much bias will lead to underfitting - the model is too simple to capture the underlying structure of the data. Too much variance leads to overfitting - the model is overly complex and is too influenced by the noise or random fluctuations in the training data."
      ]
    },
    {
      "cell_type": "markdown",
      "metadata": {},
      "source": []
    },
    {
      "cell_type": "markdown",
      "metadata": {},
      "source": []
    }
  ],
  "metadata": {
    "kernelspec": {
      "display_name": "Python 3",
      "language": "python",
      "name": "python3"
    },
    "language_info": {
      "codemirror_mode": {
        "name": "ipython",
        "version": 3
      },
      "file_extension": ".py",
      "mimetype": "text/x-python",
      "name": "python",
      "nbconvert_exporter": "python",
      "pygments_lexer": "ipython3",
      "version": "3.8.16"
    }
  },
  "nbformat": 4,
  "nbformat_minor": 4
}
