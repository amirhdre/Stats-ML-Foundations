{
 "cells": [
  {
   "cell_type": "markdown",
   "metadata": {},
   "source": [
    "# Why Dividing By N Underestimates the Variance\n",
    "\n",
    "In this notebook, we are going to explore why dividing by N underestimates the variance. This topic is a bit of a deep dive into the mathematical theory behind variance calculation and involves some higher-level statistical concepts. But don't worry, we'll break it down and make it as simple as possible.\n",
    "\n",
    "Firstly, remember that the variance is a measure of how much values in a dataset differ from the mean. In statistics, it's often necessary to estimate the population parameters from a sample. When we do this for variance, we often find ourselves dividing by N (the number of data points in our sample). But as we'll see in this notebook, this can lead to an underestimation of the actual population variance. \n",
    "\n",
    "Let's dive in to understand why this happens and how to prevent it. \n",
    "\n",
    "This notebook builds on the concepts covered in the previous notebooks on variance and standard deviation. If you haven't reviewed those, it might be useful to do so before continuing with this notebook. \n",
    "\n",
    "This notebook is based on the video by StatQuest."
   ]
  },
  {
   "cell_type": "markdown",
   "metadata": {},
   "source": [
    "## Understanding The Underestimation\n",
    "\n",
    "Before we get into why dividing by N underestimates the variance, it's important to understand what we mean by 'underestimation'. Here, 'underestimation' specifically refers to a bias in the estimation of the population variance. When we calculate the sample variance by dividing by N (the number of data points in our sample), we are likely to get a smaller number than the actual population variance. This is because the sample mean is typically closer to the data points in our sample than the population mean is to all data points in the population. Let's illustrate this with an example.\n",
    "\n",
    "Let's consider a population of five data points: [2, 3, 5, 7, 9]. The population mean is 5.2 and the population variance is 8.2.\n",
    "\n",
    "Now, let's draw a sample of three data points from this population: [2, 3, 5]. The sample mean is 3.33 and if we calculate the sample variance by dividing by N (which is 3 in this case), we get 1.33. This is smaller than the actual population variance of 8.2, indicating an underestimation.\n",
    "\n",
    "Why does this happen? This happens because, in our sample, the sample mean is closer to the data points than the population mean is to all the data points in the population. This results in smaller differences when we subtract the mean in the variance calculation, leading to a smaller variance."
   ]
  },
  {
   "cell_type": "markdown",
   "metadata": {},
   "source": [
    "## The Mathematical Proof\n",
    "\n",
    "Now that we understand conceptually why dividing by N underestimates the variance, let's prove it mathematically. \n",
    "\n",
    "The formula for variance is:\n",
    "\n",
    "$$ \\text{variance} = \\frac{\\sum_{i=1}^{n}(x_i - \\mu)^2}{n} $$\n",
    "\n",
    "where $x_i$ are our data points, $\\mu$ is the mean, and $n$ is the number of data points.\n",
    "\n",
    "If we were to use the sample mean ($\\bar{x}$) instead of the population mean ($\\mu$), the formula would become:\n",
    "\n",
    "$$ \\text{variance} = \\frac{\\sum_{i=1}^{n}(x_i - \\bar{x})^2}{n} $$\n",
    "\n",
    "Now, let's take the derivative of this with respect to $\\bar{x}$ to find where the minimum variance occurs. Using the chain rule, we get:\n",
    "\n",
    "$$ \\frac{d}{d\\bar{x}}\\text{variance} = -2 \\frac{\\sum_{i=1}^{n}(x_i - \\bar{x})}{n} $$\n",
    "\n",
    "Setting this equal to zero to find the minimum, we find that the minimum variance occurs when $\\bar{x} = \\mu$. In other words, the smallest variance we can get is when we use the population mean in our calculation. Any other mean (like the sample mean) will result in a larger variance. This proves that using the sample mean and dividing by N underestimates the variance."
   ]
  },
  {
   "cell_type": "markdown",
   "metadata": {},
   "source": [
    "## How To Correct The Underestimation\n",
    "\n",
    "Now that we know why dividing by N underestimates the variance, the question becomes: how can we correct this? The answer is surprisingly simple: instead of dividing by N, we divide by N-1. This is known as Bessel's correction. The corrected formula for variance becomes:\n",
    "\n",
    "$$ \\text{variance} = \\frac{\\sum_{i=1}^{n}(x_i - \\bar{x})^2}{n-1} $$\n",
    "\n",
    "Why does this work? Essentially, dividing by N-1 instead of N \"compensates\" for the fact that we're using the sample mean instead of the population mean. It makes our estimate of the variance a little bit larger to account for the fact that the sample mean is typically closer to the data points in our sample than the population mean is to all the data points in the population. This results in a more accurate estimate of the population variance.\n",
    "\n",
    "In conclusion, while dividing by N can lead to an underestimation of the population variance, this can be easily corrected by dividing by N-1 instead. This provides a more accurate estimate of the population variance and illustrates the importance of understanding the mathematical theory behind statistical calculations."
   ]
  },
  {
   "cell_type": "markdown",
   "metadata": {},
   "source": [
    "## References\n",
    "\n",
    "- [StatQuest: Why dividing by n underestimates the variance (video)](https://www.youtube.com/watch?v=sHRBg6BhKjI)\n",
    "- [Bessel's correction (Wikipedia)](https://en.wikipedia.org/wiki/Bessel%27s_correction)"
   ]
  }
 ],
 "metadata": {
  "kernelspec": {
   "display_name": "Python 3",
   "language": "python",
   "name": "python3"
  },
  "language_info": {
   "codemirror_mode": {
    "name": "ipython",
    "version": 3
   },
   "file_extension": ".py",
   "mimetype": "text/x-python",
   "name": "python",
   "nbconvert_exporter": "python",
   "pygments_lexer": "ipython3",
   "version": "3.8.5"
  }
 },
 "nbformat": 4,
 "nbformat_minor": 4
}
