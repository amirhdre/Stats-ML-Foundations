{
 "cells": [
  {
   "cell_type": "markdown",
   "metadata": {},
   "source": [
    "# Quantile Normalization\n",
    "Quantile normalization is a technique for making two distributions identical in statistical properties. It is often used in the analysis of high-throughput biology data when the distributions of measured quantities are expected to be the same. This notebook will thoroughly explain the concept and process of Quantile Normalization.\n",
    "\n",
    "## What is Quantile Normalization?\n",
    "Quantile normalization is a technique for making two distributions identical in statistical properties. The technique involves ordering the data, then replacing the original data with the mean of each order statistic in the pooled data. This makes the two distributions identical.\n",
    "\n",
    "## Why use Quantile Normalization?\n",
    "Quantile normalization is often used in the analysis of high-throughput biology data. For example, in a gene expression study where the distributions of measured quantities are expected to be the same across experiments, it can be used to correct for variations in experimental conditions.\n",
    "\n",
    "A common example of this is in microarray data where each color represents a different gene. These colors have been converted into intensity values. Each gene has its own color and the value on the y-axis represents the intensity that that gene had on a microarray.\n",
    "\n",
    "In this case, the mean values for each sample might be different, suggesting the need to compensate for different overall intensities of light. Quantile normalization corrects for these technical artifacts.\n",
    "\n",
    "## How does Quantile Normalization work?\n",
    "Here is a step-by-step process of how quantile normalization works:\n",
    "1. Start by focusing on the most highly expressed gene in each sample.\n",
    "2. Calculate the mean value of these genes.\n",
    "3. Replace the original intensity values of these genes with the calculated mean value. This will be the quantile normalized value for the genes with the highest expression.\n",
    "4. Repeat the process for the next most highly expressed gene in each sample, and so on, until all genes have been processed.\n",
    "\n",
    "At the end of this process, the values for each sample are the same, but the original order of the genes is preserved. Also, the normalized data sets have identical quartiles, hence the name 'quantile normalization'."
   ]
  },
  {
   "cell_type": "markdown",
   "metadata": {},
   "source": [
    "## Example of Quantile Normalization\n",
    "Below is a Python code example of quantile normalization using the `numpy` and `scipy` packages:"
   ]
  },
  {
   "cell_type": "code",
   "execution_count": null,
   "metadata": {},
   "outputs": [],
   "source": [
    "import numpy as np\n",
    "from scipy import stats\n",
    "\n",
    "def quantile_normalize(data):\n",
    "    # Calculate the rank of each value\n",
    "    ranks = stats.rankdata(data, method='average')\n",
    "    \n",
    "    # Sort the original data\n",
    "    sorted_data = np.sort(data)\n",
    "    \n",
    "    # Create a dictionary where key is rank and value is mean of that rank\n",
    "    rank_mean = {rank: np.mean(sorted_data[ranks==rank]) for rank in np.unique(ranks)}\n",
    "    \n",
    "    # Replace each rank in the original data with the rank mean\n",
    "    normalized_data = np.array([rank_mean[rank] for rank in ranks])\n",
    "\n",
    "    return normalized_data"
   ]
  },
  {
   "cell_type": "markdown",
   "metadata": {},
   "source": [
    "## References\n",
    "- Bolstad et al., (2003). A comparison of normalization methods for high density oligonucleotide array data based on variance and bias. Bioinformatics, 19(2), 185-193. [DOI: 10.1093/bioinformatics/19.2.185](https://doi.org/10.1093/bioinformatics/19.2.185)\n",
    "- StatQuest by Josh Starmer. (2018). Quantile Normalization, Clearly Explained!!! [Video](https://www.youtube.com/watch?v=ecjN6Xpv6SE)."
   ]
  }
 ],
 "metadata": {
  "kernelspec": {
   "display_name": "Python 3",
   "language": "python",
   "name": "python3"
  },
  "language_info": {
   "codemirror_mode": {
    "name": "ipython",
    "version": 3
   },
   "file_extension": ".py",
   "mimetype": "text/x-python",
   "name": "python",
   "nbconvert_exporter": "python",
   "pygments_lexer": "ipython3",
   "version": "3.8.5"
  }
 },
 "nbformat": 4,
 "nbformat_minor": 5
}