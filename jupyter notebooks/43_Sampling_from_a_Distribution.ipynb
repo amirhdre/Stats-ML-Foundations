{
 "cells": [
  {
   "cell_type": "markdown",
   "metadata": {},
   "source": [
    "# Sampling from a Distribution\n",
    "\n",
    "The goal of this notebook is to thoroughly explain the concept of sampling from a distribution, as discussed in the StatQuest video titled '43_Sampling from a Distribution, Clearly Explained!!!'.\n",
    "\n",
    "## What is Sampling from a Distribution?\n",
    "\n",
    "In statistics, we often deal with distributions which are basically functions that describe the probabilities of potential outcomes. When we take a 'sample from a distribution', it means we use a computer to pick a random number based on the probabilities described by the distribution.\n",
    "\n",
    "For instance, if we have a histogram or a curve representing a distribution of people's heights, sampling from this distribution means asking the computer to randomly pick a height based on the probabilities implied by our histogram or curve. The computer is more likely to pick a number near the middle of the distribution (where the histogram or curve is tallest) because most people's heights are around the average. However, every now and then, the computer might pick a number from the edges of the distribution (where the histogram or curve is shortest), representing an unusually short or tall person.\n",
    "\n",
    "## Why do we Sample from a Distribution?\n",
    "\n",
    "Sampling from a distribution allows us to explore statistics and perform statistical tests. We can generate a large number of samples and use them in statistical tests to see what happens. Since we know the original distribution, we can compare our expectations to the actual results. This can help us understand the capabilities of our statistical tests, and whether we need to adjust them or collect more data.\n",
    "\n",
    "For example, if we have two samples from a single distribution, we can use a t-test to compare them. Since the samples are from the same distribution, we expect the t-test to give us a large p-value, indicating that the samples are not significantly different. If we repeat this process many times, we can get a sense of how often the t-test gives us the expected result.\n",
    "\n",
    "Similarly, if we have samples from two different distributions, the t-test should give us a small p-value, indicating that the samples are significantly different. Again, by repeating this process many times, we can see how often the t-test works as expected.\n",
    "\n",
    "In summary, sampling from a distribution lets us determine the capabilities of a statistical test without having to do much real work. It is a powerful tool for statistical exploration and testing."
   ]
  },
  {
   "cell_type": "markdown",
   "metadata": {},
   "source": [
    "## Sampling from a Distribution in Python\n",
    "\n",
    "To illustrate, let's create a normal distribution and then draw samples from it using Python's numpy library. We can then plot the original distribution and the samples to see how well they match."
   ]
  },
  {
   "cell_type": "code",
   "execution_count": null,
   "metadata": {},
   "outputs": [],
   "source": [
    "import numpy as np\n",
    "import matplotlib.pyplot as plt\n",
    "import seaborn as sns\n",
    "\n",
    "# Parameters for the normal distribution\n",
    "mu, sigma = 0, 0.1\n",
    "\n",
    "# Create a normal distribution\n",
    "s = np.random.normal(mu, sigma, 1000)\n",
    "\n",
    "# Draw 100 samples from the distribution\n",
    "samples = np.random.choice(s, 100)\n",
    "\n",
    "# Plot the original distribution\n",
    "sns.histplot(s, kde=True, label='Original Distribution')\n",
    "\n",
    "# Plot the samples\n",
    "sns.histplot(samples, kde=True, color='red', label='Samples')\n",
    "plt.legend()\n",
    "plt.show()"
   ]
  },
  {
   "cell_type": "markdown",
   "metadata": {},
   "source": [
    "The red distribution represents the samples and, as you can see, it closely follows the shape of the original distribution (shown in blue), but with a bit more noise due to the randomness of the sampling process."
   ]
  },
  {
   "cell_type": "markdown",
   "metadata": {},
   "source": [
    "## Sampling from a Distribution and T-tests\n",
    "\n",
    "As mentioned before, one of the primary uses of sampling from a distribution is to perform hypothesis tests, such as a t-test. Let's demonstrate this by drawing two samples from the same distribution and performing a t-test on them. Since the samples are from the same distribution, we would expect the t-test to give us a large p-value, indicating that the samples are not significantly different."
   ]
  },
  {
   "cell_type": "code",
   "execution_count": null,
   "metadata": {},
   "outputs": [],
   "source": [
    "from scipy import stats\n",
    "\n",
    "# Draw two samples from the same distribution\n",
    "sample1 = np.random.choice(s, 100)\n",
    "sample2 = np.random.choice(s, 100)\n",
    "\n",
    "# Perform a t-test on the samples\n",
    "t_stat, p_value = stats.ttest_ind(sample1, sample2)\n",
    "\n",
    "print(f'T-statistic: {t_stat}')\n",
    "print(f'P-value: {p_value}')"
   ]
  },
  {
   "cell_type": "markdown",
   "metadata": {},
   "source": [
    "As expected, the p-value is large, indicating that the samples are not significantly different. This is consistent with our expectation since both samples were drawn from the same distribution."
   ]
  },
  {
   "cell_type": "markdown",
   "metadata": {},
   "source": [
    "## Conclusion\n",
    "\n",
    "Sampling from a distribution is a fundamental concept in statistics that allows us to perform hypothesis testing and understand the properties and capabilities of our statistical tests. It involves generating a set of random numbers that reflect the probabilities of a given distribution. The samples can then be used in various statistical tests to compare the expected and actual results.\n",
    "\n",
    "In this notebook, we have illustrated how to sample from a distribution using Python's numpy library and how to perform a t-test on the samples using scipy's stats library. We have also shown that the results of the t-test align with our expectations based on the underlying distributions of the samples."
   ]
  }
 ],
 "metadata": {
  "kernelspec": {
   "display_name": "Python 3",
   "language": "python",
   "name": "python3"
  },
  "language_info": {
   "codemirror_mode": {
    "name": "ipython",
    "version": 3
   },
   "file_extension": ".py",
   "mimetype": "text/x-python",
   "name": "python",
   "nbconvert_exporter": "python",
   "pygments_lexer": "ipython3",
   "version": "3.8.5"
  }
 },
 "nbformat": 4,
 "nbformat_minor": 2
}
