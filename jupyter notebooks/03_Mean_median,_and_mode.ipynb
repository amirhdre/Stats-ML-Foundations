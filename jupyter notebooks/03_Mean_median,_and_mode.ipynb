{
 "cells": [
  {
   "cell_type": "markdown",
   "metadata": {
    "pycharm": {
     "name": "#%% md\n"
    }
   },
   "source": [
    "# The Mean, The Median, and The Mode\n",
    "\n",
    "In statistics, there are several ways to measure the central tendency of a set of data. Among them, the most common measures are the mean, the median, and the mode. These measures can provide insights into the data set's overall trend and its central values. When the data is normally distributed, all these three measures give the same value."
   ]
  },
  {
   "cell_type": "markdown",
   "metadata": {
    "pycharm": {
     "name": "#%% md\n"
    }
   },
   "source": [
    "## The Mean\n",
    "\n",
    "The mean, often referred to as the average, is calculated by adding all numbers in the data set and then dividing by the count of numbers in the dataset.\n",
    "\n",
    "$$ Mean = \\frac{{\\sum_{i=1}^{n} x_{i}}}{n} $$"
   ]
  },
  {
   "cell_type": "markdown",
   "metadata": {
    "pycharm": {
     "name": "#%% md\n"
    }
   },
   "source": [
    "## The Median\n",
    "\n",
    "The median is the middle number in a sorted, ascending or descending, list of numbers. If there is an even number of observations, the median will be the average of the two middle numbers.\n",
    "\n",
    "To find the Median, first, we arrange the data in ascending order. If the number of observations (n) is odd, then the Median is the value at position (n+1)/2. If n is even, then the Median is the average of the values at positions n/2 and (n/2) + 1."
   ]
  },
  {
   "cell_type": "markdown",
   "metadata": {
    "pycharm": {
     "name": "#%% md\n"
    }
   },
   "source": [
    "## The Mode\n",
    "\n",
    "The mode is the number that appears most frequently in a data set. A set of data may have one mode, more than one mode, or no mode at all."
   ]
  },
  {
   "cell_type": "code",
   "execution_count": 5,
   "outputs": [
    {
     "name": "stdout",
     "output_type": "stream",
     "text": [
      "Mean: 5.0\n",
      "Median: 5.0\n",
      "Mode: 5 (appears 2 times)\n"
     ]
    }
   ],
   "source": [
    "import numpy as np\n",
    "from scipy import stats\n",
    "\n",
    "# The Mean, The Median, and The Mode\n",
    "\n",
    "## The Mean\n",
    "# Example dataset\n",
    "data = [1, 2, 3, 4, 5, 5, 6, 7, 8, 9]\n",
    "\n",
    "# Calculate mean\n",
    "mean = np.mean(data)\n",
    "print(f\"Mean: {mean}\")\n",
    "\n",
    "## The Median\n",
    "# Calculate median\n",
    "median = np.median(data)\n",
    "print(f\"Median: {median}\")\n",
    "\n",
    "## The Mode\n",
    "# Calculate mode\n",
    "mode_result = stats.mode(data,\n",
    "                         keepdims=True)  # `keepdims=True` for compatibility with future versions of SciPy\n",
    "mode = mode_result.mode[0]\n",
    "mode_count = mode_result.count[0]\n",
    "print(f\"Mode: {mode} (appears {mode_count} times)\")"
   ],
   "metadata": {
    "collapsed": false,
    "pycharm": {
     "name": "#%%\n"
    }
   }
  },
  {
   "cell_type": "markdown",
   "metadata": {
    "pycharm": {
     "name": "#%% md\n"
    }
   },
   "source": [
    "## When it's normal, they're the same\n",
    "\n",
    "In a normal distribution, the mean, median, and mode are all the same. This is because a normal distribution is symmetric about the mean. In other words, the data on the left side of the mean mirror the data on the right side."
   ]
  },
  {
   "cell_type": "code",
   "execution_count": 8,
   "outputs": [
    {
     "name": "stdout",
     "output_type": "stream",
     "text": [
      "Normal Distribution - Mean: 0.08897173134422529, Median: 0.06934791964387481, Mode: -3.0033776114406603\n"
     ]
    },
    {
     "data": {
      "text/plain": "<Figure size 1008x576 with 1 Axes>",
      "image/png": "[encoded data removed]"
     },
     "metadata": {
      "needs_background": "light"
     },
     "output_type": "display_data"
    }
   ],
   "source": [
    "\n",
    "## When it's normal, they're the same\n",
    "# Demonstrate normal distribution\n",
    "import matplotlib.pyplot as plt\n",
    "\n",
    "data_normal = np.random.normal(loc=0, scale=1, size=1000)\n",
    "mean_normal = np.mean(data_normal)\n",
    "median_normal = np.median(data_normal)\n",
    "mode_normal = stats.mode(data_normal, keepdims=True).mode[0]\n",
    "\n",
    "print(f\"Normal Distribution - Mean: {mean_normal}, Median: {median_normal}, Mode: {mode_normal}\")\n",
    "\n",
    "# Plot the distribution\n",
    "plt.figure(figsize=(14,8))\n",
    "plt.hist(data_normal, bins=30, alpha=0.7, color='blue', edgecolor='black')\n",
    "plt.axvline(mean_normal, color='red', linestyle='dashed', linewidth=1, label='Mean')\n",
    "plt.axvline(median_normal, color='green', linestyle='dashed', linewidth=1, label='Median')\n",
    "plt.axvline(mode_normal, color='yellow', linestyle='dashed', linewidth=1, label='Mode')\n",
    "plt.title('Normal Distribution with Mean, Median, and Mode')\n",
    "plt.legend()\n",
    "plt.show()"
   ],
   "metadata": {
    "collapsed": false,
    "pycharm": {
     "name": "#%%\n"
    }
   }
  },
  {
   "cell_type": "markdown",
   "source": [
    "## References\n",
    "\n",
    "- [Khan Academy: Mean, Median, and Mode](https://www.khanacademy.org/math/statistics-probability/summarizing-quantitative-data/mean-median-basics/a/mean-median-and-mode-review)\n",
    "- [StatQuest: Mean, Median, Mode, and introducing the Mean Absolute Deviation](https://www.youtube.com/watch?v=uhxtUt_-GyM)"
   ],
   "metadata": {
    "collapsed": false,
    "pycharm": {
     "name": "#%% md\n"
    }
   }
  },
  {
   "cell_type": "markdown",
   "source": [
    "# Aside: What is enumerate?"
   ],
   "metadata": {
    "collapsed": false,
    "pycharm": {
     "name": "#%% md\n"
    }
   }
  },
  {
   "cell_type": "code",
   "execution_count": 16,
   "outputs": [
    {
     "name": "stdout",
     "output_type": "stream",
     "text": [
      "0 patrick\n",
      "1 amos\n",
      "2 senuka\n",
      "3 marika\n",
      "4 jishnu\n",
      "5 jalen\n"
     ]
    }
   ],
   "source": [
    "students = [\"patrick\", \"amos\", \"senuka\", \"marika\", \"jishnu\", \"jalen\"]\n",
    "\n",
    "for i, j in enumerate(students):\n",
    "    print(i, j)"
   ],
   "metadata": {
    "collapsed": false,
    "pycharm": {
     "name": "#%%\n"
    }
   }
  },
  {
   "cell_type": "code",
   "execution_count": 12,
   "outputs": [
    {
     "name": "stdout",
     "output_type": "stream",
     "text": [
      "(0, 'patrick')\n",
      "(1, 'amos')\n",
      "(2, 'senuka')\n",
      "(3, 'marika')\n",
      "(4, 'jishnu')\n",
      "(5, 'jalen')\n"
     ]
    }
   ],
   "source": [
    "k = 0\n",
    "for i in students:\n",
    "    print((k, i))\n",
    "    k += 1"
   ],
   "metadata": {
    "collapsed": false,
    "pycharm": {
     "name": "#%%\n"
    }
   }
  },
  {
   "cell_type": "code",
   "execution_count": 15,
   "outputs": [
    {
     "name": "stdout",
     "output_type": "stream",
     "text": [
      "(0, 'patrick')\n",
      "(1, 'amos')\n",
      "(2, 'senuka')\n",
      "(3, 'marika')\n",
      "(4, 'jishnu')\n",
      "(5, 'jalen')\n"
     ]
    }
   ],
   "source": [
    "len_students = len(students)\n",
    "for i in range(len_students):\n",
    "    print((i, students[i]))"
   ],
   "metadata": {
    "collapsed": false,
    "pycharm": {
     "name": "#%%\n"
    }
   }
  },
  {
   "cell_type": "code",
   "execution_count": null,
   "outputs": [],
   "source": [],
   "metadata": {
    "collapsed": false,
    "pycharm": {
     "name": "#%%\n"
    }
   }
  }
 ],
 "metadata": {
  "kernelspec": {
   "display_name": "Python 3",
   "language": "python",
   "name": "python3"
  },
  "language_info": {
   "codemirror_mode": {
    "name": "ipython",
    "version": 3
   },
   "file_extension": ".py",
   "mimetype": "text/x-python",
   "name": "python",
   "nbconvert_exporter": "python",
   "pygments_lexer": "ipython3",
   "version": "3.8.5"
  }
 },
 "nbformat": 4,
 "nbformat_minor": 4
}