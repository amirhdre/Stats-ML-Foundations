{
  "cells": [
    {
      "cell_type": "markdown",
      "id": "408cee92",
      "metadata": {},
      "source": [
        "# Facial Expression Classification with CNN in PyTorch\n",
        "\n",
        "In this notebook, we will build a **Convolutional Neural Network (CNN)** in PyTorch to classify facial expressions (moods) into the following categories:\n",
        "- **angry**\n",
        "- **disgust**\n",
        "- **fear**\n",
        "- **happy**\n",
        "- **neutral**\n",
        "- **sad**\n",
        "- **surprise**\n",
        "\n",
        "This notebook provides:\n",
        "1. **Detailed explanations** of the concepts and code.\n",
        "2. A simple and effective CNN architecture.\n",
        "3. Training and evaluation steps with visualization.\n",
        "\n",
        "### Dataset Structure\n",
        "Ensure your dataset is structured as follows:\n",
        "```\n",
        "Facial Expression/\n",
        "    ├── train/\n",
        "    │       ├── angry/\n",
        "    │       ├── disgust/\n",
        "    │       ├── fear/\n",
        "    │       ├── happy/\n",
        "    │       ├── neutral/\n",
        "    │       ├── sad/\n",
        "    │       └── surprise/\n",
        "    └── test/\n",
        "            ├── angry/\n",
        "            ├── disgust/\n",
        "            ├── fear/\n",
        "            ├── happy/\n",
        "            ├── neutral/\n",
        "            ├── sad/\n",
        "            └── surprise/\n",
        "```\n",
        "\n",
        "Let's get started!"
      ]
    },
    {
      "cell_type": "markdown",
      "id": "75bc403f",
      "metadata": {},
      "source": [
        "## 1. Setup\n",
        "\n",
        "We will start by importing all the required libraries."
      ]
    },
    {
      "cell_type": "code",
      "execution_count": 11,
      "id": "eee04852",
      "metadata": {},
      "outputs": [
        {
          "name": "stdout",
          "output_type": "stream",
          "text": [
            "PyTorch version: 2.0.1\n"
          ]
        }
      ],
      "source": [
        "import torch\n",
        "import torch.nn as nn\n",
        "import torch.optim as optim\n",
        "from torchvision import datasets, transforms, models\n",
        "import torchvision\n",
        "from torch.utils.data import DataLoader\n",
        "import matplotlib.pyplot as plt\n",
        "import numpy as np\n",
        "import os\n",
        "\n",
        "print(\"PyTorch version:\", torch.__version__)"
      ]
    },
    {
      "cell_type": "markdown",
      "id": "f00e2fb1",
      "metadata": {},
      "source": [
        "## 2. Data Loading and Preprocessing\n",
        "\n",
        "We will load the images using PyTorch's `torchvision.datasets.ImageFolder` and apply transformations (such as resizing, normalization, and data augmentation).\n",
        "\n",
        "### 2.1 Dataset Paths\n",
        "Specify the paths to your training and test datasets."
      ]
    },
    {
      "cell_type": "code",
      "execution_count": 13,
      "id": "72cab41e",
      "metadata": {},
      "outputs": [],
      "source": [
        "base_dir = 'data/Facial Expression'  # Change this to your dataset folder\n",
        "\n",
        "train_dir = os.path.join(base_dir, 'train', 'train')\n",
        "test_dir = os.path.join(base_dir, 'test', 'test')\n",
        "\n",
        "batch_size = 32\n",
        "img_size = 48  # Resize all images to 48x48\n",
        "num_workers = 2  # Number of workers for DataLoader"
      ]
    },
    {
      "cell_type": "markdown",
      "id": "e4fe1044",
      "metadata": {},
      "source": [
        "### 2.2 Data Transformations\n",
        "\n",
        "We apply:\n",
        "- **Resize**: Resize all images to 48x48 pixels.\n",
        "- **Normalization**: Normalize pixel values to have mean 0 and standard deviation 1.\n",
        "- **Data Augmentation**: Random horizontal flips and rotations to improve generalization."
      ]
    },
    {
      "cell_type": "code",
      "execution_count": 14,
      "id": "4dae5d47",
      "metadata": {},
      "outputs": [
        {
          "name": "stdout",
          "output_type": "stream",
          "text": [
            "Classes: ['angry', 'disgust', 'fear', 'happy', 'neutral', 'sad', 'surprise']\n"
          ]
        }
      ],
      "source": [
        "train_transforms = transforms.Compose([\n",
        "    transforms.Resize((img_size, img_size)),\n",
        "    transforms.RandomHorizontalFlip(),\n",
        "    transforms.RandomRotation(10),\n",
        "    transforms.ToTensor(),\n",
        "    transforms.Normalize([0.5], [0.5])\n",
        "])\n",
        "\n",
        "test_transforms = transforms.Compose([\n",
        "    transforms.Resize((img_size, img_size)),\n",
        "    transforms.ToTensor(),\n",
        "    transforms.Normalize([0.5], [0.5])\n",
        "])\n",
        "\n",
        "train_dataset = datasets.ImageFolder(train_dir, transform=train_transforms)\n",
        "test_dataset = datasets.ImageFolder(test_dir, transform=test_transforms)\n",
        "\n",
        "train_loader = DataLoader(train_dataset, batch_size=batch_size, shuffle=True, num_workers=num_workers)\n",
        "test_loader = DataLoader(test_dataset, batch_size=batch_size, shuffle=False, num_workers=num_workers)\n",
        "\n",
        "class_names = train_dataset.classes\n",
        "print(\"Classes:\", class_names)"
      ]
    },
    {
      "cell_type": "markdown",
      "id": "03aca557",
      "metadata": {},
      "source": [
        "### 2.3 Visualizing a Batch of Training Images\n",
        "Let's visualize some training images to ensure our data loading works correctly."
      ]
    },
    {
      "cell_type": "code",
      "execution_count": 15,
      "id": "fc35bd1a",
      "metadata": {},
      "outputs": [
        {
          "name": "stdout",
          "output_type": "stream",
          "text": [
            "Requirement already satisfied: torchvision in /Users/amirhosseindaraie/miniconda3/envs/pytorch_m1/lib/python3.8/site-packages (0.15.2)\n",
            "Requirement already satisfied: numpy in /Users/amirhosseindaraie/miniconda3/envs/pytorch_m1/lib/python3.8/site-packages (from torchvision) (1.24.3)\n",
            "Requirement already satisfied: requests in /Users/amirhosseindaraie/miniconda3/envs/pytorch_m1/lib/python3.8/site-packages (from torchvision) (2.28.2)\n",
            "Requirement already satisfied: torch in /Users/amirhosseindaraie/miniconda3/envs/pytorch_m1/lib/python3.8/site-packages (from torchvision) (2.0.1)\n",
            "Requirement already satisfied: pillow!=8.3.*,>=5.3.0 in /Users/amirhosseindaraie/miniconda3/envs/pytorch_m1/lib/python3.8/site-packages (from torchvision) (10.4.0)\n",
            "Requirement already satisfied: certifi>=2017.4.17 in /Users/amirhosseindaraie/miniconda3/envs/pytorch_m1/lib/python3.8/site-packages (from requests->torchvision) (2024.8.30)\n",
            "Requirement already satisfied: charset-normalizer<4,>=2 in /Users/amirhosseindaraie/miniconda3/envs/pytorch_m1/lib/python3.8/site-packages (from requests->torchvision) (3.1.0)\n",
            "Requirement already satisfied: idna<4,>=2.5 in /Users/amirhosseindaraie/miniconda3/envs/pytorch_m1/lib/python3.8/site-packages (from requests->torchvision) (3.4)\n",
            "Requirement already satisfied: urllib3<1.27,>=1.21.1 in /Users/amirhosseindaraie/miniconda3/envs/pytorch_m1/lib/python3.8/site-packages (from requests->torchvision) (1.26.15)\n",
            "Requirement already satisfied: filelock in /Users/amirhosseindaraie/miniconda3/envs/pytorch_m1/lib/python3.8/site-packages (from torch->torchvision) (3.12.4)\n",
            "Requirement already satisfied: typing-extensions in /Users/amirhosseindaraie/miniconda3/envs/pytorch_m1/lib/python3.8/site-packages (from torch->torchvision) (4.12.2)\n",
            "Requirement already satisfied: sympy in /Users/amirhosseindaraie/miniconda3/envs/pytorch_m1/lib/python3.8/site-packages (from torch->torchvision) (1.13.3)\n",
            "Requirement already satisfied: networkx in /Users/amirhosseindaraie/miniconda3/envs/pytorch_m1/lib/python3.8/site-packages (from torch->torchvision) (3.1)\n",
            "Requirement already satisfied: jinja2 in /Users/amirhosseindaraie/miniconda3/envs/pytorch_m1/lib/python3.8/site-packages (from torch->torchvision) (3.0.3)\n",
            "Requirement already satisfied: MarkupSafe>=2.0 in /Users/amirhosseindaraie/miniconda3/envs/pytorch_m1/lib/python3.8/site-packages (from jinja2->torch->torchvision) (2.1.3)\n",
            "Requirement already satisfied: mpmath<1.4,>=1.1.0 in /Users/amirhosseindaraie/miniconda3/envs/pytorch_m1/lib/python3.8/site-packages (from sympy->torch->torchvision) (1.3.0)\n"
          ]
        }
      ],
      "source": [
        "!pip install torchvision"
      ]
    },
    {
      "cell_type": "code",
      "execution_count": 16,
      "id": "5a1d0d78",
      "metadata": {},
      "outputs": [
        {
          "data": {
            "image/png": "[encoded data removed]",
            "text/plain": [
              "<Figure size 432x288 with 1 Axes>"
            ]
          },
          "metadata": {
            "needs_background": "light"
          },
          "output_type": "display_data"
        },
        {
          "name": "stdout",
          "output_type": "stream",
          "text": [
            "Labels: ['sad', 'angry', 'happy', 'surprise', 'sad', 'fear', 'neutral', 'fear']\n"
          ]
        }
      ],
      "source": [
        "def imshow(img, title=None):\n",
        "    img = img / 2 + 0.5  # Unnormalize\n",
        "    npimg = img.numpy()\n",
        "    plt.imshow(np.transpose(npimg, (1, 2, 0)))\n",
        "    if title:\n",
        "        plt.title(title)\n",
        "    plt.show()\n",
        "\n",
        "# Get a batch of training data\n",
        "dataiter = iter(train_loader)\n",
        "images, labels = next(dataiter)\n",
        "\n",
        "# Show images\n",
        "imshow(torchvision.utils.make_grid(images[:8]))\n",
        "print(\"Labels:\", [class_names[label] for label in labels[:8]])"
      ]
    },
    {
      "cell_type": "markdown",
      "id": "d7fd8e94",
      "metadata": {},
      "source": [
        "## 3. Building the CNN Model\n",
        "\n",
        "We'll define a simple CNN architecture with:\n",
        "- **Convolutional layers** to extract spatial features.\n",
        "- **ReLU activation** to introduce non-linearity.\n",
        "- **MaxPooling layers** to downsample the feature maps.\n",
        "- **Fully connected layers** for classification.\n",
        "\n",
        "### Model Architecture\n",
        "1. Conv2D -> ReLU -> MaxPool\n",
        "2. Conv2D -> ReLU -> MaxPool\n",
        "3. Flatten -> Dense -> ReLU -> Dropout -> Output layer (Softmax)"
      ]
    },
    {
      "cell_type": "code",
      "execution_count": 17,
      "id": "64af9ee7",
      "metadata": {},
      "outputs": [
        {
          "name": "stdout",
          "output_type": "stream",
          "text": [
            "Using device: cpu\n",
            "CNN(\n",
            "  (conv1): Conv2d(3, 32, kernel_size=(3, 3), stride=(1, 1), padding=(1, 1))\n",
            "  (conv2): Conv2d(32, 64, kernel_size=(3, 3), stride=(1, 1), padding=(1, 1))\n",
            "  (pool): MaxPool2d(kernel_size=2, stride=2, padding=0, dilation=1, ceil_mode=False)\n",
            "  (fc1): Linear(in_features=9216, out_features=128, bias=True)\n",
            "  (fc2): Linear(in_features=128, out_features=7, bias=True)\n",
            "  (dropout): Dropout(p=0.5, inplace=False)\n",
            "  (relu): ReLU()\n",
            ")\n"
          ]
        }
      ],
      "source": [
        "class CNN(nn.Module):\n",
        "    def __init__(self, num_classes):\n",
        "        super(CNN, self).__init__()\n",
        "        self.conv1 = nn.Conv2d(3, 32, kernel_size=3, stride=1, padding=1)\n",
        "        self.conv2 = nn.Conv2d(32, 64, kernel_size=3, stride=1, padding=1)\n",
        "        self.pool = nn.MaxPool2d(kernel_size=2, stride=2)\n",
        "        self.fc1 = nn.Linear(64 * 12 * 12, 128)\n",
        "        self.fc2 = nn.Linear(128, num_classes)\n",
        "        self.dropout = nn.Dropout(0.5)\n",
        "        self.relu = nn.ReLU()\n",
        "        \n",
        "    def forward(self, x):\n",
        "        x = self.pool(self.relu(self.conv1(x)))\n",
        "        x = self.pool(self.relu(self.conv2(x)))\n",
        "        x = x.view(-1, 64 * 12 * 12)\n",
        "        x = self.relu(self.fc1(x))\n",
        "        x = self.dropout(x)\n",
        "        x = self.fc2(x)\n",
        "        return x\n",
        "\n",
        "device = torch.device(\"cuda\" if torch.cuda.is_available() else \"cpu\")\n",
        "print(\"Using device:\", device)\n",
        "\n",
        "model = CNN(num_classes=len(class_names)).to(device)\n",
        "print(model)"
      ]
    },
    {
      "cell_type": "markdown",
      "id": "299bd7dd",
      "metadata": {},
      "source": [
        "## 4. Training the Model\n",
        "\n",
        "We'll train the model using:\n",
        "- **CrossEntropyLoss** as the loss function.\n",
        "- **Adam optimizer** with a learning rate of 0.001.\n"
      ]
    },
    {
      "cell_type": "code",
      "execution_count": 22,
      "id": "7cb4e6e9",
      "metadata": {},
      "outputs": [
        {
          "name": "stdout",
          "output_type": "stream",
          "text": [
            "Epoch 1/200, Loss: 1.2567\n",
            "Epoch 2/200, Loss: 1.2477\n",
            "Epoch 3/200, Loss: 1.2383\n",
            "Epoch 4/200, Loss: 1.2238\n",
            "Epoch 5/200, Loss: 1.2197\n",
            "Epoch 6/200, Loss: 1.2099\n",
            "Epoch 7/200, Loss: 1.1991\n",
            "Epoch 8/200, Loss: 1.1978\n",
            "Epoch 9/200, Loss: 1.1953\n",
            "Epoch 10/200, Loss: 1.1846\n",
            "Epoch 11/200, Loss: 1.1788\n",
            "Epoch 12/200, Loss: 1.1705\n",
            "Epoch 13/200, Loss: 1.1645\n",
            "Epoch 14/200, Loss: 1.1583\n",
            "Epoch 15/200, Loss: 1.1551\n",
            "Epoch 16/200, Loss: 1.1474\n",
            "Epoch 17/200, Loss: 1.1488\n",
            "Epoch 18/200, Loss: 1.1395\n",
            "Epoch 19/200, Loss: 1.1386\n",
            "Epoch 20/200, Loss: 1.1334\n",
            "Epoch 21/200, Loss: 1.1313\n",
            "Epoch 22/200, Loss: 1.1263\n",
            "Epoch 23/200, Loss: 1.1153\n",
            "Epoch 24/200, Loss: 1.1154\n",
            "Epoch 25/200, Loss: 1.1089\n",
            "Epoch 26/200, Loss: 1.1144\n",
            "Epoch 27/200, Loss: 1.1060\n",
            "Epoch 28/200, Loss: 1.1009\n",
            "Epoch 29/200, Loss: 1.0984\n",
            "Epoch 30/200, Loss: 1.0965\n",
            "Epoch 31/200, Loss: 1.0941\n",
            "Epoch 32/200, Loss: 1.0839\n",
            "Epoch 33/200, Loss: 1.0965\n",
            "Epoch 34/200, Loss: 1.0933\n",
            "Epoch 35/200, Loss: 1.0857\n",
            "Epoch 36/200, Loss: 1.0770\n",
            "Epoch 37/200, Loss: 1.0795\n",
            "Epoch 38/200, Loss: 1.0768\n",
            "Epoch 39/200, Loss: 1.0768\n",
            "Epoch 40/200, Loss: 1.0724\n",
            "Epoch 41/200, Loss: 1.0738\n",
            "Epoch 42/200, Loss: 1.0643\n",
            "Epoch 43/200, Loss: 1.0678\n",
            "Epoch 44/200, Loss: 1.0656\n",
            "Epoch 45/200, Loss: 1.0685\n",
            "Epoch 46/200, Loss: 1.0599\n",
            "Epoch 47/200, Loss: 1.0564\n",
            "Epoch 48/200, Loss: 1.0513\n",
            "Epoch 49/200, Loss: 1.0578\n",
            "Epoch 50/200, Loss: 1.0475\n",
            "Epoch 51/200, Loss: 1.0426\n",
            "Epoch 52/200, Loss: 1.0460\n",
            "Epoch 53/200, Loss: 1.0474\n",
            "Epoch 54/200, Loss: 1.0464\n",
            "Epoch 55/200, Loss: 1.0395\n",
            "Epoch 56/200, Loss: 1.0437\n",
            "Epoch 57/200, Loss: 1.0383\n",
            "Epoch 58/200, Loss: 1.0379\n",
            "Epoch 59/200, Loss: 1.0365\n",
            "Epoch 60/200, Loss: 1.0328\n",
            "Epoch 61/200, Loss: 1.0349\n",
            "Epoch 62/200, Loss: 1.0301\n",
            "Epoch 63/200, Loss: 1.0281\n",
            "Epoch 64/200, Loss: 1.0340\n",
            "Epoch 65/200, Loss: 1.0305\n",
            "Epoch 66/200, Loss: 1.0281\n",
            "Epoch 67/200, Loss: 1.0231\n",
            "Epoch 68/200, Loss: 1.0203\n",
            "Epoch 69/200, Loss: 1.0232\n",
            "Epoch 70/200, Loss: 1.0230\n",
            "Epoch 71/200, Loss: 1.0189\n",
            "Epoch 72/200, Loss: 1.0207\n",
            "Epoch 73/200, Loss: 1.0147\n",
            "Epoch 74/200, Loss: 1.0228\n",
            "Epoch 75/200, Loss: 1.0143\n",
            "Epoch 76/200, Loss: 1.0080\n",
            "Epoch 77/200, Loss: 1.0098\n",
            "Epoch 78/200, Loss: 1.0156\n",
            "Epoch 79/200, Loss: 1.0052\n",
            "Epoch 80/200, Loss: 1.0064\n",
            "Epoch 81/200, Loss: 1.0075\n",
            "Epoch 82/200, Loss: 1.0049\n",
            "Epoch 83/200, Loss: 1.0093\n",
            "Epoch 84/200, Loss: 1.0065\n",
            "Epoch 85/200, Loss: 1.0060\n",
            "Epoch 86/200, Loss: 0.9969\n",
            "Epoch 87/200, Loss: 0.9992\n",
            "Epoch 88/200, Loss: 0.9973\n",
            "Epoch 89/200, Loss: 1.0009\n",
            "Epoch 90/200, Loss: 1.0017\n",
            "Epoch 91/200, Loss: 0.9972\n",
            "Epoch 92/200, Loss: 0.9945\n",
            "Epoch 93/200, Loss: 0.9902\n",
            "Epoch 94/200, Loss: 0.9928\n",
            "Epoch 95/200, Loss: 0.9970\n",
            "Epoch 96/200, Loss: 0.9883\n",
            "Epoch 97/200, Loss: 0.9916\n",
            "Epoch 98/200, Loss: 0.9836\n",
            "Epoch 99/200, Loss: 0.9881\n",
            "Epoch 100/200, Loss: 0.9843\n",
            "Epoch 101/200, Loss: 0.9800\n",
            "Epoch 102/200, Loss: 0.9953\n",
            "Epoch 103/200, Loss: 0.9919\n",
            "Epoch 104/200, Loss: 0.9846\n",
            "Epoch 105/200, Loss: 0.9823\n",
            "Epoch 106/200, Loss: 0.9890\n",
            "Epoch 107/200, Loss: 0.9867\n",
            "Epoch 108/200, Loss: 0.9819\n",
            "Epoch 109/200, Loss: 0.9828\n",
            "Epoch 110/200, Loss: 0.9808\n",
            "Epoch 111/200, Loss: 0.9785\n",
            "Epoch 112/200, Loss: 0.9818\n",
            "Epoch 113/200, Loss: 0.9794\n",
            "Epoch 114/200, Loss: 0.9771\n",
            "Epoch 115/200, Loss: 0.9741\n",
            "Epoch 116/200, Loss: 0.9711\n",
            "Epoch 117/200, Loss: 0.9728\n",
            "Epoch 118/200, Loss: 0.9774\n",
            "Epoch 119/200, Loss: 0.9739\n",
            "Epoch 120/200, Loss: 0.9757\n",
            "Epoch 121/200, Loss: 0.9714\n",
            "Epoch 122/200, Loss: 0.9728\n",
            "Epoch 123/200, Loss: 0.9740\n",
            "Epoch 124/200, Loss: 0.9731\n",
            "Epoch 125/200, Loss: 0.9700\n",
            "Epoch 126/200, Loss: 0.9686\n",
            "Epoch 127/200, Loss: 0.9661\n",
            "Epoch 128/200, Loss: 0.9718\n",
            "Epoch 129/200, Loss: 0.9670\n",
            "Epoch 130/200, Loss: 0.9662\n",
            "Epoch 131/200, Loss: 0.9711\n",
            "Epoch 132/200, Loss: 0.9686\n",
            "Epoch 133/200, Loss: 0.9634\n",
            "Epoch 134/200, Loss: 0.9579\n",
            "Epoch 135/200, Loss: 0.9593\n",
            "Epoch 136/200, Loss: 0.9672\n",
            "Epoch 137/200, Loss: 0.9595\n",
            "Epoch 138/200, Loss: 0.9646\n",
            "Epoch 139/200, Loss: 0.9562\n",
            "Epoch 140/200, Loss: 0.9600\n",
            "Epoch 141/200, Loss: 0.9599\n",
            "Epoch 142/200, Loss: 0.9648\n",
            "Epoch 143/200, Loss: 0.9631\n",
            "Epoch 144/200, Loss: 0.9590\n",
            "Epoch 145/200, Loss: 0.9622\n",
            "Epoch 146/200, Loss: 0.9558\n",
            "Epoch 147/200, Loss: 0.9578\n",
            "Epoch 148/200, Loss: 0.9548\n",
            "Epoch 149/200, Loss: 0.9635\n",
            "Epoch 150/200, Loss: 0.9659\n",
            "Epoch 151/200, Loss: 0.9539\n",
            "Epoch 152/200, Loss: 0.9599\n",
            "Epoch 153/200, Loss: 0.9534\n",
            "Epoch 154/200, Loss: 0.9595\n",
            "Epoch 155/200, Loss: 0.9535\n",
            "Epoch 156/200, Loss: 0.9499\n",
            "Epoch 157/200, Loss: 0.9502\n",
            "Epoch 158/200, Loss: 0.9532\n",
            "Epoch 159/200, Loss: 0.9463\n",
            "Epoch 160/200, Loss: 0.9477\n",
            "Epoch 161/200, Loss: 0.9589\n",
            "Epoch 162/200, Loss: 0.9533\n",
            "Epoch 163/200, Loss: 0.9549\n",
            "Epoch 164/200, Loss: 0.9460\n",
            "Epoch 165/200, Loss: 0.9497\n",
            "Epoch 166/200, Loss: 0.9486\n",
            "Epoch 167/200, Loss: 0.9407\n",
            "Epoch 168/200, Loss: 0.9513\n",
            "Epoch 169/200, Loss: 0.9491\n",
            "Epoch 170/200, Loss: 0.9537\n",
            "Epoch 171/200, Loss: 0.9489\n",
            "Epoch 172/200, Loss: 0.9509\n",
            "Epoch 173/200, Loss: 0.9507\n",
            "Epoch 174/200, Loss: 0.9452\n",
            "Epoch 175/200, Loss: 0.9405\n",
            "Epoch 176/200, Loss: 0.9416\n",
            "Epoch 177/200, Loss: 0.9449\n",
            "Epoch 178/200, Loss: 0.9470\n",
            "Epoch 179/200, Loss: 0.9505\n",
            "Epoch 180/200, Loss: 0.9430\n",
            "Epoch 181/200, Loss: 0.9466\n",
            "Epoch 182/200, Loss: 0.9395\n",
            "Epoch 183/200, Loss: 0.9376\n",
            "Epoch 184/200, Loss: 0.9448\n",
            "Epoch 185/200, Loss: 0.9422\n",
            "Epoch 186/200, Loss: 0.9447\n",
            "Epoch 187/200, Loss: 0.9362\n",
            "Epoch 188/200, Loss: 0.9432\n",
            "Epoch 189/200, Loss: 0.9416\n",
            "Epoch 190/200, Loss: 0.9333\n",
            "Epoch 191/200, Loss: 0.9411\n",
            "Epoch 192/200, Loss: 0.9415\n",
            "Epoch 193/200, Loss: 0.9376\n",
            "Epoch 194/200, Loss: 0.9440\n",
            "Epoch 195/200, Loss: 0.9399\n",
            "Epoch 196/200, Loss: 0.9390\n",
            "Epoch 197/200, Loss: 0.9301\n",
            "Epoch 198/200, Loss: 0.9373\n",
            "Epoch 199/200, Loss: 0.9334\n",
            "Epoch 200/200, Loss: 0.9425\n"
          ]
        }
      ],
      "source": [
        "criterion = nn.CrossEntropyLoss()\n",
        "optimizer = optim.Adam(model.parameters(), lr=0.001)\n",
        "\n",
        "num_epochs = 200\n",
        "\n",
        "for epoch in range(num_epochs):\n",
        "    model.train()\n",
        "    running_loss = 0.0\n",
        "    for inputs, labels in train_loader:\n",
        "        inputs, labels = inputs.to(device), labels.to(device)\n",
        "        \n",
        "        optimizer.zero_grad()\n",
        "        outputs = model(inputs)\n",
        "        loss = criterion(outputs, labels)\n",
        "        loss.backward()\n",
        "        optimizer.step()\n",
        "        \n",
        "        running_loss += loss.item()\n",
        "    print(f\"Epoch {epoch+1}/{num_epochs}, Loss: {running_loss/len(train_loader):.4f}\")"
      ]
    },
    {
      "cell_type": "markdown",
      "id": "e1387298",
      "metadata": {},
      "source": [
        "## 5. Evaluating the Model\n",
        "Finally, we'll evaluate the model on the test set and calculate the accuracy."
      ]
    },
    {
      "cell_type": "code",
      "execution_count": 23,
      "id": "847a9fda",
      "metadata": {},
      "outputs": [
        {
          "name": "stdout",
          "output_type": "stream",
          "text": [
            "Test Accuracy: 57.84%\n"
          ]
        }
      ],
      "source": [
        "model.eval()\n",
        "correct = 0\n",
        "total = 0\n",
        "\n",
        "with torch.no_grad():\n",
        "    for inputs, labels in test_loader:\n",
        "        inputs, labels = inputs.to(device), labels.to(device)\n",
        "        outputs = model(inputs)\n",
        "        _, predicted = torch.max(outputs, 1)\n",
        "        total += labels.size(0)\n",
        "        correct += (predicted == labels).sum().item()\n",
        "\n",
        "print(f\"Test Accuracy: {100 * correct / total:.2f}%\")"
      ]
    },
    {
      "cell_type": "code",
      "execution_count": null,
      "id": "f24c6c53",
      "metadata": {},
      "outputs": [],
      "source": []
    }
  ],
  "metadata": {
    "kernelspec": {
      "display_name": "pytorch_m1",
      "language": "python",
      "name": "python3"
    },
    "language_info": {
      "codemirror_mode": {
        "name": "ipython",
        "version": 3
      },
      "file_extension": ".py",
      "mimetype": "text/x-python",
      "name": "python",
      "nbconvert_exporter": "python",
      "pygments_lexer": "ipython3",
      "version": "3.8.20"
    },
    "name": "Facial_Expression_Classification_PyTorch"
  },
  "nbformat": 4,
  "nbformat_minor": 5
}
