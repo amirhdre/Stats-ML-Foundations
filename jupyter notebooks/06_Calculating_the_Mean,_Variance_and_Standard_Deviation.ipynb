{
 "cells": [
  {
   "cell_type": "markdown",
   "metadata": {
    "pycharm": {
     "name": "#%% md\n"
    }
   },
   "source": [
    "## Calculating the Mean, Variance and Standard Deviation\n",
    "\n",
    "In this notebook, we'll discuss how to estimate three fundamental statistics: the mean, variance, and standard deviation. These statistics provide a summary of your dataset's central tendency and variability. To understand these concepts, we'll assume familiarity with histograms, statistical distributions, especially the normal distribution.\n",
    "\n",
    "The main goal is to estimate population parameters. In statistics, a population is the entire group that you want to draw conclusions about while a sample is the specific group you collect data from. For instance, if you were trying to understand the average height of all humans, humans would be your population, but you might collect data from a sample of humans in one geographic area.\n",
    "\n",
    "In reality, it's often not feasible to collect data from an entire population. Therefore, we collect data from a sample and use statistical methods to estimate the population parameters. We'll start by discussing how to calculate these parameters if you have data from an entire population and then discuss how to estimate these parameters from a sample.\n",
    "\n",
    "Let's start by creating a dataset that we'll use to illustrate these concepts.\n",
    "\n",
    "### References\n",
    "- [Statistics Fundamentals](https://www.youtube.com/watch?v=74oD9D6tfuw&list=PLblh5JKOoLUIcdlgu78MnlATeyx4cEVeR) video series by Josh Starmer.\n",
    "- [Python for Data Analysis](https://www.oreilly.com/library/view/python-for-data/9781491957653/) by Wes McKinney."
   ]
  },
  {
   "cell_type": "code",
   "execution_count": 13,
   "metadata": {
    "pycharm": {
     "name": "#%%\n"
    }
   },
   "outputs": [],
   "source": [
    "import numpy as np\n",
    "\n",
    "# Seed for reproducibility\n",
    "np.random.seed(0)\n",
    "\n",
    "# Create a dataset\n",
    "data = np.random.normal(20, 10, 240000000)"
   ]
  },
  {
   "cell_type": "markdown",
   "metadata": {
    "pycharm": {
     "name": "#%% md\n"
    }
   },
   "source": [
    "This dataset represents the number of mRNA transcripts from gene X in all 240 billion liver cells (the population). We simulated these numbers from a normal distribution with a mean of 20 and a standard deviation of 10. Now let's calculate the population parameters.\n",
    "\n",
    "## Calculating the Mean\n",
    "\n",
    "The mean, often called the average, is calculated by summing all the measurements and dividing by the number of measurements. In mathematical notation, the population mean $\\mu$ is calculated as:\n",
    "\n",
    "$$\n",
    "\\mu = \\frac{1}{N}\\sum_{i=1}^{N}x_{i}\n",
    "$$\n",
    "\n",
    "where $N$ is the number of measurements and $x_{i}$ is each individual measurement. Let's calculate the mean for our dataset."
   ]
  },
  {
   "cell_type": "code",
   "execution_count": 14,
   "metadata": {
    "pycharm": {
     "name": "#%%\n"
    }
   },
   "outputs": [
    {
     "data": {
      "text/plain": "20.00096812478495"
     },
     "execution_count": 14,
     "metadata": {},
     "output_type": "execute_result"
    }
   ],
   "source": [
    "# Calculate the population mean\n",
    "mu = np.mean(data)\n",
    "mu"
   ]
  },
  {
   "cell_type": "markdown",
   "metadata": {
    "pycharm": {
     "name": "#%% md\n"
    }
   },
   "source": [
    "As expected, our calculated population mean is very close to 20, the mean of the normal distribution we sampled from.\n",
    "\n",
    "## Calculating the Variance\n",
    "\n",
    "Variance is a measure of how spread out the measurements are from the mean. It's calculated as the average of the squared differences from the mean. In mathematical notation, the population variance $\\sigma^2$ is calculated as:\n",
    "\n",
    "$$\n",
    "\\sigma^2 = \\frac{1}{N} \\sum_{i=1}^{N} (x_i - \\mu)^2\n",
    "$$\n",
    "\n",
    "where $\\mu$ is the population mean. Let's calculate the variance."
   ]
  },
  {
   "cell_type": "code",
   "execution_count": 15,
   "metadata": {
    "pycharm": {
     "name": "#%%\n"
    }
   },
   "outputs": [
    {
     "data": {
      "text/plain": "99.98689412135116"
     },
     "execution_count": 15,
     "metadata": {},
     "output_type": "execute_result"
    }
   ],
   "source": [
    "# Calculate the population variance\n",
    "variance = np.var(data)\n",
    "variance"
   ]
  },
  {
   "cell_type": "markdown",
   "metadata": {
    "pycharm": {
     "name": "#%% md\n"
    }
   },
   "source": [
    "As expected, our calculated population variance is very close to 100, the square of the standard deviation of the normal distribution we sampled from.\n",
    "\n",
    "However, because the variance is calculated by squaring the differences from the mean, its units are the square of the original units. To get a measure of spread in the original units, we take the square root of the variance to get the standard deviation.\n",
    "\n",
    "## Calculating the Standard Deviation\n",
    "\n",
    "The standard deviation is simply the square root of the variance. In mathematical notation, the population standard deviation $\\sigma$ is calculated as:\n",
    "\n",
    "$$\n",
    "\\sigma = \\sqrt{\\sigma^2}\n",
    "$$\n",
    "\n",
    "Let's calculate the standard deviation."
   ]
  },
  {
   "cell_type": "code",
   "execution_count": 16,
   "metadata": {
    "pycharm": {
     "name": "#%%\n"
    }
   },
   "outputs": [
    {
     "data": {
      "text/plain": "9.999344684595643"
     },
     "execution_count": 16,
     "metadata": {},
     "output_type": "execute_result"
    }
   ],
   "source": [
    "# Calculate the population standard deviation\n",
    "std_dev = np.std(data)\n",
    "std_dev"
   ]
  },
  {
   "cell_type": "markdown",
   "metadata": {
    "pycharm": {
     "name": "#%% md\n"
    }
   },
   "source": [
    "As expected, our calculated population standard deviation is very close to 10, the standard deviation of the normal distribution we sampled from.\n",
    "\n",
    "## Estimating the Mean, Variance and Standard Deviation\n",
    "\n",
    "In reality, we rarely have data from an entire population. So, we usually need to estimate these parameters from a sample. Let's take a sample of five measurements from our population and then estimate these parameters. First, we'll draw the sample."
   ]
  },
  {
   "cell_type": "code",
   "execution_count": 17,
   "metadata": {
    "pycharm": {
     "name": "#%%\n"
    }
   },
   "outputs": [
    {
     "data": {
      "text/plain": "array([23.99498109, 27.19194348, 13.86405634, 14.60517994, 26.90015011])"
     },
     "execution_count": 17,
     "metadata": {},
     "output_type": "execute_result"
    }
   ],
   "source": [
    "# Draw a sample of 5 measurements\n",
    "sample = np.random.choice(data, 5)\n",
    "sample"
   ]
  },
  {
   "cell_type": "markdown",
   "metadata": {
    "pycharm": {
     "name": "#%% md\n"
    }
   },
   "source": [
    "Now, let's estimate the population parameters from this sample.\n",
    "\n",
    "## Estimating the Mean\n",
    "\n",
    "The sample mean $\\bar{x}$, which is our estimate of the population mean, is calculated in the same way as the population mean:\n",
    "\n",
    "$$\n",
    "\\bar{x} = \\frac{1}{n}\\sum_{i=1}^{n}x_{i}\n",
    "$$\n",
    "\n",
    "where $n$ is the number of measurements in the sample and $x_{i}$ is each individual measurement. Let's calculate the sample mean."
   ]
  },
  {
   "cell_type": "code",
   "execution_count": 18,
   "metadata": {
    "pycharm": {
     "name": "#%%\n"
    }
   },
   "outputs": [
    {
     "data": {
      "text/plain": "21.311262188945257"
     },
     "execution_count": 18,
     "metadata": {},
     "output_type": "execute_result"
    }
   ],
   "source": [
    "# Calculate the sample mean\n",
    "x_bar = np.mean(sample)\n",
    "x_bar"
   ]
  },
  {
   "cell_type": "markdown",
   "metadata": {
    "pycharm": {
     "name": "#%% md\n"
    }
   },
   "source": [
    "## Estimating the Variance\n",
    "\n",
    "The sample variance $s^2$, which is our estimate of the population variance, is calculated similarly to the population variance, but with two important differences. First, we calculate the differences from the sample mean instead of the population mean. Second, we divide by $n - 1$ instead of $n$. This is called Bessel's correction, and it corrects the bias in the estimation of the population variance. It's necessary because the differences from the sample mean are on average smaller than the differences from the population mean. Without this correction, we would underestimate the population variance.\n",
    "\n",
    "In mathematical notation, the sample variance $s^2$ is calculated as:\n",
    "\n",
    "$$\n",
    "\\sigma^2 = \\frac{1}{N} \\sum_{i=1}^{N} (x_i - \\mu)^2\n",
    "$$\n",
    "\n",
    "$$\n",
    "s^2 = \\frac{1}{n-1} \\sum_{i=1}^{n} (x_i - \\bar{x})^2\n",
    "$$\n",
    "\n",
    "where $\\bar{x}$ is the sample mean. Let's calculate the sample variance."
   ]
  },
  {
   "cell_type": "code",
   "execution_count": 19,
   "metadata": {
    "pycharm": {
     "name": "#%%\n"
    }
   },
   "outputs": [
    {
     "data": {
      "text/plain": "43.36321045338236"
     },
     "execution_count": 19,
     "metadata": {},
     "output_type": "execute_result"
    }
   ],
   "source": [
    "# Calculate the sample variance\n",
    "s_squared = np.var(sample, ddof=1)\n",
    "s_squared"
   ]
  },
  {
   "cell_type": "markdown",
   "metadata": {
    "pycharm": {
     "name": "#%% md\n"
    }
   },
   "source": [
    "## Estimating the Standard Deviation\n",
    "\n",
    "The sample standard deviation $s$, which is our estimate of the population standard deviation, is simply the square root of the sample variance. In mathematical notation, the sample standard deviation $s$ is calculated as:\n",
    "\n",
    "$$\n",
    "s = \\sqrt{s^2}\n",
    "$$\n",
    "\n",
    "Let's calculate the sample standard deviation."
   ]
  },
  {
   "cell_type": "code",
   "execution_count": 20,
   "metadata": {
    "pycharm": {
     "name": "#%%\n"
    }
   },
   "outputs": [
    {
     "data": {
      "text/plain": "6.585074825192373"
     },
     "execution_count": 20,
     "metadata": {},
     "output_type": "execute_result"
    }
   ],
   "source": [
    "# Calculate the sample standard deviation\n",
    "s = np.std(sample, ddof=1)\n",
    "s"
   ]
  },
  {
   "cell_type": "markdown",
   "metadata": {
    "pycharm": {
     "name": "#%% md\n"
    }
   },
   "source": [
    "These are our estimates of the population mean, variance, and standard deviation based on a sample of five measurements. With more data, our estimates would be more accurate and we would have more confidence in them. However, even with just five measurements, we've made reasonable estimates, saving a significant amount of time and resources compared to collecting data from the entire population.\n",
    "\n",
    "In summary, we rarely have data from an entire population, so we usually estimate the population parameters from a sample. The mean provides a measure of central tendency, while the variance and standard deviation provide measures of variability. Understanding these statistics is fundamental to many areas of data analysis and machine learning."
   ]
  },
  {
   "cell_type": "markdown",
   "source": [
    "## Additional References\n",
    "\n",
    "- [Bessel's Correction](https://en.wikipedia.org/wiki/Bessel%27s_correction) on Wikipedia.\n",
    "- [Numpy Documentation](https://numpy.org/doc/stable/): For more information on numpy functions."
   ],
   "metadata": {
    "collapsed": false,
    "pycharm": {
     "name": "#%% md\n"
    }
   }
  },
  {
   "cell_type": "code",
   "execution_count": null,
   "outputs": [],
   "source": [],
   "metadata": {
    "collapsed": false,
    "pycharm": {
     "name": "#%%\n"
    }
   }
  }
 ],
 "metadata": {
  "kernelspec": {
   "display_name": "Python 3",
   "language": "python",
   "name": "python3"
  },
  "language_info": {
   "codemirror_mode": {
    "name": "ipython",
    "version": 3
   },
   "file_extension": ".py",
   "mimetype": "text/x-python",
   "name": "python",
   "nbconvert_exporter": "python",
   "pygments_lexer": "ipython3",
   "version": "3.8.5"
  }
 },
 "nbformat": 4,
 "nbformat_minor": 4
}