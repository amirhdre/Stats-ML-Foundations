{
  "cells": [
    {
      "cell_type": "markdown",
      "metadata": {},
      "source": [
        "# Ridge vs Lasso Regression, Visualized!\n",
        "\n",
        "In this notebook, we will visually explore the differences between Ridge and Lasso Regression. This notebook assumes that you are already familiar with these regression techniques. If not, please refer to the respective notebooks or resources to get a solid understanding.\n",
        "\n",
        "## Importing Required Libraries\n",
        "\n",
        "First, let's import necessary libraries."
      ]
    },
    {
      "cell_type": "code",
      "execution_count": null,
      "metadata": {},
      "outputs": [],
      "source": [
        "import numpy as np\n",
        "import matplotlib.pyplot as plt\n",
        "from sklearn.linear_model import Ridge, Lasso\n",
        "from sklearn.metrics import mean_squared_error\n",
        "from sklearn.model_selection import train_test_split\n",
        "from sklearn.datasets import make_regression"
      ]
    },
    {
      "cell_type": "markdown",
      "metadata": {},
      "source": [
        "## Dataset Creation\n",
        "\n",
        "We will generate a simple dataset for our purpose using the `make_regression` function from `sklearn.datasets`."
      ]
    },
    {
      "cell_type": "code",
      "execution_count": null,
      "metadata": {},
      "outputs": [],
      "source": [
        "X, y = make_regression(n_samples=100, n_features=1, noise=0.4, bias=50)"
      ]
    },
    {
      "cell_type": "markdown",
      "metadata": {},
      "source": [
        "## Data Plotting\n",
        "\n",
        "Let's plot our data to visualize the correlation between the feature and the target variable."
      ]
    },
    {
      "cell_type": "code",
      "execution_count": null,
      "metadata": {},
      "outputs": [],
      "source": [
        "plt.figure(figsize=(10,6))\n",
        "plt.scatter(X, y)\n",
        "plt.title('Correlation between feature and target')\n",
        "plt.xlabel('Feature')\n",
        "plt.ylabel('Target')\n",
        "plt.show()"
      ]
    },
    {
      "cell_type": "markdown",
      "metadata": {},
      "source": [
        "## Ridge Regression\n",
        "\n",
        "Let's implement Ridge Regression on our dataset. We will vary the value of $\\lambda$ (the penalty term, also known as alpha in scikit-learn) and observe the changes in the slope of the regression line."
      ]
    },
    {
      "cell_type": "code",
      "execution_count": null,
      "metadata": {},
      "outputs": [],
      "source": [
        "def plot_regression_line(model, X, y, label):\n",
        "    plt.scatter(X, y)\n",
        "    plt.plot(X, model.predict(X), color='r', label=label)\n",
        "    plt.legend()\n",
        "    plt.show()\n",
        "\n",
        "def perform_ridge_regression(alpha, X, y):\n",
        "    ridge = Ridge(alpha=alpha)\n",
        "    ridge.fit(X, y)\n",
        "    label = f'Ridge Regression Line with alpha={alpha}'\n",
        "    plot_regression_line(ridge, X, y, label)\n",
        "    return ridge\n",
        "\n",
        "perform_ridge_regression(0, X, y) # No penalty\n",
        "perform_ridge_regression(10, X, y)\n",
        "perform_ridge_regression(20, X, y)\n",
        "perform_ridge_regression(40, X, y)"
      ]
    },
    {
      "cell_type": "markdown",
      "metadata": {},
      "source": [
        "As you can observe, as we increase the value of $\\lambda$ (or alpha) in Ridge Regression, the slope of the regression line reduces. However, it doesn't become zero. This is because Ridge Regression only shrinks the coefficients and doesn't zero them."
      ]
    },
    {
      "cell_type": "markdown",
      "metadata": {},
      "source": [
        "## Lasso Regression\n",
        "\n",
        "Now, let's implement Lasso Regression on our dataset. We will, again, vary the value of $\\lambda$ (the penalty term, also known as alpha in scikit-learn) and observe the changes in the slope of the regression line."
      ]
    },
    {
      "cell_type": "code",
      "execution_count": null,
      "metadata": {},
      "outputs": [],
      "source": [
        "def perform_lasso_regression(alpha, X, y):\n",
        "    lasso = Lasso(alpha=alpha)\n",
        "    lasso.fit(X, y)\n",
        "    label = f'Lasso Regression Line with alpha={alpha}'\n",
        "    plot_regression_line(lasso, X, y, label)\n",
        "    return lasso\n",
        "\n",
        "perform_lasso_regression(0.1, X, y) # No penalty\n",
        "perform_lasso_regression(1, X, y)\n",
        "perform_lasso_regression(2, X, y)\n",
        "perform_lasso_regression(3, X, y)"
      ]
    },
    {
      "cell_type": "markdown",
      "metadata": {},
      "source": [
        "As you can observe, as we increase the value of $\\lambda$ (or alpha) in Lasso Regression, the slope of the regression line also reduces. However, at a certain point, the slope becomes zero. This is because Lasso Regression not only shrinks the coefficients but also zeroes some of them. Hence, it is useful for feature selection."
      ]
    },
    {
      "cell_type": "markdown",
      "metadata": {},
      "source": [
        "## Conclusion\n",
        "\n",
        "In conclusion, Ridge and Lasso Regression are powerful techniques that not only help in preventing over-fitting but can also help us understand our data better. Ridge Regression is particularly useful when we have many correlated features, as it will keep all of them in the model but distribute the coefficient among them. Lasso, on the other hand, is useful when we have a lot of features and we suspect that only a subset of them are actually useful, as it will zero out the unimportant features."
      ]
    }
  ],
  "metadata": {
    "kernelspec": {
      "display_name": "Python 3",
      "language": "python",
      "name": "python3"
    },
    "language_info": {
      "codemirror_mode": {
        "name": "ipython",
        "version": 3
      },
      "file_extension": ".py",
      "mimetype": "text/x-python",
      "name": "python",
      "nbconvert_exporter": "python",
      "pygments_lexer": "ipython3",
      "version": "3.7.4"
    }
  },
  "nbformat": 4,
  "nbformat_minor": 4
}
