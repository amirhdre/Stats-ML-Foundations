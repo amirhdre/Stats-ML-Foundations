{
 "cells": [
  {
   "cell_type": "markdown",
   "id": "ecbcf4cc",
   "metadata": {
    "pycharm": {
     "name": "#%% md\n"
    }
   },
   "source": [
    "# Bayes' Theorem, Clearly Explained\n",
    "\n",
    "The Bayes' theorem is a fundamental theorem in probability theory and statistics that describes how to update the probabilities of hypotheses when given evidence. It follows simply from the axioms of conditional probability, but can be used to power complex machine learning algorithms.\n",
    "\n",
    "The theorem is named after Reverend Thomas Bayes, who first provided an equation that allows new evidence to update beliefs in his \"An Essay towards solving a Problem in the Doctrine of Chances\" (1763). It was further developed by Pierre-Simon Laplace, who first published the modern formulation in his 1812 \"Théorie analytique des probabilités\".\n",
    "\n",
    "<img alt=\"Image\" height=\"800\" src=\"https://upload.wikimedia.org/wikipedia/commons/thumb/1/18/Bayes%27_Theorem_MMB_01.jpg/1200px-Bayes%27_Theorem_MMB_01.jpg\" width=\"1200\"/>\n",
    "\n",
    "## Formulation\n",
    "\n",
    "Bayes' theorem is stated mathematically as the following equation:\n",
    "\n",
    "$$P(A|B) = \\frac{P(B|A)P(A)}{P(B)}$$\n",
    "\n",
    "where $A$ and $B$ are events and $P(B) \\neq 0$.\n",
    "\n",
    "- $P(A|B)$ is a conditional probability: the likelihood of event $A$ occurring given that $B$ is true.\n",
    "\n",
    "- $P(B|A)$ is also a conditional probability: the likelihood of event $B$ occurring given that $A$ is true.\n",
    "\n",
    "- $P(A)$ and $P(B)$ are the probabilities of observing $A$ and $B$ independently of each other; this is known as the marginal probability.\n",
    "\n",
    "We can also derive the formula using a contingency table as depicted in the video. The formula can also be written in terms of odds and likelihood ratios.\n",
    "\n",
    "The theorem can be interpreted as a way to update predictions in light of new data. The predictions are updated on the basis of the prior and likelihood of observed data.\n",
    "\n",
    "## Notation\n",
    "\n",
    "The notation can be made less redundant by omitting the 'and' part when we have already mentioned the conditional statement. For example, instead of saying 'probability that someone who does not love candy and loves soda given that they love soda', we can say 'probability that someone who does not love candy given that they love soda' which essentially means the same thing. But it's important to note that in both cases we are talking about the exact same event.\n",
    "\n",
    "## Example\n",
    "\n",
    "Let's take an example where we have the following probabilities:\n",
    "\n",
    "- The probability that someone does not love candy given that they love soda is 0.71.\n",
    "\n",
    "- The probability that someone loves soda is close to 0.6.\n",
    "\n",
    "- The probability that someone does not love candy is 0.57.\n",
    "\n",
    "We can use the Bayes' theorem to find the probability that someone loves soda given that we know they do not love candy. This can be calculated as follows:\n",
    "\n",
    "$$P(\\text{{Loves soda}}|\\text{{Does not love candy}}) = \\frac{P(\\text{{Does not love candy}}|\\text{{Loves soda}})P(\\text{{Loves soda}})}{P(\\text{{Does not love candy}})} = \\frac{0.71 \\times 0.6}{0.57} \\approx 0.75$$\n",
    "\n",
    "So, given this data, the probability that someone loves soda given that we know they do not like candy is about 0.75.\n",
    "\n",
    "## Bayes in Statistics\n",
    "\n",
    "![](images/bayes_summary.webp)\n",
    "\n",
    "Bayes' theorem is the basis for Bayesian statistics, which is a particular approach to applying probability models to data analysis. This approach has become increasingly popular in scientific fields because it allows for a more nuanced treatment of uncertainty and complexity. It allows us to update our beliefs about unknown quantities using evidence in the form of data.\n",
    "\n",
    "![](images/bayes_formula.png)\n",
    "\n",
    "In a Bayesian statistical analysis, the aim is often to obtain the posterior distribution which represents what is known about parameters after observing the data. The likelihood function plays a crucial role, and it represents the probability of observing the data given the parameters.\n",
    "\n",
    "<img height=\"1000\" src=\"images/bayes_fun.jpg\" width=\"800\"/>\n",
    "\n",
    "## References\n",
    "\n",
    "1. Bayes, Thomas (1763). \"An Essay towards solving a Problem in the Doctrine of Chances\". Philosophical Transactions of the Royal Society of London. 53: 370–418.\n",
    "\n",
    "2. Laplace, Pierre Simon (1812). \"Théorie analytique des probabilités\". Courcier. pp. 196–332.\n",
    "\n",
    "3. Eddy, S.R. (2004). \"What is a hidden Markov model?\". Nature Biotechnology. 22 (10): 1315–1316. doi:10.1038/nbt1004-1315."
   ]
  },
  {
   "cell_type": "markdown",
   "id": "0e12d171",
   "metadata": {
    "pycharm": {
     "name": "#%% md\n"
    }
   },
   "source": [
    "### Visualizing Probability Distributions\n",
    "\n",
    "Before diving deeper into Bayes' theorem, it's helpful to visualize how probability distributions work. Below, we'll plot some example distributions."
   ]
  },
  {
   "cell_type": "code",
   "execution_count": 1,
   "id": "b607f0cd",
   "metadata": {
    "pycharm": {
     "name": "#%%\n"
    }
   },
   "outputs": [
    {
     "data": {
      "image/png": "[encoded data removed]",
      "text/plain": [
       "<Figure size 576x288 with 1 Axes>"
      ]
     },
     "metadata": {
      "needs_background": "light"
     },
     "output_type": "display_data"
    }
   ],
   "source": [
    "import numpy as np\n",
    "import matplotlib.pyplot as plt\n",
    "\n",
    "# Example: Visualizing a Gaussian distribution\n",
    "x = np.linspace(-5, 5, 100)\n",
    "mean, std_dev = 0, 1\n",
    "gaussian = (1 / (std_dev * np.sqrt(2 * np.pi))) * np.exp(-0.5 * ((x - mean) / std_dev)**2)\n",
    "\n",
    "plt.figure(figsize=(8, 4))\n",
    "plt.plot(x, gaussian, label=\"Gaussian Distribution\", color=\"blue\")\n",
    "plt.fill_between(x, gaussian, color=\"blue\", alpha=0.2)\n",
    "plt.title(\"Example of a Probability Distribution: Gaussian\")\n",
    "plt.xlabel(\"Value\")\n",
    "plt.ylabel(\"Probability Density\")\n",
    "plt.legend()\n",
    "plt.grid(True)\n",
    "plt.show()\n"
   ]
  },
  {
   "cell_type": "markdown",
   "id": "8be07c74",
   "metadata": {
    "pycharm": {
     "name": "#%% md\n"
    }
   },
   "source": [
    "### Bayesian Inference in Action\n",
    "\n",
    "Now that we've seen a probability distribution, let's move into the essence of Bayes' theorem: updating beliefs in light of new evidence. We'll calculate probabilities step-by-step and visualize the process."
   ]
  },
  {
   "cell_type": "code",
   "execution_count": null,
   "outputs": [],
   "source": [
    "# Components of Bayes' Theorem\n",
    "prior = posterior  # P(A)\n",
    "likelihood = 0.6 # P(B|A)\n",
    "evidence = 0.5  # P(B)\n",
    "posterior = (likelihood * prior) / evidence  # P(A|B)\n",
    "\n",
    "# Plotting\n",
    "components = ['Prior (P(A))', 'Likelihood (P(B|A))', 'Evidence (P(B))', 'Posterior (P(A|B))']\n",
    "values = [prior, likelihood, evidence, posterior]\n",
    "\n",
    "plt.figure(figsize=(10, 6))\n",
    "plt.bar(components, values, color=['orange', 'blue', 'green', 'red'], alpha=0.7)\n",
    "plt.title(\"Components of Bayes' Theorem\")\n",
    "plt.ylabel(\"Probability\")\n",
    "plt.ylim(0, 1)\n",
    "plt.grid(axis='y', linestyle='--', alpha=0.6)\n",
    "plt.show()\n"
   ],
   "metadata": {
    "collapsed": false,
    "pycharm": {
     "name": "#%%\n"
    }
   }
  },
  {
   "cell_type": "markdown",
   "source": [
    "### Interactive Bayes Theorem Calculator\n",
    "\n",
    "Use the slider below to modify the values of prior, likelihood, and evidence, and see how the posterior probability changes!"
   ],
   "metadata": {
    "collapsed": false,
    "pycharm": {
     "name": "#%% md\n"
    }
   }
  },
  {
   "cell_type": "code",
   "execution_count": null,
   "outputs": [],
   "source": [
    "import ipywidgets as widgets\n",
    "from IPython.display import display\n",
    "\n",
    "# Interactive function to compute posterior\n",
    "def interactive_bayes(prior, likelihood, evidence):\n",
    "    posterior = (likelihood * prior) / evidence if evidence != 0 else \"Undefined (P(B) cannot be zero)\"\n",
    "    print(f\"Prior (P(A)): {prior}\")\n",
    "    print(f\"Likelihood (P(B|A)): {likelihood}\")\n",
    "    print(f\"Evidence (P(B)): {evidence}\")\n",
    "    print(f\"Posterior (P(A|B)): {posterior}\")\n",
    "\n",
    "# Sliders for inputs\n",
    "prior_slider = widgets.FloatSlider(value=0.6, min=0, max=1, step=0.01, description='Prior (P(A))')\n",
    "likelihood_slider = widgets.FloatSlider(value=0.71, min=0, max=1, step=0.01, description='Likelihood (P(B|A))')\n",
    "evidence_slider = widgets.FloatSlider(value=0.57, min=0, max=1, step=0.01, description='Evidence (P(B))')\n",
    "\n",
    "widgets.interactive(interactive_bayes, prior=prior_slider, likelihood=likelihood_slider, evidence=evidence_slider)\n"
   ],
   "metadata": {
    "collapsed": false,
    "pycharm": {
     "name": "#%%\n"
    }
   }
  },
  {
   "cell_type": "code",
   "execution_count": null,
   "outputs": [],
   "source": [
    "import numpy as np\n",
    "import matplotlib.pyplot as plt\n",
    "import ipywidgets as widgets\n",
    "from IPython.display import display\n",
    "\n",
    "# Function to compute posterior and visualize distributions\n",
    "def interactive_bayes_with_plot(prior, likelihood, evidence, prior_height, likelihood_height, evidence_height):\n",
    "    posterior = (likelihood * prior) / evidence if evidence != 0 else \"Undefined (P(B) cannot be zero)\"\n",
    "\n",
    "    # Print Bayes' theorem components\n",
    "    print(f\"Prior (P(A)): {prior}\")\n",
    "    print(f\"Likelihood (P(B|A)): {likelihood}\")\n",
    "    print(f\"Evidence (P(B)): {evidence}\")\n",
    "    print(f\"Posterior (P(A|B)): {posterior}\\n\")\n",
    "\n",
    "    # Generate data for normal distributions\n",
    "    x = np.linspace(0, 1, 1000)\n",
    "    prior_dist = prior_height * np.exp(-((x - prior)**2) / (2 * 0.05**2))  # Normal distribution for prior\n",
    "    likelihood_dist = likelihood_height * np.exp(-((x - likelihood)**2) / (2 * 0.05**2))  # Normal distribution for likelihood\n",
    "    evidence_dist = evidence_height * np.exp(-((x - evidence)**2) / (2 * 0.05**2))  # Normal distribution for evidence\n",
    "\n",
    "    # Normalize distributions\n",
    "    prior_dist /= prior_dist.sum()\n",
    "    likelihood_dist /= likelihood_dist.sum()\n",
    "    evidence_dist /= evidence_dist.sum()\n",
    "\n",
    "    # Compute posterior distribution (for visualization purposes only)\n",
    "    posterior_dist = (likelihood_dist * prior_dist) / (evidence_dist + 1e-9)  # Avoid division by zero\n",
    "    posterior_dist /= posterior_dist.sum()\n",
    "\n",
    "    # Plot the distributions\n",
    "    plt.figure(figsize=(12, 6))\n",
    "\n",
    "    plt.plot(x, prior_dist, label='Prior (P(A))', linewidth=2)\n",
    "    plt.plot(x, likelihood_dist, label='Likelihood (P(B|A))', linewidth=2)\n",
    "    plt.plot(x, evidence_dist, label='Evidence (P(B))', linewidth=2)\n",
    "    plt.plot(x, posterior_dist, label='Posterior (P(A|B))', linewidth=2, linestyle='--')\n",
    "\n",
    "    plt.title('Bayesian Distributions', fontsize=16)\n",
    "    plt.xlabel('Value', fontsize=14)\n",
    "    plt.ylabel('Density', fontsize=14)\n",
    "    plt.legend(fontsize=12)\n",
    "    plt.ylim([0,0.015])\n",
    "    plt.grid(True)\n",
    "    plt.show()\n",
    "\n",
    "# Sliders for inputs\n",
    "prior_slider = widgets.FloatSlider(value=0.6, min=0, max=1, step=0.01, description='Prior (P(A))')\n",
    "likelihood_slider = widgets.FloatSlider(value=0.71, min=0, max=1, step=0.01, description='Likelihood (P(B|A))')\n",
    "evidence_slider = widgets.FloatSlider(value=0.57, min=0, max=1, step=0.01, description='Evidence (P(B))')\n",
    "prior_height_slider = widgets.FloatSlider(value=1, min=0.1, max=5, step=0.1, description='Prior Height')\n",
    "likelihood_height_slider = widgets.FloatSlider(value=1, min=0.1, max=5, step=0.1, description='Likelihood Height')\n",
    "evidence_height_slider = widgets.FloatSlider(value=1, min=0.1, max=5, step=0.1, description='Evidence Height')\n",
    "\n",
    "# Interactive widget\n",
    "display(widgets.interactive(interactive_bayes_with_plot, \n",
    "                            prior=prior_slider, \n",
    "                            likelihood=likelihood_slider, \n",
    "                            evidence=evidence_slider,\n",
    "                            prior_height=prior_height_slider,\n",
    "                            likelihood_height=likelihood_height_slider,\n",
    "                            evidence_height=evidence_height_slider))\n"
   ],
   "metadata": {
    "collapsed": false,
    "pycharm": {
     "name": "#%%\n"
    }
   }
  },
  {
   "cell_type": "code",
   "execution_count": null,
   "outputs": [],
   "source": [],
   "metadata": {
    "collapsed": false,
    "pycharm": {
     "name": "#%%\n"
    }
   }
  },
  {
   "cell_type": "code",
   "execution_count": null,
   "id": "1a636095",
   "metadata": {
    "pycharm": {
     "name": "#%%\n"
    }
   },
   "outputs": [],
   "source": []
  },
  {
   "cell_type": "code",
   "execution_count": null,
   "id": "cd3d0d9f",
   "metadata": {
    "pycharm": {
     "name": "#%%\n"
    }
   },
   "outputs": [],
   "source": []
  },
  {
   "cell_type": "code",
   "execution_count": null,
   "id": "28c7ece7",
   "metadata": {
    "pycharm": {
     "name": "#%%\n"
    }
   },
   "outputs": [],
   "source": []
  },
  {
   "cell_type": "code",
   "execution_count": null,
   "id": "88ae1565",
   "metadata": {},
   "outputs": [],
   "source": []
  }
 ],
 "metadata": {
  "kernelspec": {
   "display_name": "Python 3 (ipykernel)",
   "language": "python",
   "name": "python3"
  },
  "language_info": {
   "codemirror_mode": {
    "name": "ipython",
    "version": 3
   },
   "file_extension": ".py",
   "mimetype": "text/x-python",
   "name": "python",
   "nbconvert_exporter": "python",
   "pygments_lexer": "ipython3",
   "version": "3.8.16"
  }
 },
 "nbformat": 4,
 "nbformat_minor": 5
}