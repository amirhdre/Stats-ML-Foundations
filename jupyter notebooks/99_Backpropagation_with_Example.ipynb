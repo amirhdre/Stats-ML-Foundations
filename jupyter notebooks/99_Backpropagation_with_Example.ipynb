{
 "cells": [
  {
   "cell_type": "markdown",
   "id": "ca6e6c5d",
   "metadata": {
    "pycharm": {
     "name": "#%% md\n"
    }
   },
   "source": [
    "# Backpropagation in Neural Networks: Main Ideas"
   ]
  },
  {
   "cell_type": "markdown",
   "id": "f5baf442",
   "metadata": {
    "pycharm": {
     "name": "#%% md\n"
    }
   },
   "source": [
    "\n",
    "Backpropagation is a key algorithm for training neural networks by optimizing parameters such as weights and biases.\n",
    "This notebook explains the main ideas of backpropagation using the chain rule and gradient descent. The concepts\n",
    "are broken down step-by-step, with accompanying examples and mathematical notations.\n"
   ]
  },
  {
   "cell_type": "markdown",
   "id": "86b5ddfd",
   "metadata": {
    "pycharm": {
     "name": "#%% md\n"
    }
   },
   "source": [
    "\n",
    "## Prerequisites\n",
    "\n",
    "Before diving into backpropagation, ensure you are familiar with:\n",
    "1. Neural Networks\n",
    "2. The Chain Rule in calculus\n",
    "3. Gradient Descent\n",
    "\n",
    "If not, review the necessary resources or tutorials.\n"
   ]
  },
  {
   "cell_type": "markdown",
   "id": "adeb75b9",
   "metadata": {
    "pycharm": {
     "name": "#%% md\n"
    }
   },
   "source": [
    "\n",
    "## Simple Example of a Neural Network\n",
    "\n",
    "Consider a neural network with a single hidden layer designed to predict whether drug dosages (low, medium, high) are effective.\n",
    "\n",
    "### Neural Network Workflow\n",
    "1. Input features (e.g., dosage levels) pass through the network.\n",
    "2. Activation functions, weights, and biases adjust the input to produce an output prediction.\n",
    "3. Backpropagation calculates how weights and biases should be updated to minimize prediction error.\n"
   ]
  },
  {
   "cell_type": "markdown",
   "id": "f67c4735",
   "metadata": {
    "pycharm": {
     "name": "#%% md\n"
    }
   },
   "source": [
    "\n",
    "## Backpropagation Process\n",
    "\n",
    "The goal of backpropagation is to minimize the error between the predicted values and the actual values in the dataset.\n",
    "\n",
    "### Steps:\n",
    "1. **Forward Pass:** Calculate predictions using the current parameters.\n",
    "2. **Error Calculation:** Compute the loss (e.g., sum of squared residuals).\n",
    "3. **Backward Pass:** Use the chain rule to calculate the gradient of the loss function with respect to each parameter.\n",
    "4. **Parameter Update:** Adjust weights and biases using gradient descent.\n",
    "\n",
    "Mathematically, the process involves:\n",
    "$$\n",
    "L = \\sum_{i=1}^{n} (y_i - \\hat{y}_i)^2\n",
    "$$\n",
    "where:\n",
    "- $L$: Loss function (sum of squared residuals)\n",
    "- $y_i$: Observed values\n",
    "- $\\hat{y}_i$: Predicted values\n",
    "- $n$: Number of observations\n"
   ]
  },
  {
   "cell_type": "markdown",
   "id": "c8705d81",
   "metadata": {
    "pycharm": {
     "name": "#%% md\n"
    }
   },
   "source": [
    "\n",
    "## Using the Chain Rule\n",
    "\n",
    "To compute gradients, we apply the chain rule. For a parameter $b_3$, the gradient is:\n",
    "$$\n",
    "\\frac{\\partial L}{\\partial b_3} = \\frac{\\partial L}{\\partial \\hat{y}} \\cdot \\frac{\\partial \\hat{y}}{\\partial b_3}\n",
    "$$\n",
    "\n",
    "### Example:\n",
    "Given a loss function:\n",
    "$$\n",
    "L = \\sum_{i=1}^{3} (y_i - \\hat{y}_i)^2\n",
    "$$\n",
    "\n",
    "1. Compute $\\frac{\\partial L}{\\partial \\hat{y}}$:\n",
    "$$\n",
    "\\frac{\\partial L}{\\partial \\hat{y}} = -2 (y_i - \\hat{y}_i)\n",
    "$$\n",
    "\n",
    "2. Compute $\\frac{\\partial \\hat{y}}{\\partial b_3}$:\n",
    "For a simple network, $\\hat{y} = f(x; b_3)$, where $b_3$ is added directly, so:\n",
    "$$\n",
    "\\frac{\\partial \\hat{y}}{\\partial b_3} = 1\n",
    "$$\n",
    "\n",
    "Thus:\n",
    "$$\n",
    "\\frac{\\partial L}{\\partial b_3} = -2 (y_i - \\hat{y}_i)\n",
    "$$\n"
   ]
  },
  {
   "cell_type": "markdown",
   "id": "a9823447",
   "metadata": {
    "pycharm": {
     "name": "#%% md\n"
    }
   },
   "source": [
    "\n",
    "## Gradient Descent\n",
    "\n",
    "Gradient descent updates parameters iteratively to minimize the loss function.\n",
    "\n",
    "The update rule for a parameter $b_3$:\n",
    "$$\n",
    "b_3 \\leftarrow b_3 - \\alpha \\frac{\\partial L}{\\partial b_3}\n",
    "$$\n",
    "where:\n",
    "- $\\alpha$: Learning rate (step size)\n",
    "- $\\frac{\\partial L}{\\partial b_3}$: Gradient\n",
    "\n",
    "### Example Update:\n",
    "Given $\\frac{\\partial L}{\\partial b_3} = -15.7$ and $\\alpha = 0.1$:\n",
    "$$\n",
    "b_3 \\leftarrow 0 - (0.1)(-15.7) = 1.57\n",
    "$$\n"
   ]
  },
  {
   "cell_type": "markdown",
   "id": "22d81247",
   "metadata": {
    "pycharm": {
     "name": "#%% md\n"
    }
   },
   "source": [
    "\n",
    "## Iterative Optimization\n",
    "\n",
    "Backpropagation uses the gradient descent process repeatedly:\n",
    "1. Compute gradients for all parameters (weights and biases).\n",
    "2. Update parameters using the gradient descent rule.\n",
    "3. Repeat until convergence (i.e., minimal loss).\n",
    "\n",
    "In practice, this is implemented efficiently for large networks using frameworks such as TensorFlow or PyTorch.\n"
   ]
  },
  {
   "cell_type": "markdown",
   "id": "766eaa6c",
   "metadata": {
    "pycharm": {
     "name": "#%% md\n"
    }
   },
   "source": [
    "\n",
    "## Conclusion\n",
    "\n",
    "Backpropagation combines the chain rule and gradient descent to optimize neural network parameters. By iteratively\n",
    "minimizing the loss function, it ensures that the model learns to make accurate predictions.\n",
    "\n",
    "Understanding these concepts is crucial for designing and training deep learning models.\n"
   ]
  },
  {
   "cell_type": "markdown",
   "id": "63e7b696",
   "metadata": {
    "pycharm": {
     "name": "#%% md\n"
    }
   },
   "source": [
    "\n",
    "## Example: Neural Network Implementation\n",
    "\n",
    "Below is a simple implementation of a neural network in Python using NumPy. This example demonstrates the forward and backward passes with gradient descent.\n",
    "\n",
    "### Code Example\n"
   ]
  },
  {
   "cell_type": "code",
   "execution_count": 2,
   "id": "cf699922",
   "metadata": {
    "pycharm": {
     "name": "#%%\n"
    }
   },
   "outputs": [
    {
     "data": {
      "text/plain": "<Figure size 576x432 with 1 Axes>",
      "image/png": "[encoded data removed]"
     },
     "metadata": {
      "needs_background": "light"
     },
     "output_type": "display_data"
    },
    {
     "data": {
      "text/plain": "<Figure size 720x432 with 1 Axes>",
      "image/png": "[encoded data removed]"
     },
     "metadata": {
      "needs_background": "light"
     },
     "output_type": "display_data"
    },
    {
     "data": {
      "text/plain": "<Figure size 1440x360 with 6 Axes>",
      "image/png": "[encoded data removed]"
     },
     "metadata": {
      "needs_background": "light"
     },
     "output_type": "display_data"
    }
   ],
   "source": [
    "import numpy as np\n",
    "import matplotlib.pyplot as plt\n",
    "\n",
    "# Data for XOR problem\n",
    "X = np.array([[0, 0], [0, 1], [1, 0], [1, 1]])\n",
    "y = np.array([[0], [1], [1], [0]])\n",
    "\n",
    "# Sigmoid activation function and derivative\n",
    "def sigmoid(x):\n",
    "    return 1 / (1 + np.exp(-x))\n",
    "\n",
    "def sigmoid_derivative(x):\n",
    "    return sigmoid(x) * (1 - sigmoid(x))\n",
    "\n",
    "# Loss function (Mean Squared Error)\n",
    "def mse_loss(y_true, y_pred):\n",
    "    return np.mean((y_true - y_pred) ** 2)\n",
    "\n",
    "# Neural Network Class\n",
    "class SimpleNeuralNetwork:\n",
    "    def __init__(self):\n",
    "        self.weights_input_hidden = np.random.randn(2, 2)\n",
    "        self.bias_hidden = np.random.randn(2)\n",
    "        self.weights_hidden_output = np.random.randn(2, 1)\n",
    "        self.bias_output = np.random.randn(1)\n",
    "    \n",
    "    def forward(self, X):\n",
    "        self.hidden_layer = sigmoid(np.dot(X, self.weights_input_hidden) + self.bias_hidden)\n",
    "        self.output_layer = sigmoid(np.dot(self.hidden_layer, self.weights_hidden_output) + self.bias_output)\n",
    "        return self.output_layer\n",
    "    \n",
    "    def backward(self, X, y_true, learning_rate):\n",
    "        loss_gradient = self.output_layer - y_true\n",
    "        d_output = loss_gradient * sigmoid_derivative(self.output_layer)\n",
    "        \n",
    "        hidden_output_gradient = np.dot(self.hidden_layer.T, d_output)\n",
    "        bias_output_gradient = np.sum(d_output, axis=0)\n",
    "        \n",
    "        hidden_error = np.dot(d_output, self.weights_hidden_output.T) * sigmoid_derivative(self.hidden_layer)\n",
    "        input_hidden_gradient = np.dot(X.T, hidden_error)\n",
    "        bias_hidden_gradient = np.sum(hidden_error, axis=0)\n",
    "        \n",
    "        self.weights_hidden_output -= learning_rate * hidden_output_gradient\n",
    "        self.bias_output -= learning_rate * bias_output_gradient\n",
    "        self.weights_input_hidden -= learning_rate * input_hidden_gradient\n",
    "        self.bias_hidden -= learning_rate * bias_hidden_gradient\n",
    "\n",
    "# Initialize and train the neural network\n",
    "nn = SimpleNeuralNetwork()\n",
    "epochs = 300000\n",
    "learning_rate = 0.1\n",
    "losses = []\n",
    "predictions = []\n",
    "\n",
    "# Train and record data for plotting\n",
    "for epoch in range(epochs):\n",
    "    y_pred = nn.forward(X)\n",
    "    nn.backward(X, y, learning_rate)\n",
    "    losses.append(mse_loss(y, y_pred))\n",
    "    if epoch % 50000 == 0:\n",
    "        predictions.append((epoch, y_pred))\n",
    "\n",
    "# Plot the input data\n",
    "plt.figure(figsize=(8, 6))\n",
    "for i in range(len(X)):\n",
    "    color = 'blue' if y[i] == 0 else 'red'\n",
    "    plt.scatter(X[i, 0], X[i, 1], c=color, label=f\"Point {i}\" if i < 2 else None)\n",
    "plt.title(\"Input Data (XOR Problem)\")\n",
    "plt.xlabel(\"Input 1\")\n",
    "plt.ylabel(\"Input 2\")\n",
    "plt.legend()\n",
    "plt.grid()\n",
    "plt.show()\n",
    "\n",
    "# Plot the loss over iterations\n",
    "plt.figure(figsize=(10, 6))\n",
    "plt.plot(losses, label=\"Loss\")\n",
    "plt.title(\"Loss vs. Iterations\")\n",
    "plt.xlabel(\"Iteration\")\n",
    "plt.ylabel(\"Loss\")\n",
    "plt.legend()\n",
    "plt.grid()\n",
    "plt.show()\n",
    "\n",
    "# Plot predictions evolution\n",
    "fig, axes = plt.subplots(1, len(predictions), figsize=(20, 5))\n",
    "for i, (epoch, pred) in enumerate(predictions):\n",
    "    axes[i].bar(range(len(pred)), pred.flatten(), color='orange', alpha=0.7)\n",
    "    axes[i].set_title(f\"Epoch {epoch}\")\n",
    "    axes[i].set_ylim(0, 1)\n",
    "    axes[i].set_xticks(range(len(pred)))\n",
    "    axes[i].set_xticklabels([f\"Point {j}\" for j in range(len(pred))])\n",
    "    axes[i].set_ylabel(\"Prediction\")\n",
    "    axes[i].grid()\n",
    "plt.suptitle(\"Prediction Improvement Over Time\")\n",
    "plt.tight_layout()\n",
    "plt.show()\n"
   ]
  },
  {
   "cell_type": "code",
   "execution_count": 3,
   "id": "ff6e96d0",
   "metadata": {
    "pycharm": {
     "name": "#%%\n"
    }
   },
   "outputs": [
    {
     "ename": "NameError",
     "evalue": "name 'PCA' is not defined",
     "output_type": "error",
     "traceback": [
      "\u001B[0;31m---------------------------------------------------------------------------\u001B[0m",
      "\u001B[0;31mNameError\u001B[0m                                 Traceback (most recent call last)",
      "Input \u001B[0;32mIn [3]\u001B[0m, in \u001B[0;36m<cell line: 17>\u001B[0;34m()\u001B[0m\n\u001B[1;32m     14\u001B[0m     losses_subset\u001B[38;5;241m.\u001B[39mappend(losses[epoch])\n\u001B[1;32m     16\u001B[0m \u001B[38;5;66;03m# Perform PCA to reduce dimensionality to 3\u001B[39;00m\n\u001B[0;32m---> 17\u001B[0m pca \u001B[38;5;241m=\u001B[39m \u001B[43mPCA\u001B[49m(n_components\u001B[38;5;241m=\u001B[39m\u001B[38;5;241m3\u001B[39m)\n\u001B[1;32m     18\u001B[0m weights_pca \u001B[38;5;241m=\u001B[39m pca\u001B[38;5;241m.\u001B[39mfit_transform(weights_flat)\n\u001B[1;32m     20\u001B[0m \u001B[38;5;66;03m# Plot the loss landscape in 3D\u001B[39;00m\n",
      "\u001B[0;31mNameError\u001B[0m: name 'PCA' is not defined"
     ]
    }
   ],
   "source": [
    "# Ensure the number of PCA points matches the number of losses\n",
    "weights_flat = []\n",
    "losses_subset = []\n",
    "\n",
    "# Extract weights and corresponding losses at intervals\n",
    "for epoch_idx, (epoch, _) in enumerate(predictions):\n",
    "    weights = np.concatenate([\n",
    "        nn.weights_input_hidden.flatten(),\n",
    "        nn.weights_hidden_output.flatten(),\n",
    "        nn.bias_hidden.flatten(),\n",
    "        nn.bias_output.flatten()\n",
    "    ])\n",
    "    weights_flat.append(weights)\n",
    "    losses_subset.append(losses[epoch])\n",
    "\n",
    "# Perform PCA to reduce dimensionality to 3\n",
    "pca = PCA(n_components=3)\n",
    "weights_pca = pca.fit_transform(weights_flat)\n",
    "\n",
    "# Plot the loss landscape in 3D\n",
    "fig = plt.figure(figsize=(12, 8))\n",
    "ax = fig.add_subplot(111, projection='3d')\n",
    "sc = ax.scatter(\n",
    "    weights_pca[:, 0], weights_pca[:, 1], weights_pca[:, 2],\n",
    "    c=losses_subset, cmap='viridis', s=50, marker='o'\n",
    ")\n",
    "ax.set_title(\"Loss Landscape with PCA-Reduced Weights\")\n",
    "ax.set_xlabel(\"PCA Component 1\")\n",
    "ax.set_ylabel(\"PCA Component 2\")\n",
    "ax.set_zlabel(\"PCA Component 3\")\n",
    "cbar = plt.colorbar(sc, pad=0.1)\n",
    "cbar.set_label(\"Loss\")\n",
    "plt.show()\n"
   ]
  },
  {
   "cell_type": "code",
   "execution_count": null,
   "id": "4c373730",
   "metadata": {
    "pycharm": {
     "name": "#%%\n"
    }
   },
   "outputs": [],
   "source": [
    "# Match the number of losses to the number of PCA-transformed points\n",
    "weights_pca = weights_pca[:len(losses_subset)]\n",
    "\n",
    "# Plot the corrected loss landscape in 3D\n",
    "fig = plt.figure(figsize=(12, 8))\n",
    "ax = fig.add_subplot(111, projection='3d')\n",
    "sc = ax.scatter(\n",
    "    weights_pca[:, 0], weights_pca[:, 1], weights_pca[:, 2],\n",
    "    c=losses_subset, cmap='viridis', s=50, marker='o'\n",
    ")\n",
    "ax.set_title(\"Loss Landscape with PCA-Reduced Weights\")\n",
    "ax.set_xlabel(\"PCA Component 1\")\n",
    "ax.set_ylabel(\"PCA Component 2\")\n",
    "ax.set_zlabel(\"PCA Component 3\")\n",
    "cbar = plt.colorbar(sc, pad=0.1)\n",
    "cbar.set_label(\"Loss\")\n",
    "plt.show()\n"
   ]
  },
  {
   "cell_type": "code",
   "execution_count": 1,
   "id": "998bde77",
   "metadata": {
    "pycharm": {
     "name": "#%%\n"
    }
   },
   "outputs": [
    {
     "ename": "NameError",
     "evalue": "name 'np' is not defined",
     "output_type": "error",
     "traceback": [
      "\u001B[0;31m---------------------------------------------------------------------------\u001B[0m",
      "\u001B[0;31mNameError\u001B[0m                                 Traceback (most recent call last)",
      "Input \u001B[0;32mIn [1]\u001B[0m, in \u001B[0;36m<cell line: 31>\u001B[0;34m()\u001B[0m\n\u001B[1;32m     28\u001B[0m         \u001B[38;5;28mself\u001B[39m\u001B[38;5;241m.\u001B[39mbias_hidden \u001B[38;5;241m-\u001B[39m\u001B[38;5;241m=\u001B[39m learning_rate \u001B[38;5;241m*\u001B[39m bias_hidden_gradient\n\u001B[1;32m     30\u001B[0m \u001B[38;5;66;03m# Initialize the network\u001B[39;00m\n\u001B[0;32m---> 31\u001B[0m nn \u001B[38;5;241m=\u001B[39m \u001B[43mSimpleNeuralNetwork\u001B[49m\u001B[43m(\u001B[49m\u001B[43m)\u001B[49m\n\u001B[1;32m     33\u001B[0m \u001B[38;5;66;03m# Set up training variables\u001B[39;00m\n\u001B[1;32m     34\u001B[0m epochs \u001B[38;5;241m=\u001B[39m \u001B[38;5;241m100000\u001B[39m\n",
      "Input \u001B[0;32mIn [1]\u001B[0m, in \u001B[0;36mSimpleNeuralNetwork.__init__\u001B[0;34m(self)\u001B[0m\n\u001B[1;32m      3\u001B[0m \u001B[38;5;28;01mdef\u001B[39;00m \u001B[38;5;21m__init__\u001B[39m(\u001B[38;5;28mself\u001B[39m):\n\u001B[0;32m----> 4\u001B[0m     \u001B[38;5;28mself\u001B[39m\u001B[38;5;241m.\u001B[39mweights_input_hidden \u001B[38;5;241m=\u001B[39m \u001B[43mnp\u001B[49m\u001B[38;5;241m.\u001B[39mrandom\u001B[38;5;241m.\u001B[39mrandn(\u001B[38;5;241m2\u001B[39m, \u001B[38;5;241m2\u001B[39m)\n\u001B[1;32m      5\u001B[0m     \u001B[38;5;28mself\u001B[39m\u001B[38;5;241m.\u001B[39mbias_hidden \u001B[38;5;241m=\u001B[39m np\u001B[38;5;241m.\u001B[39mrandom\u001B[38;5;241m.\u001B[39mrandn(\u001B[38;5;241m2\u001B[39m)\n\u001B[1;32m      6\u001B[0m     \u001B[38;5;28mself\u001B[39m\u001B[38;5;241m.\u001B[39mweights_hidden_output \u001B[38;5;241m=\u001B[39m np\u001B[38;5;241m.\u001B[39mrandom\u001B[38;5;241m.\u001B[39mrandn(\u001B[38;5;241m2\u001B[39m, \u001B[38;5;241m1\u001B[39m)\n",
      "\u001B[0;31mNameError\u001B[0m: name 'np' is not defined"
     ]
    }
   ],
   "source": [
    "# Re-train the neural network and record weights and losses for the entire learning process\n",
    "class SimpleNeuralNetwork:\n",
    "    def __init__(self):\n",
    "        self.weights_input_hidden = np.random.randn(2, 2)\n",
    "        self.bias_hidden = np.random.randn(2)\n",
    "        self.weights_hidden_output = np.random.randn(2, 1)\n",
    "        self.bias_output = np.random.randn(1)\n",
    "    \n",
    "    def forward(self, X):\n",
    "        self.hidden_layer = sigmoid(np.dot(X, self.weights_input_hidden) + self.bias_hidden)\n",
    "        self.output_layer = sigmoid(np.dot(self.hidden_layer, self.weights_hidden_output) + self.bias_output)\n",
    "        return self.output_layer\n",
    "    \n",
    "    def backward(self, X, y_true, learning_rate):\n",
    "        loss_gradient = self.output_layer - y_true\n",
    "        d_output = loss_gradient * sigmoid_derivative(self.output_layer)\n",
    "        \n",
    "        hidden_output_gradient = np.dot(self.hidden_layer.T, d_output)\n",
    "        bias_output_gradient = np.sum(d_output, axis=0)\n",
    "        \n",
    "        hidden_error = np.dot(d_output, self.weights_hidden_output.T) * sigmoid_derivative(self.hidden_layer)\n",
    "        input_hidden_gradient = np.dot(X.T, hidden_error)\n",
    "        bias_hidden_gradient = np.sum(hidden_error, axis=0)\n",
    "        \n",
    "        self.weights_hidden_output -= learning_rate * hidden_output_gradient\n",
    "        self.bias_output -= learning_rate * bias_output_gradient\n",
    "        self.weights_input_hidden -= learning_rate * input_hidden_gradient\n",
    "        self.bias_hidden -= learning_rate * bias_hidden_gradient\n",
    "\n",
    "# Initialize the network\n",
    "nn = SimpleNeuralNetwork()\n",
    "\n",
    "# Set up training variables\n",
    "epochs = 100000\n",
    "learning_rate = 0.1\n",
    "\n",
    "# Collect weights and losses\n",
    "weights_flat = []\n",
    "losses = []\n",
    "\n",
    "for epoch in range(epochs):\n",
    "    y_pred = nn.forward(X)\n",
    "    nn.backward(X, y, learning_rate)\n",
    "    \n",
    "    # Record the current weights and loss\n",
    "    weights = np.concatenate([\n",
    "        nn.weights_input_hidden.flatten(),\n",
    "        nn.weights_hidden_output.flatten(),\n",
    "        nn.bias_hidden.flatten(),\n",
    "        nn.bias_output.flatten()\n",
    "    ])\n",
    "    weights_flat.append(weights)\n",
    "    losses.append(mse_loss(y, y_pred))\n",
    "\n",
    "# Perform PCA on the recorded weights\n",
    "pca = PCA(n_components=3)\n",
    "weights_pca = pca.fit_transform(weights_flat)\n",
    "\n",
    "# Use iteration indices as colors\n",
    "iterations = np.arange(len(weights_pca))\n",
    "\n",
    "# Plot the 3D loss landscape\n",
    "fig = plt.figure(figsize=(12, 8))\n",
    "ax = fig.add_subplot(111, projection='3d')\n",
    "sc = ax.scatter(\n",
    "    weights_pca[:, 0], weights_pca[:, 1], weights_pca[:, 2],\n",
    "    c=iterations, cmap='viridis', s=50, marker='o'\n",
    ")\n",
    "ax.set_title(\"Loss Landscape with PCA-Reduced Weights\")\n",
    "ax.set_xlabel(\"PCA Component 1\")\n",
    "ax.set_ylabel(\"PCA Component 2\")\n",
    "ax.set_zlabel(\"PCA Component 3\")\n",
    "cbar = plt.colorbar(sc, pad=0.1)\n",
    "cbar.set_label(\"Loss\")\n",
    "plt.show()\n"
   ]
  },
  {
   "cell_type": "code",
   "execution_count": 17,
   "id": "31d64acf",
   "metadata": {
    "pycharm": {
     "name": "#%%\n"
    }
   },
   "outputs": [],
   "source": [
    "%matplotlib qt"
   ]
  },
  {
   "cell_type": "code",
   "execution_count": 14,
   "id": "0d342a29",
   "metadata": {
    "pycharm": {
     "name": "#%%\n"
    }
   },
   "outputs": [
    {
     "data": {
      "text/plain": [
       "(6, 3)"
      ]
     },
     "execution_count": 14,
     "metadata": {},
     "output_type": "execute_result"
    }
   ],
   "source": [
    "weights_pca.shape"
   ]
  },
  {
   "cell_type": "code",
   "execution_count": null,
   "id": "a83666a3",
   "metadata": {
    "pycharm": {
     "name": "#%%\n"
    }
   },
   "outputs": [],
   "source": []
  }
 ],
 "metadata": {
  "kernelspec": {
   "display_name": "my_base",
   "language": "python",
   "name": "python3"
  },
  "language_info": {
   "codemirror_mode": {
    "name": "ipython",
    "version": 3
   },
   "file_extension": ".py",
   "mimetype": "text/x-python",
   "name": "python",
   "nbconvert_exporter": "python",
   "pygments_lexer": "ipython3",
   "version": "3.8.16"
  }
 },
 "nbformat": 4,
 "nbformat_minor": 5
}