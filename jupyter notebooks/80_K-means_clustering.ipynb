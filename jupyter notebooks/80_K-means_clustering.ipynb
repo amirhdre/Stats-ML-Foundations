Here is the JSON representation of the Jupyter Notebook with detailed explanation and code about k-means clustering:

```json
{
  "cells": [
    {
      "cell_type": "markdown",
      "metadata": {},
      "source": [
        "# K-Means Clustering"
      ]
    },
    {
      "cell_type": "markdown",
      "metadata": {},
      "source": [
        "## Introduction\n",
        "K-Means Clustering is a type of unsupervised learning that is used when you have unlabeled data (i.e., data without defined categories or groups). The algorithm works iteratively to assign each data point to one of K groups based on the features that are provided. Data points are clustered based on feature similarity. The results of the K-Means Clustering algorithm are:\n",
        "1. The centroids of the K clusters, which can be used to label new data\n",
        "2. Labels for the training data (each data point is assigned to a single cluster)"
      ]
    },
    {
      "cell_type": "markdown",
      "metadata": {},
      "source": [
        "## Steps to perform K-Means Clustering\n",
        "1. Initialize centroids by first shuffling the dataset and then randomly selecting K data points for the centroids without replacement.\n",
        "2. Keep iterating until there is no change to the centroids. i.e assignment of data points to clusters isn’t changing.\n",
        "3. Compute the sum of the squared distance between data points and all centroids.\n",
        "4. Assign each data point to the closest cluster (centroid).\n",
        "5. Compute the centroids for the clusters by taking the average of the all data points that belong to each cluster."
      ]
    },
    {
      "cell_type": "markdown",
      "metadata": {},
      "source": [
        "## Libraries Needed"
      ]
    },
    {
      "cell_type": "code",
      "execution_count": null,
      "metadata": {},
      "outputs": [],
      "source": [
        "import numpy as np\n",
        "import matplotlib.pyplot as plt\n",
        "from sklearn.cluster import KMeans\n",
        "from sklearn.datasets import make_blobs\n",
        "from sklearn.metrics import silhouette_score"
      ]
    },
    {
      "cell_type": "markdown",
      "metadata": {},
      "source": [
        "## Create a Sample Dataset"
      ]
    },
    {
      "cell_type": "code",
      "execution_count": null,
      "metadata": {},
      "outputs": [],
      "source": [
        "# Create a sample dataset with 200 data points and 4 centers\n",
        "data, labels = make_blobs(n_samples=200, centers=4)\n",
        "\n",
        "# Visualize the data\n",
        "plt.scatter(data[:,0], data[:,1], c=labels)\n",
        "plt.show()"
      ]
    },
    {
      "cell_type": "markdown",
      "metadata": {},
      "source": [
        "## K-Means Clustering Model"
      ]
    },
    {
      "cell_type": "code",
      "execution_count": null,
      "metadata": {},
      "outputs": [],
      "source": [
        "# Create a KMeans clustering model\n",
        "kmeans = KMeans(n_clusters=4)\n",
        "\n",
        "# Fit the model to the data\n",
        "kmeans.fit(data)\n",
        "\n",
        "# Get the cluster assignments for each data point\n",
        "assignments = kmeans.labels_\n",
        "\n",
        "# Visualize the data\n",
        "plt.scatter(data[:,0], data[:,1], c=assignments)\n",
        "plt.show()"
      ]
    },
    {
      "cell_type": "markdown",
      "metadata": {},
      "source": [
        "## Optimal Number of Clusters"
      ]
    },
    {
      "cell_type": "code",
      "execution_count": null,
      "metadata": {},
      "outputs": [],
      "source": [
        "# List to hold the silhouette scores\n",
        "silhouette_scores = []\n",
        "\n",
        "# Iterate over different values of K\n",
        "for i in range(2, 11):\n",
        "    kmeans = KMeans(n_clusters=i)\n",
        "    kmeans.fit(data)\n",
        "    assignments = kmeans.labels_\n",
        "    score = silhouette_score(data, assignments)\n",
        "    silhouette_scores.append(score)\n",
        "\n",
        "# Plot the silhouette scores\n",
        "plt.plot(range(2, 11), silhouette_scores, 'bo-')\n",
        "plt.title('Silhouette Score vs Number of Clusters')\n",
        "plt.xlabel('Number of Clusters')\n",
        "plt.ylabel('Silhouette Score')\n",
        "plt.show()"
      ]
    },
    {
      "cell_type": "markdown",
      "metadata": {},
      "source": [
        "The elbow in the plot, that is the point of inflection, indicates the optimal number of clusters for the dataset."
      ]
    }
  ],
  "metadata": {
    "kernelspec": {
      "display_name": "Python 3",
      "language": "python",
      "name": "python3"
    },
    "language_info": {
      "codemirror_mode": {
        "name": "ipython",
        "version": 3
      },
      "file_extension": ".py",
      "mimetype": "text/x-python",
      "name": "python",
      "nbconvert_exporter": "python",
      "pygments_lexer": "ipython3",
      "version": "3.7.3"
    }
  },
  "nbformat": 4,
  "nbformat_minor": 4
}
```