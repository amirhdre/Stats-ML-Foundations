{
  "cells": [
    {
      "cell_type": "markdown",
      "metadata": {},
      "source": [
        "# Principal Component Analysis (PCA) using Singular Value Decomposition (SVD)"
      ]
    },
    {
      "cell_type": "markdown",
      "metadata": {},
      "source": [
        "In this notebook, we are going to walk through Principal Component Analysis (PCA) using Singular Value Decomposition (SVD). PCA is a statistical technique used for identifying patterns in data and expressing the data in a way which highlight their similarities and differences. SVD is a factorization method used to reduce a matrix into simpler parts which makes it easier to calculate. \n",
        "\n",
        "The goal is to provide deeper insights and understanding of the PCA technique using SVD. This notebook is based on the StatQuest video titled '29_StatQuest: Principal Component Analysis (PCA), Step-by-Step' by Josh Starmer."
      ]
    },
    {
      "cell_type": "markdown",
      "metadata": {},
      "source": [
        "## Importing the necessary libraries"
      ]
    },
    {
      "cell_type": "code",
      "execution_count": null,
      "metadata": {},
      "outputs": [],
      "source": [
        "import numpy as np\n",
        "import matplotlib.pyplot as plt\n",
        "from sklearn.decomposition import PCA\n",
        "from sklearn.preprocessing import StandardScaler\n",
        "import pandas as pd"
      ]
    },
    {
      "cell_type": "markdown",
      "metadata": {},
      "source": [
        "## Creating a Simple Dataset"
      ]
    },
    {
      "cell_type": "code",
      "execution_count": null,
      "metadata": {},
      "outputs": [],
      "source": [
        "data = {'Gene 1': [10, 11, 8, 3, 2, 1],\n",
        "        'Gene 2': [6, 4, 5, 3, 2.8, 1]}\n",
        "\n",
        "df = pd.DataFrame(data, columns=['Gene 1', 'Gene 2'], index=['Mouse 1', 'Mouse 2', 'Mouse 3', 'Mouse 4', 'Mouse 5', 'Mouse 6'])\n",
        "df"
      ]
    },
    {
      "cell_type": "markdown",
      "metadata": {},
      "source": [
        "## Visualizing the Dataset"
      ]
    },
    {
      "cell_type": "code",
      "execution_count": null,
      "metadata": {},
      "outputs": [],
      "source": [
        "plt.scatter(df['Gene 1'], df['Gene 2'])\n",
        "plt.xlabel('Gene 1')\n",
        "plt.ylabel('Gene 2')\n",
        "plt.title('Scatter plot of Gene 1 vs Gene 2')\n",
        "plt.show()"
      ]
    },
    {
      "cell_type": "markdown",
      "metadata": {},
      "source": [
        "## PCA using SVD"
      ]
    },
    {
      "cell_type": "code",
      "execution_count": null,
      "metadata": {},
      "outputs": [],
      "source": [
        "# Scaling the data so that each feature has a single unit variance.\n",
        "scaler = StandardScaler()\n",
        "df_scaled = scaler.fit_transform(df)\n",
        "\n",
        "# Applying PCA.\n",
        "pca = PCA(n_components=2)\n",
        "principalComponents = pca.fit_transform(df_scaled)\n",
        "\n",
        "principalDf = pd.DataFrame(data = principalComponents, columns = ['principal component 1', 'principal component 2'], index=['Mouse 1', 'Mouse 2', 'Mouse 3', 'Mouse 4', 'Mouse 5', 'Mouse 6'])\n",
        "principalDf"
      ]
    },
    {
      "cell_type": "markdown",
      "metadata": {},
      "source": [
        "## Visualizing the PCA plot"
      ]
    },
    {
      "cell_type": "code",
      "execution_count": null,
      "metadata": {},
      "outputs": [],
      "source": [
        "plt.scatter(principalDf['principal component 1'], principalDf['principal component 2'])\n",
        "plt.xlabel('Principal Component 1')\n",
        "plt.ylabel('Principal Component 2')\n",
        "plt.title('2 Component PCA')\n",
        "plt.show()"
      ]
    },
    {
      "cell_type": "markdown",
      "metadata": {},
      "source": [
        "## Eigenvalues and Explained Variance"
      ]
    },
    {
      "cell_type": "code",
      "execution_count": null,
      "metadata": {},
      "outputs": [],
      "source": [
        "print('Eigenvalues or explained variance: ', pca.explained_variance_)"
      ]
    },
    {
      "cell_type": "markdown",
      "metadata": {},
      "source": [
        "## Eigenvectors or Principal Components"
      ]
    },
    {
      "cell_type": "code",
      "execution_count": null,
      "metadata": {},
      "outputs": [],
      "source": [
        "print('Eigenvectors or principal components: ', pca.components_)"
      ]
    },
    {
      "cell_type": "markdown",
      "metadata": {},
      "source": [
        "## Scree plot of the Principal Components"
      ]
    },
    {
      "cell_type": "code",
      "execution_count": null,
      "metadata": {},
      "outputs": [],
      "source": [
        "explained_variance = pca.explained_variance_ratio_\n",
        "plt.plot(np.cumsum(explained_variance))\n",
        "plt.title('Scree Plot')\n",
        "plt.xlabel('Number of Principal Components')\n",
        "plt.ylabel('Cumulative Explained Variance')\n",
        "plt.show()"
      ]
    },
    {
      "cell_type": "markdown",
      "metadata": {},
      "source": [
        "## Conclusion"
      ]
    },
    {
      "cell_type": "markdown",
      "metadata": {},
      "source": [
        "In this notebook, we went through the steps of Principal Component Analysis (PCA) using Singular Value Decomposition (SVD). We started by creating a simple dataset and visualizing it. We then applied PCA to the dataset and visualized the PCA plot. We also derived the eigenvalues and eigenvectors and visualized the Scree plot of the Principal Components."
      ]
    }
  ],
  "metadata": {
    "kernelspec": {
      "display_name": "Python 3",
      "language": "python",
      "name": "python3"
    },
    "language_info": {
      "codemirror_mode": {
        "name": "ipython",
        "version": 3
      },
      "file_extension": ".py",
      "mimetype": "text/x-python",
      "name": "python",
      "nbconvert_exporter": "python",
      "pygments_lexer": "ipython3",
      "version": "3.8.8"
    }
  },
  "nbformat": 4,
  "nbformat_minor": 5
}
