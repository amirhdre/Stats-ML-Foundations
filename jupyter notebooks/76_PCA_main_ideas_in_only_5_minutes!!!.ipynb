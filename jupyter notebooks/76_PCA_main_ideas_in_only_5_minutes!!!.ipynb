{
  "cells": [
    {
      "cell_type": "markdown",
      "metadata": {},
      "source": [
        "# Principle Component Analysis (PCA) in 5 Minutes\n",
        "\n",
        "In this notebook, we will explore the main concepts behind Principle Component Analysis (PCA) as explained in the video by StatQuest. PCA is a powerful tool used in machine learning and data visualization to reduce the dimensionality of our data, making it easier to understand and analyze.\n",
        "\n",
        "We will demonstrate PCA using a simplified example where we have cells (or any other entities like people, cars, cities etc.) with certain characteristics. The aim is to identify potential groups of cells based on these characteristics. We will use Python's sklearn library to perform PCA.\n",
        "\n",
        "Let's start by importing the necessary libraries."
      ]
    },
    {
      "cell_type": "code",
      "execution_count": null,
      "metadata": {},
      "outputs": [],
      "source": [
        "import numpy as np\n",
        "import pandas as pd\n",
        "import matplotlib.pyplot as plt\n",
        "from sklearn.decomposition import PCA\n",
        "from sklearn.preprocessing import StandardScaler"
      ]
    },
    {
      "cell_type": "markdown",
      "metadata": {},
      "source": [
        "Let's create a synthetic dataset representing the gene activity in cells."
      ]
    },
    {
      "cell_type": "code",
      "execution_count": null,
      "metadata": {},
      "outputs": [],
      "source": [
        "np.random.seed(0)\n",
        "gene_activity = np.random.rand(100,3) # 100 cells with 3 genes each\n",
        "df = pd.DataFrame(data=gene_activity, columns=['Gene1', 'Gene2', 'Gene3'])"
      ]
    },
    {
      "cell_type": "markdown",
      "metadata": {},
      "source": [
        "We apply PCA to this 3-dimensional data to reduce it to 2 dimensions, which can be easily visualized."
      ]
    },
    {
      "cell_type": "code",
      "execution_count": null,
      "metadata": {},
      "outputs": [],
      "source": [
        "scaler = StandardScaler()\n",
        "scaled_data = scaler.fit_transform(df)\n",
        "\n",
        "pca = PCA(n_components=2) # we want to reduce to 2 dimensions\n",
        "principalComponents = pca.fit_transform(scaled_data)\n",
        "principalDf = pd.DataFrame(data=principalComponents, columns=['PC1', 'PC2'])"
      ]
    },
    {
      "cell_type": "markdown",
      "metadata": {},
      "source": [
        "We can now visualize the cells in a 2-dimensional plot, where each point represents a cell. Cells that are similar in gene activity will be closer together."
      ]
    },
    {
      "cell_type": "code",
      "execution_count": null,
      "metadata": {},
      "outputs": [],
      "source": [
        "fig, ax = plt.subplots()\n",
        "ax.scatter(principalDf['PC1'], principalDf['PC2'])\n",
        "ax.set_xlabel('PC1')\n",
        "ax.set_ylabel('PC2')\n",
        "ax.set_title('PCA Plot')\n",
        "plt.show()"
      ]
    },
    {
      "cell_type": "markdown",
      "metadata": {},
      "source": [
        "PCA reduces the dimensionality of our data by creating new axes (principal components) that capture the most variation in the data. The first principal component (PC1) captures the most variation, and each subsequent component captures less variation.\n",
        "\n",
        "In this example, we reduced our 3-dimensional data to 2 dimensions, but PCA can be used to reduce data from any number of dimensions to any lower number of dimensions. This makes PCA a powerful tool for visualizing and understanding high-dimensional data.\n",
        "\n",
        "PCA is just one of many dimension reduction techniques. Other methods include heat maps, t-SNE plots, and multiple dimension scaling plots. These methods can be used in combination to provide different perspectives on the same data."
      ]
    },
    {
      "cell_type": "code",
      "execution_count": null,
      "metadata": {},
      "outputs": [],
      "source": [
        "# end of notebook"
      ]
    }
  ],
  "metadata": {
    "kernelspec": {
      "display_name": "Python 3",
      "language": "python",
      "name": "python3"
    },
    "language_info": {
      "codemirror_mode": {
        "name": "ipython",
        "version": 3
      },
      "file_extension": ".py",
      "mimetype": "text/x-python",
      "name": "python",
      "nbconvert_exporter": "python",
      "pygments_lexer": "ipython3",
      "version": "3.8.5"
    }
  },
  "nbformat": 4,
  "nbformat_minor": 4
}
